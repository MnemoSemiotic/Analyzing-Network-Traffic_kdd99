{
 "cells": [
  {
   "cell_type": "code",
   "execution_count": 549,
   "metadata": {},
   "outputs": [
    {
     "data": {
      "text/html": [
       "<style>\n",
       "table {float:left}\n",
       "</style>"
      ],
      "text/plain": [
       "<IPython.core.display.HTML object>"
      ]
     },
     "metadata": {},
     "output_type": "display_data"
    }
   ],
   "source": [
    "%%html\n",
    "<style>\n",
    "table {float:left}\n",
    "</style>"
   ]
  },
  {
   "cell_type": "markdown",
   "metadata": {},
   "source": [
    "# Analyzing-Network-Traffic_kdd99 - EDA / Data Cleaning"
   ]
  },
  {
   "cell_type": "markdown",
   "metadata": {},
   "source": [
    "Workflow:  using Jupyter notebooks as notes, along with a python class where functions will be written."
   ]
  },
  {
   "cell_type": "code",
   "execution_count": 550,
   "metadata": {},
   "outputs": [
    {
     "name": "stdout",
     "output_type": "stream",
     "text": [
      "<module 'src.plotting_functions' from '/Users/tbot/Dropbox/0_galvanize/0_TODAY/Analyzing-Network-Traffic_kdd99/src/plotting_functions.py'>\n",
      "<module 'src.analytics' from '/Users/tbot/Dropbox/0_galvanize/0_TODAY/Analyzing-Network-Traffic_kdd99/src/analytics.py'>\n"
     ]
    }
   ],
   "source": [
    "# my python files\n",
    "import src.analytics as tics\n",
    "import src.plotting_functions as pltfuncs\n",
    "import src.transforms as trans\n",
    "\n",
    "from matplotlib import pyplot as plt\n",
    "import seaborn as sns\n",
    "import numpy as np\n",
    "import scipy.stats as stats\n",
    "from scipy.stats import kendalltau\n",
    "print(pltfuncs)\n",
    "print(tics)"
   ]
  },
  {
   "cell_type": "markdown",
   "metadata": {},
   "source": [
    "1- create gh repo\n",
    "\t- get .gitignore\n",
    "\n",
    "2- create Jupyter Notebook for data\n",
    "\n",
    "3- create a python class and import it into jupyter\n",
    "\n",
    "--- commit"
   ]
  },
  {
   "cell_type": "markdown",
   "metadata": {},
   "source": [
    "4- pull down the data into the repo\n",
    "    - modify gitignore to ignore the data\n",
    "--- commit"
   ]
  },
  {
   "cell_type": "markdown",
   "metadata": {},
   "source": [
    "### write function to use bash to create samples from the data set\n",
    "\n",
    "-- commit"
   ]
  },
  {
   "cell_type": "code",
   "execution_count": 551,
   "metadata": {},
   "outputs": [],
   "source": [
    "# On OSX requires brew install coreutils, using gshuf instead of shuf\n",
    "sample_name = 'data/sample_random_subset.csv'\n",
    "\n",
    "tics.create_random_samples('data/kddcup.data', 10000, sample_name)"
   ]
  },
  {
   "cell_type": "markdown",
   "metadata": {},
   "source": [
    "### Get some Initial metrics"
   ]
  },
  {
   "cell_type": "code",
   "execution_count": 552,
   "metadata": {},
   "outputs": [],
   "source": [
    "# more imports\n",
    "%matplotlib inline\n",
    "import pandas as pd\n",
    "import numpy as np\n",
    "import matplotlib.pyplot as plt"
   ]
  },
  {
   "cell_type": "markdown",
   "metadata": {},
   "source": [
    "##### As the name list that accompanies the data set did not have all the field names, I cross referenced with a `sql` file at https://github.com/myui/hivemall/wiki/KDD-cup-1999-network-intrusion-dataset-%231 .  This matched the order displayed with the data set as well as with other tables out on the webs."
   ]
  },
  {
   "cell_type": "code",
   "execution_count": 553,
   "metadata": {},
   "outputs": [
    {
     "data": {
      "text/html": [
       "<div>\n",
       "<style scoped>\n",
       "    .dataframe tbody tr th:only-of-type {\n",
       "        vertical-align: middle;\n",
       "    }\n",
       "\n",
       "    .dataframe tbody tr th {\n",
       "        vertical-align: top;\n",
       "    }\n",
       "\n",
       "    .dataframe thead th {\n",
       "        text-align: right;\n",
       "    }\n",
       "</style>\n",
       "<table border=\"1\" class=\"dataframe\">\n",
       "  <thead>\n",
       "    <tr style=\"text-align: right;\">\n",
       "      <th></th>\n",
       "      <th>duration</th>\n",
       "      <th>protocol_type</th>\n",
       "      <th>service</th>\n",
       "      <th>flag</th>\n",
       "      <th>src_bytes</th>\n",
       "      <th>dst_bytes</th>\n",
       "      <th>land</th>\n",
       "      <th>wrong_fragment</th>\n",
       "      <th>urgent</th>\n",
       "      <th>hot</th>\n",
       "      <th>...</th>\n",
       "      <th>dst_host_srv_count</th>\n",
       "      <th>dst_host_same_srv_rate</th>\n",
       "      <th>dst_host_diff_srv_rate</th>\n",
       "      <th>dst_host_same_src_port_rate</th>\n",
       "      <th>dst_host_srv_diff_host_rate</th>\n",
       "      <th>dst_host_serror_rate</th>\n",
       "      <th>dst_host_srv_serror_rate</th>\n",
       "      <th>dst_host_rerror_rate</th>\n",
       "      <th>dst_host_srv_rerror_rate</th>\n",
       "      <th>label</th>\n",
       "    </tr>\n",
       "  </thead>\n",
       "  <tbody>\n",
       "    <tr>\n",
       "      <th>0</th>\n",
       "      <td>0</td>\n",
       "      <td>icmp</td>\n",
       "      <td>ecr_i</td>\n",
       "      <td>SF</td>\n",
       "      <td>1032</td>\n",
       "      <td>0</td>\n",
       "      <td>0</td>\n",
       "      <td>0</td>\n",
       "      <td>0</td>\n",
       "      <td>0</td>\n",
       "      <td>...</td>\n",
       "      <td>255</td>\n",
       "      <td>1.00</td>\n",
       "      <td>0.00</td>\n",
       "      <td>1.00</td>\n",
       "      <td>0.0</td>\n",
       "      <td>0.0</td>\n",
       "      <td>0.0</td>\n",
       "      <td>0.0</td>\n",
       "      <td>0.0</td>\n",
       "      <td>smurf.</td>\n",
       "    </tr>\n",
       "    <tr>\n",
       "      <th>1</th>\n",
       "      <td>0</td>\n",
       "      <td>tcp</td>\n",
       "      <td>private</td>\n",
       "      <td>S0</td>\n",
       "      <td>0</td>\n",
       "      <td>0</td>\n",
       "      <td>0</td>\n",
       "      <td>0</td>\n",
       "      <td>0</td>\n",
       "      <td>0</td>\n",
       "      <td>...</td>\n",
       "      <td>11</td>\n",
       "      <td>0.04</td>\n",
       "      <td>0.07</td>\n",
       "      <td>0.00</td>\n",
       "      <td>0.0</td>\n",
       "      <td>1.0</td>\n",
       "      <td>1.0</td>\n",
       "      <td>0.0</td>\n",
       "      <td>0.0</td>\n",
       "      <td>neptune.</td>\n",
       "    </tr>\n",
       "    <tr>\n",
       "      <th>2</th>\n",
       "      <td>0</td>\n",
       "      <td>icmp</td>\n",
       "      <td>ecr_i</td>\n",
       "      <td>SF</td>\n",
       "      <td>1032</td>\n",
       "      <td>0</td>\n",
       "      <td>0</td>\n",
       "      <td>0</td>\n",
       "      <td>0</td>\n",
       "      <td>0</td>\n",
       "      <td>...</td>\n",
       "      <td>255</td>\n",
       "      <td>1.00</td>\n",
       "      <td>0.00</td>\n",
       "      <td>1.00</td>\n",
       "      <td>0.0</td>\n",
       "      <td>0.0</td>\n",
       "      <td>0.0</td>\n",
       "      <td>0.0</td>\n",
       "      <td>0.0</td>\n",
       "      <td>smurf.</td>\n",
       "    </tr>\n",
       "    <tr>\n",
       "      <th>3</th>\n",
       "      <td>0</td>\n",
       "      <td>icmp</td>\n",
       "      <td>ecr_i</td>\n",
       "      <td>SF</td>\n",
       "      <td>1032</td>\n",
       "      <td>0</td>\n",
       "      <td>0</td>\n",
       "      <td>0</td>\n",
       "      <td>0</td>\n",
       "      <td>0</td>\n",
       "      <td>...</td>\n",
       "      <td>255</td>\n",
       "      <td>1.00</td>\n",
       "      <td>0.00</td>\n",
       "      <td>1.00</td>\n",
       "      <td>0.0</td>\n",
       "      <td>0.0</td>\n",
       "      <td>0.0</td>\n",
       "      <td>0.0</td>\n",
       "      <td>0.0</td>\n",
       "      <td>smurf.</td>\n",
       "    </tr>\n",
       "    <tr>\n",
       "      <th>4</th>\n",
       "      <td>20324</td>\n",
       "      <td>udp</td>\n",
       "      <td>other</td>\n",
       "      <td>SF</td>\n",
       "      <td>145</td>\n",
       "      <td>105</td>\n",
       "      <td>0</td>\n",
       "      <td>0</td>\n",
       "      <td>0</td>\n",
       "      <td>0</td>\n",
       "      <td>...</td>\n",
       "      <td>1</td>\n",
       "      <td>0.00</td>\n",
       "      <td>0.62</td>\n",
       "      <td>0.84</td>\n",
       "      <td>0.0</td>\n",
       "      <td>0.0</td>\n",
       "      <td>0.0</td>\n",
       "      <td>0.0</td>\n",
       "      <td>0.0</td>\n",
       "      <td>normal.</td>\n",
       "    </tr>\n",
       "  </tbody>\n",
       "</table>\n",
       "<p>5 rows × 42 columns</p>\n",
       "</div>"
      ],
      "text/plain": [
       "   duration protocol_type  service flag  src_bytes  dst_bytes  land  \\\n",
       "0         0          icmp    ecr_i   SF       1032          0     0   \n",
       "1         0           tcp  private   S0          0          0     0   \n",
       "2         0          icmp    ecr_i   SF       1032          0     0   \n",
       "3         0          icmp    ecr_i   SF       1032          0     0   \n",
       "4     20324           udp    other   SF        145        105     0   \n",
       "\n",
       "   wrong_fragment  urgent  hot    ...     dst_host_srv_count  \\\n",
       "0               0       0    0    ...                    255   \n",
       "1               0       0    0    ...                     11   \n",
       "2               0       0    0    ...                    255   \n",
       "3               0       0    0    ...                    255   \n",
       "4               0       0    0    ...                      1   \n",
       "\n",
       "   dst_host_same_srv_rate  dst_host_diff_srv_rate  \\\n",
       "0                    1.00                    0.00   \n",
       "1                    0.04                    0.07   \n",
       "2                    1.00                    0.00   \n",
       "3                    1.00                    0.00   \n",
       "4                    0.00                    0.62   \n",
       "\n",
       "   dst_host_same_src_port_rate  dst_host_srv_diff_host_rate  \\\n",
       "0                         1.00                          0.0   \n",
       "1                         0.00                          0.0   \n",
       "2                         1.00                          0.0   \n",
       "3                         1.00                          0.0   \n",
       "4                         0.84                          0.0   \n",
       "\n",
       "   dst_host_serror_rate  dst_host_srv_serror_rate  dst_host_rerror_rate  \\\n",
       "0                   0.0                       0.0                   0.0   \n",
       "1                   1.0                       1.0                   0.0   \n",
       "2                   0.0                       0.0                   0.0   \n",
       "3                   0.0                       0.0                   0.0   \n",
       "4                   0.0                       0.0                   0.0   \n",
       "\n",
       "   dst_host_srv_rerror_rate     label  \n",
       "0                       0.0    smurf.  \n",
       "1                       0.0  neptune.  \n",
       "2                       0.0    smurf.  \n",
       "3                       0.0    smurf.  \n",
       "4                       0.0   normal.  \n",
       "\n",
       "[5 rows x 42 columns]"
      ]
     },
     "execution_count": 553,
     "metadata": {},
     "output_type": "execute_result"
    }
   ],
   "source": [
    "# Create list of column names\n",
    "columns = ['duration',\n",
    "           'protocol_type',\n",
    "           'service',\n",
    "           'flag',\n",
    "           'src_bytes',\n",
    "           'dst_bytes',\n",
    "           'land',\n",
    "           'wrong_fragment',\n",
    "           'urgent',\n",
    "           'hot',\n",
    "           'num_failed_logins',\n",
    "           'logged_in',\n",
    "           'num_compromised',\n",
    "           'root_shell',\n",
    "           'su_attempted',\n",
    "           'num_root',\n",
    "           'num_file_creations',\n",
    "           'num_shells',\n",
    "           'num_access_files',\n",
    "           'num_outbound_cmds',\n",
    "           'is_host_login',\n",
    "           'is_guest_login',\n",
    "           'count',\n",
    "           'srv_count',\n",
    "           'serror_rate',\n",
    "           'srv_serror_rate',\n",
    "           'rerror_rate',\n",
    "           'srv_rerror_rate',\n",
    "           'same_srv_rate',\n",
    "           'diff_srv_rate',\n",
    "           'srv_diff_host_rate',\n",
    "           'dst_host_count',\n",
    "           'dst_host_srv_count',\n",
    "           'dst_host_same_srv_rate',\n",
    "           'dst_host_diff_srv_rate',\n",
    "           'dst_host_same_src_port_rate',\n",
    "           'dst_host_srv_diff_host_rate',\n",
    "           'dst_host_serror_rate',\n",
    "           'dst_host_srv_serror_rate',\n",
    "           'dst_host_rerror_rate',\n",
    "           'dst_host_srv_rerror_rate',\n",
    "           'label']\n",
    "df = pd.read_csv(sample_name, header=None)\n",
    "# df = pd.read_csv('data/kddcup.data_10_percent')\n",
    "df.columns = columns\n",
    "df.head()"
   ]
  },
  {
   "cell_type": "code",
   "execution_count": 554,
   "metadata": {},
   "outputs": [
    {
     "data": {
      "text/html": [
       "<div>\n",
       "<style scoped>\n",
       "    .dataframe tbody tr th:only-of-type {\n",
       "        vertical-align: middle;\n",
       "    }\n",
       "\n",
       "    .dataframe tbody tr th {\n",
       "        vertical-align: top;\n",
       "    }\n",
       "\n",
       "    .dataframe thead th {\n",
       "        text-align: right;\n",
       "    }\n",
       "</style>\n",
       "<table border=\"1\" class=\"dataframe\">\n",
       "  <thead>\n",
       "    <tr style=\"text-align: right;\">\n",
       "      <th></th>\n",
       "      <th>duration</th>\n",
       "      <th>src_bytes</th>\n",
       "      <th>dst_bytes</th>\n",
       "      <th>land</th>\n",
       "      <th>wrong_fragment</th>\n",
       "      <th>urgent</th>\n",
       "      <th>hot</th>\n",
       "      <th>num_failed_logins</th>\n",
       "      <th>logged_in</th>\n",
       "      <th>num_compromised</th>\n",
       "      <th>...</th>\n",
       "      <th>dst_host_count</th>\n",
       "      <th>dst_host_srv_count</th>\n",
       "      <th>dst_host_same_srv_rate</th>\n",
       "      <th>dst_host_diff_srv_rate</th>\n",
       "      <th>dst_host_same_src_port_rate</th>\n",
       "      <th>dst_host_srv_diff_host_rate</th>\n",
       "      <th>dst_host_serror_rate</th>\n",
       "      <th>dst_host_srv_serror_rate</th>\n",
       "      <th>dst_host_rerror_rate</th>\n",
       "      <th>dst_host_srv_rerror_rate</th>\n",
       "    </tr>\n",
       "  </thead>\n",
       "  <tbody>\n",
       "    <tr>\n",
       "      <th>count</th>\n",
       "      <td>10000.000000</td>\n",
       "      <td>10000.000000</td>\n",
       "      <td>1.000000e+04</td>\n",
       "      <td>10000.0</td>\n",
       "      <td>10000.0000</td>\n",
       "      <td>10000.0</td>\n",
       "      <td>10000.000000</td>\n",
       "      <td>10000.0000</td>\n",
       "      <td>10000.000000</td>\n",
       "      <td>10000.000000</td>\n",
       "      <td>...</td>\n",
       "      <td>10000.000000</td>\n",
       "      <td>10000.000000</td>\n",
       "      <td>10000.000000</td>\n",
       "      <td>10000.000000</td>\n",
       "      <td>10000.000000</td>\n",
       "      <td>10000.000000</td>\n",
       "      <td>10000.000000</td>\n",
       "      <td>10000.000000</td>\n",
       "      <td>10000.000000</td>\n",
       "      <td>10000.000000</td>\n",
       "    </tr>\n",
       "    <tr>\n",
       "      <th>mean</th>\n",
       "      <td>52.573700</td>\n",
       "      <td>638.977900</td>\n",
       "      <td>6.974643e+02</td>\n",
       "      <td>0.0</td>\n",
       "      <td>0.0003</td>\n",
       "      <td>0.0</td>\n",
       "      <td>0.009600</td>\n",
       "      <td>0.0001</td>\n",
       "      <td>0.143800</td>\n",
       "      <td>0.000300</td>\n",
       "      <td>...</td>\n",
       "      <td>232.779900</td>\n",
       "      <td>188.776800</td>\n",
       "      <td>0.751074</td>\n",
       "      <td>0.030651</td>\n",
       "      <td>0.604631</td>\n",
       "      <td>0.006333</td>\n",
       "      <td>0.181866</td>\n",
       "      <td>0.181368</td>\n",
       "      <td>0.058244</td>\n",
       "      <td>0.058834</td>\n",
       "    </tr>\n",
       "    <tr>\n",
       "      <th>std</th>\n",
       "      <td>794.401378</td>\n",
       "      <td>1030.221133</td>\n",
       "      <td>1.665099e+04</td>\n",
       "      <td>0.0</td>\n",
       "      <td>0.0300</td>\n",
       "      <td>0.0</td>\n",
       "      <td>0.380161</td>\n",
       "      <td>0.0100</td>\n",
       "      <td>0.350904</td>\n",
       "      <td>0.017319</td>\n",
       "      <td>...</td>\n",
       "      <td>64.464168</td>\n",
       "      <td>106.152513</td>\n",
       "      <td>0.412630</td>\n",
       "      <td>0.107390</td>\n",
       "      <td>0.481048</td>\n",
       "      <td>0.038383</td>\n",
       "      <td>0.384971</td>\n",
       "      <td>0.385111</td>\n",
       "      <td>0.230928</td>\n",
       "      <td>0.233049</td>\n",
       "    </tr>\n",
       "    <tr>\n",
       "      <th>min</th>\n",
       "      <td>0.000000</td>\n",
       "      <td>0.000000</td>\n",
       "      <td>0.000000e+00</td>\n",
       "      <td>0.0</td>\n",
       "      <td>0.0000</td>\n",
       "      <td>0.0</td>\n",
       "      <td>0.000000</td>\n",
       "      <td>0.0000</td>\n",
       "      <td>0.000000</td>\n",
       "      <td>0.000000</td>\n",
       "      <td>...</td>\n",
       "      <td>1.000000</td>\n",
       "      <td>1.000000</td>\n",
       "      <td>0.000000</td>\n",
       "      <td>0.000000</td>\n",
       "      <td>0.000000</td>\n",
       "      <td>0.000000</td>\n",
       "      <td>0.000000</td>\n",
       "      <td>0.000000</td>\n",
       "      <td>0.000000</td>\n",
       "      <td>0.000000</td>\n",
       "    </tr>\n",
       "    <tr>\n",
       "      <th>25%</th>\n",
       "      <td>0.000000</td>\n",
       "      <td>42.000000</td>\n",
       "      <td>0.000000e+00</td>\n",
       "      <td>0.0</td>\n",
       "      <td>0.0000</td>\n",
       "      <td>0.0</td>\n",
       "      <td>0.000000</td>\n",
       "      <td>0.0000</td>\n",
       "      <td>0.000000</td>\n",
       "      <td>0.000000</td>\n",
       "      <td>...</td>\n",
       "      <td>255.000000</td>\n",
       "      <td>40.750000</td>\n",
       "      <td>0.340000</td>\n",
       "      <td>0.000000</td>\n",
       "      <td>0.000000</td>\n",
       "      <td>0.000000</td>\n",
       "      <td>0.000000</td>\n",
       "      <td>0.000000</td>\n",
       "      <td>0.000000</td>\n",
       "      <td>0.000000</td>\n",
       "    </tr>\n",
       "    <tr>\n",
       "      <th>50%</th>\n",
       "      <td>0.000000</td>\n",
       "      <td>520.000000</td>\n",
       "      <td>0.000000e+00</td>\n",
       "      <td>0.0</td>\n",
       "      <td>0.0000</td>\n",
       "      <td>0.0</td>\n",
       "      <td>0.000000</td>\n",
       "      <td>0.0000</td>\n",
       "      <td>0.000000</td>\n",
       "      <td>0.000000</td>\n",
       "      <td>...</td>\n",
       "      <td>255.000000</td>\n",
       "      <td>255.000000</td>\n",
       "      <td>1.000000</td>\n",
       "      <td>0.000000</td>\n",
       "      <td>1.000000</td>\n",
       "      <td>0.000000</td>\n",
       "      <td>0.000000</td>\n",
       "      <td>0.000000</td>\n",
       "      <td>0.000000</td>\n",
       "      <td>0.000000</td>\n",
       "    </tr>\n",
       "    <tr>\n",
       "      <th>75%</th>\n",
       "      <td>0.000000</td>\n",
       "      <td>1032.000000</td>\n",
       "      <td>0.000000e+00</td>\n",
       "      <td>0.0</td>\n",
       "      <td>0.0000</td>\n",
       "      <td>0.0</td>\n",
       "      <td>0.000000</td>\n",
       "      <td>0.0000</td>\n",
       "      <td>0.000000</td>\n",
       "      <td>0.000000</td>\n",
       "      <td>...</td>\n",
       "      <td>255.000000</td>\n",
       "      <td>255.000000</td>\n",
       "      <td>1.000000</td>\n",
       "      <td>0.050000</td>\n",
       "      <td>1.000000</td>\n",
       "      <td>0.000000</td>\n",
       "      <td>0.000000</td>\n",
       "      <td>0.000000</td>\n",
       "      <td>0.000000</td>\n",
       "      <td>0.000000</td>\n",
       "    </tr>\n",
       "    <tr>\n",
       "      <th>max</th>\n",
       "      <td>31925.000000</td>\n",
       "      <td>54540.000000</td>\n",
       "      <td>1.618836e+06</td>\n",
       "      <td>0.0</td>\n",
       "      <td>3.0000</td>\n",
       "      <td>0.0</td>\n",
       "      <td>28.000000</td>\n",
       "      <td>1.0000</td>\n",
       "      <td>1.000000</td>\n",
       "      <td>1.000000</td>\n",
       "      <td>...</td>\n",
       "      <td>255.000000</td>\n",
       "      <td>255.000000</td>\n",
       "      <td>1.000000</td>\n",
       "      <td>1.000000</td>\n",
       "      <td>1.000000</td>\n",
       "      <td>1.000000</td>\n",
       "      <td>1.000000</td>\n",
       "      <td>1.000000</td>\n",
       "      <td>1.000000</td>\n",
       "      <td>1.000000</td>\n",
       "    </tr>\n",
       "  </tbody>\n",
       "</table>\n",
       "<p>8 rows × 38 columns</p>\n",
       "</div>"
      ],
      "text/plain": [
       "           duration     src_bytes     dst_bytes     land  wrong_fragment  \\\n",
       "count  10000.000000  10000.000000  1.000000e+04  10000.0      10000.0000   \n",
       "mean      52.573700    638.977900  6.974643e+02      0.0          0.0003   \n",
       "std      794.401378   1030.221133  1.665099e+04      0.0          0.0300   \n",
       "min        0.000000      0.000000  0.000000e+00      0.0          0.0000   \n",
       "25%        0.000000     42.000000  0.000000e+00      0.0          0.0000   \n",
       "50%        0.000000    520.000000  0.000000e+00      0.0          0.0000   \n",
       "75%        0.000000   1032.000000  0.000000e+00      0.0          0.0000   \n",
       "max    31925.000000  54540.000000  1.618836e+06      0.0          3.0000   \n",
       "\n",
       "        urgent           hot  num_failed_logins     logged_in  \\\n",
       "count  10000.0  10000.000000         10000.0000  10000.000000   \n",
       "mean       0.0      0.009600             0.0001      0.143800   \n",
       "std        0.0      0.380161             0.0100      0.350904   \n",
       "min        0.0      0.000000             0.0000      0.000000   \n",
       "25%        0.0      0.000000             0.0000      0.000000   \n",
       "50%        0.0      0.000000             0.0000      0.000000   \n",
       "75%        0.0      0.000000             0.0000      0.000000   \n",
       "max        0.0     28.000000             1.0000      1.000000   \n",
       "\n",
       "       num_compromised            ...             dst_host_count  \\\n",
       "count     10000.000000            ...               10000.000000   \n",
       "mean          0.000300            ...                 232.779900   \n",
       "std           0.017319            ...                  64.464168   \n",
       "min           0.000000            ...                   1.000000   \n",
       "25%           0.000000            ...                 255.000000   \n",
       "50%           0.000000            ...                 255.000000   \n",
       "75%           0.000000            ...                 255.000000   \n",
       "max           1.000000            ...                 255.000000   \n",
       "\n",
       "       dst_host_srv_count  dst_host_same_srv_rate  dst_host_diff_srv_rate  \\\n",
       "count        10000.000000            10000.000000            10000.000000   \n",
       "mean           188.776800                0.751074                0.030651   \n",
       "std            106.152513                0.412630                0.107390   \n",
       "min              1.000000                0.000000                0.000000   \n",
       "25%             40.750000                0.340000                0.000000   \n",
       "50%            255.000000                1.000000                0.000000   \n",
       "75%            255.000000                1.000000                0.050000   \n",
       "max            255.000000                1.000000                1.000000   \n",
       "\n",
       "       dst_host_same_src_port_rate  dst_host_srv_diff_host_rate  \\\n",
       "count                 10000.000000                 10000.000000   \n",
       "mean                      0.604631                     0.006333   \n",
       "std                       0.481048                     0.038383   \n",
       "min                       0.000000                     0.000000   \n",
       "25%                       0.000000                     0.000000   \n",
       "50%                       1.000000                     0.000000   \n",
       "75%                       1.000000                     0.000000   \n",
       "max                       1.000000                     1.000000   \n",
       "\n",
       "       dst_host_serror_rate  dst_host_srv_serror_rate  dst_host_rerror_rate  \\\n",
       "count          10000.000000              10000.000000          10000.000000   \n",
       "mean               0.181866                  0.181368              0.058244   \n",
       "std                0.384971                  0.385111              0.230928   \n",
       "min                0.000000                  0.000000              0.000000   \n",
       "25%                0.000000                  0.000000              0.000000   \n",
       "50%                0.000000                  0.000000              0.000000   \n",
       "75%                0.000000                  0.000000              0.000000   \n",
       "max                1.000000                  1.000000              1.000000   \n",
       "\n",
       "       dst_host_srv_rerror_rate  \n",
       "count              10000.000000  \n",
       "mean                   0.058834  \n",
       "std                    0.233049  \n",
       "min                    0.000000  \n",
       "25%                    0.000000  \n",
       "50%                    0.000000  \n",
       "75%                    0.000000  \n",
       "max                    1.000000  \n",
       "\n",
       "[8 rows x 38 columns]"
      ]
     },
     "execution_count": 554,
     "metadata": {},
     "output_type": "execute_result"
    }
   ],
   "source": [
    "df.describe()"
   ]
  },
  {
   "cell_type": "code",
   "execution_count": 555,
   "metadata": {},
   "outputs": [
    {
     "name": "stdout",
     "output_type": "stream",
     "text": [
      "<class 'pandas.core.frame.DataFrame'>\n",
      "RangeIndex: 10000 entries, 0 to 9999\n",
      "Data columns (total 42 columns):\n",
      "duration                       10000 non-null int64\n",
      "protocol_type                  10000 non-null object\n",
      "service                        10000 non-null object\n",
      "flag                           10000 non-null object\n",
      "src_bytes                      10000 non-null int64\n",
      "dst_bytes                      10000 non-null int64\n",
      "land                           10000 non-null int64\n",
      "wrong_fragment                 10000 non-null int64\n",
      "urgent                         10000 non-null int64\n",
      "hot                            10000 non-null int64\n",
      "num_failed_logins              10000 non-null int64\n",
      "logged_in                      10000 non-null int64\n",
      "num_compromised                10000 non-null int64\n",
      "root_shell                     10000 non-null int64\n",
      "su_attempted                   10000 non-null int64\n",
      "num_root                       10000 non-null int64\n",
      "num_file_creations             10000 non-null int64\n",
      "num_shells                     10000 non-null int64\n",
      "num_access_files               10000 non-null int64\n",
      "num_outbound_cmds              10000 non-null int64\n",
      "is_host_login                  10000 non-null int64\n",
      "is_guest_login                 10000 non-null int64\n",
      "count                          10000 non-null int64\n",
      "srv_count                      10000 non-null int64\n",
      "serror_rate                    10000 non-null float64\n",
      "srv_serror_rate                10000 non-null float64\n",
      "rerror_rate                    10000 non-null float64\n",
      "srv_rerror_rate                10000 non-null float64\n",
      "same_srv_rate                  10000 non-null float64\n",
      "diff_srv_rate                  10000 non-null float64\n",
      "srv_diff_host_rate             10000 non-null float64\n",
      "dst_host_count                 10000 non-null int64\n",
      "dst_host_srv_count             10000 non-null int64\n",
      "dst_host_same_srv_rate         10000 non-null float64\n",
      "dst_host_diff_srv_rate         10000 non-null float64\n",
      "dst_host_same_src_port_rate    10000 non-null float64\n",
      "dst_host_srv_diff_host_rate    10000 non-null float64\n",
      "dst_host_serror_rate           10000 non-null float64\n",
      "dst_host_srv_serror_rate       10000 non-null float64\n",
      "dst_host_rerror_rate           10000 non-null float64\n",
      "dst_host_srv_rerror_rate       10000 non-null float64\n",
      "label                          10000 non-null object\n",
      "dtypes: float64(15), int64(23), object(4)\n",
      "memory usage: 3.2+ MB\n"
     ]
    }
   ],
   "source": [
    "df.info()"
   ]
  },
  {
   "cell_type": "markdown",
   "metadata": {},
   "source": [
    "##### Observe uniques for each object type"
   ]
  },
  {
   "cell_type": "code",
   "execution_count": 556,
   "metadata": {},
   "outputs": [
    {
     "name": "stdout",
     "output_type": "stream",
     "text": [
      "protocol_type: ['icmp', 'tcp', 'udp']\n",
      "\n",
      "service: ['ecr_i', 'private', 'other', 'http', 'domain_u', 'mtp', 'finger', 'iso_tsap', 'smtp', 'ftp_data', 'urp_i', 'echo', 'ntp_u', 'systat', 'netbios_ns', 'eco_i', 'discard', 'auth', 'netstat', 'time', 'netbios_dgm', 'IRC', 'ftp', 'gopher', 'shell', 'telnet', 'Z39_50', 'rje', 'link', 'supdup', 'klogin', 'ctf', 'bgp', 'csnet_ns', 'uucp_path', 'imap4', 'pop_3', 'uucp', 'whois', 'login', 'printer', 'http_443', 'hostnames', 'kshell', 'vmnet', 'remote_job', 'daytime', 'courier', 'nntp', 'domain', 'ldap']\n",
      "\n",
      "flag: ['SF', 'S0', 'REJ', 'RSTR', 'RSTO', 'OTH', 'S2', 'S1', 'SH', 'RSTOS0']\n",
      "\n",
      "label: ['smurf.', 'neptune.', 'normal.', 'portsweep.', 'satan.', 'ipsweep.', 'back.', 'nmap.', 'warezclient.', 'teardrop.']\n",
      "\n"
     ]
    }
   ],
   "source": [
    "df['protocol_type'].unique()\n",
    "\n",
    "unique_vals_per_column = tics.count_column_uniques(df)\n",
    "\n",
    "for k, v in unique_vals_per_column.items():\n",
    "    print('{}: {}\\n'.format(k, v))\n"
   ]
  },
  {
   "cell_type": "markdown",
   "metadata": {},
   "source": [
    "##### Count number of zero values in each column"
   ]
  },
  {
   "cell_type": "markdown",
   "metadata": {},
   "source": [
    "The motivation here is to see if which of the features are contributing little to the y"
   ]
  },
  {
   "cell_type": "code",
   "execution_count": 557,
   "metadata": {
    "scrolled": false
   },
   "outputs": [
    {
     "data": {
      "text/plain": [
       "{'count': [0.0, 0],\n",
       " 'dst_bytes': [0.8311, 8311],\n",
       " 'dst_host_count': [0.0, 0],\n",
       " 'dst_host_srv_count': [0.0, 0],\n",
       " 'duration': [0.9769, 9769],\n",
       " 'flag': [0.0, 0],\n",
       " 'hot': [0.9985, 9985],\n",
       " 'is_guest_login': [0.9992, 9992],\n",
       " 'is_host_login': [1.0, 10000],\n",
       " 'label': [0.0, 0],\n",
       " 'land': [1.0, 10000],\n",
       " 'logged_in': [0.8562, 8562],\n",
       " 'num_access_files': [0.9993, 9993],\n",
       " 'num_compromised': [0.9997, 9997],\n",
       " 'num_failed_logins': [0.9999, 9999],\n",
       " 'num_file_creations': [0.9999, 9999],\n",
       " 'num_outbound_cmds': [1.0, 10000],\n",
       " 'num_root': [0.9993, 9993],\n",
       " 'num_shells': [1.0, 10000],\n",
       " 'protocol_type': [0.0, 0],\n",
       " 'root_shell': [1.0, 10000],\n",
       " 'service': [0.0, 0],\n",
       " 'src_bytes': [0.2397, 2397],\n",
       " 'srv_count': [0.0, 0],\n",
       " 'su_attempted': [1.0, 10000],\n",
       " 'urgent': [1.0, 10000],\n",
       " 'wrong_fragment': [0.9999, 9999]}"
      ]
     },
     "execution_count": 557,
     "metadata": {},
     "output_type": "execute_result"
    }
   ],
   "source": [
    "zero_counts = tics.count_zeros_ratio(df)\n",
    "zero_counts"
   ]
  },
  {
   "cell_type": "code",
   "execution_count": 558,
   "metadata": {},
   "outputs": [
    {
     "name": "stdout",
     "output_type": "stream",
     "text": [
      "At 10000 samples:\n",
      "   land has only zero values\n",
      "   urgent has only zero values\n",
      "   root_shell has only zero values\n",
      "   su_attempted has only zero values\n",
      "   num_shells has only zero values\n",
      "   num_outbound_cmds has only zero values\n",
      "   is_host_login has only zero values\n",
      "\n"
     ]
    }
   ],
   "source": [
    "print(tics.count_zeros_message(df))"
   ]
  },
  {
   "cell_type": "markdown",
   "metadata": {},
   "source": [
    "```\n",
    "At 1000 samples:\n",
    "   land has only zero values\n",
    "   urgent has only zero values\n",
    "   num_failed_logins has only zero values\n",
    "   root_shell has only zero values\n",
    "   su_attempted has only zero values\n",
    "   num_root has only zero values\n",
    "   num_shells has only zero values\n",
    "   num_access_files has only zero values\n",
    "   num_outbound_cmds has only zero values\n",
    "   is_host_login has only zero values\n",
    "\n",
    "At 10000 samples:\n",
    "   land has only zero values\n",
    "   urgent has only zero values\n",
    "   num_failed_logins has only zero values\n",
    "   root_shell has only zero values\n",
    "   su_attempted has only zero values\n",
    "   num_shells has only zero values\n",
    "   num_outbound_cmds has only zero values\n",
    "   is_host_login has only zero values\n",
    "   \n",
    "At 50000 samples:\n",
    "   su_attempted has only zero values\n",
    "   num_outbound_cmds has only zero values\n",
    "   is_host_login has only zero values\n",
    "   \n",
    "At 250000 samples:\n",
    "   urgent has only zero values\n",
    "   num_outbound_cmds has only zero values\n",
    "   is_host_login has only zero values\n",
    " \n",
    "At 500000 samples:\n",
    "   num_outbound_cmds has only zero values\n",
    "   is_host_login has only zero values\n",
    "```"
   ]
  },
  {
   "cell_type": "code",
   "execution_count": null,
   "metadata": {},
   "outputs": [],
   "source": []
  },
  {
   "cell_type": "markdown",
   "metadata": {},
   "source": [
    "### Some Histograms"
   ]
  },
  {
   "cell_type": "code",
   "execution_count": 559,
   "metadata": {},
   "outputs": [
    {
     "data": {
      "text/plain": [
       "<matplotlib.axes._subplots.AxesSubplot at 0x1aa304d048>"
      ]
     },
     "execution_count": 559,
     "metadata": {},
     "output_type": "execute_result"
    },
    {
     "data": {
      "image/png": "[encoded data removed]",
      "text/plain": [
       "<matplotlib.figure.Figure at 0x1af2250160>"
      ]
     },
     "metadata": {},
     "output_type": "display_data"
    }
   ],
   "source": [
    "pltfuncs.plot_hist_basic(df, 'label')"
   ]
  },
  {
   "cell_type": "code",
   "execution_count": 560,
   "metadata": {
    "scrolled": false
   },
   "outputs": [
    {
     "data": {
      "text/plain": [
       "<matplotlib.axes._subplots.AxesSubplot at 0x1af4144b70>"
      ]
     },
     "execution_count": 560,
     "metadata": {},
     "output_type": "execute_result"
    },
    {
     "data": {
      "image/png": "[encoded data removed]",
      "text/plain": [
       "<matplotlib.figure.Figure at 0x1ab34b0c18>"
      ]
     },
     "metadata": {},
     "output_type": "display_data"
    }
   ],
   "source": [
    "pltfuncs.plot_hist_basic(df, 'protocol_type')"
   ]
  },
  {
   "cell_type": "code",
   "execution_count": 561,
   "metadata": {},
   "outputs": [
    {
     "data": {
      "image/png": "[encoded data removed]",
      "text/plain": [
       "<matplotlib.figure.Figure at 0x1af4147be0>"
      ]
     },
     "metadata": {},
     "output_type": "display_data"
    }
   ],
   "source": [
    "sns_plt = sns.countplot(y=df[\"protocol_type\"])"
   ]
  },
  {
   "cell_type": "markdown",
   "metadata": {},
   "source": [
    "### ICMP\n",
    "(from wikipedia): is used by network devices, including routers, to send error messages and operational information indicating, for example, that a requested service is not available or that a host or router could not be reached. ICMP differs from transport protocols such as TCP and UDP in that it is not typically used to exchange data between systems, nor is it regularly employed by end-user network applications\n"
   ]
  },
  {
   "cell_type": "code",
   "execution_count": 562,
   "metadata": {
    "scrolled": false
   },
   "outputs": [
    {
     "data": {
      "text/plain": [
       "<matplotlib.axes._subplots.AxesSubplot at 0x1af40c83c8>"
      ]
     },
     "execution_count": 562,
     "metadata": {},
     "output_type": "execute_result"
    },
    {
     "data": {
      "image/png": "[encoded data removed]",
      "text/plain": [
       "<matplotlib.figure.Figure at 0x1af40c5c50>"
      ]
     },
     "metadata": {},
     "output_type": "display_data"
    }
   ],
   "source": [
    "pltfuncs.plot_hist_basic(df, 'service')"
   ]
  },
  {
   "cell_type": "code",
   "execution_count": 563,
   "metadata": {},
   "outputs": [],
   "source": [
    "# plot num_compromised against label?\n",
    "\n",
    "# x_axis = df.label\n",
    "# y_axis = df['num_compromised'].values\n",
    "\n",
    "# plt.figure()\n",
    "# plt.plot(x_axis, y_axis, 'r')\n",
    "# plt.xlabel('Label')\n",
    "# plt.ylabel('num_compromised')\n",
    "# plt.title('Count of compromised per Label')\n",
    "# plt.xticks(rotation=40)"
   ]
  },
  {
   "cell_type": "code",
   "execution_count": 564,
   "metadata": {},
   "outputs": [
    {
     "data": {
      "image/png": "[encoded data removed]",
      "text/plain": [
       "<matplotlib.figure.Figure at 0x1af4036630>"
      ]
     },
     "metadata": {},
     "output_type": "display_data"
    }
   ],
   "source": [
    "pltfuncs.corr_heat(df)"
   ]
  },
  {
   "cell_type": "code",
   "execution_count": 565,
   "metadata": {},
   "outputs": [
    {
     "data": {
      "text/plain": [
       "array(['smurf.', 'neptune.', 'normal.', 'portsweep.', 'satan.',\n",
       "       'ipsweep.', 'back.', 'nmap.', 'warezclient.', 'teardrop.'],\n",
       "      dtype=object)"
      ]
     },
     "execution_count": 565,
     "metadata": {},
     "output_type": "execute_result"
    }
   ],
   "source": [
    "# unique values\n",
    "df.label.unique()\n"
   ]
  },
  {
   "cell_type": "code",
   "execution_count": 566,
   "metadata": {},
   "outputs": [
    {
     "data": {
      "image/png": "[encoded data removed]",
      "text/plain": [
       "<matplotlib.figure.Figure at 0x1ac30951d0>"
      ]
     },
     "metadata": {},
     "output_type": "display_data"
    }
   ],
   "source": [
    "sns_plt = sns.countplot(y=df[\"label\"])\n"
   ]
  },
  {
   "cell_type": "code",
   "execution_count": null,
   "metadata": {},
   "outputs": [],
   "source": []
  },
  {
   "cell_type": "code",
   "execution_count": 567,
   "metadata": {
    "scrolled": true
   },
   "outputs": [
    {
     "data": {
      "image/png": "[encoded data removed]",
      "text/plain": [
       "<matplotlib.figure.Figure at 0x1af22cb668>"
      ]
     },
     "metadata": {},
     "output_type": "display_data"
    }
   ],
   "source": [
    "sns_plt = sns.distplot(df[\"duration\"], kde=False)\n"
   ]
  },
  {
   "cell_type": "code",
   "execution_count": 568,
   "metadata": {},
   "outputs": [
    {
     "data": {
      "image/png": "[encoded data removed]",
      "text/plain": [
       "<matplotlib.figure.Figure at 0x1afc8d0780>"
      ]
     },
     "metadata": {},
     "output_type": "display_data"
    }
   ],
   "source": [
    "sns_plt = sns.distplot(df[\"same_srv_rate\"], kde=False)\n"
   ]
  },
  {
   "cell_type": "code",
   "execution_count": 569,
   "metadata": {},
   "outputs": [
    {
     "data": {
      "image/png": "[encoded data removed]",
      "text/plain": [
       "<matplotlib.figure.Figure at 0x1afc8d0d30>"
      ]
     },
     "metadata": {},
     "output_type": "display_data"
    }
   ],
   "source": [
    "sns_plt = sns.countplot(x=df[\"is_host_login\"])\n"
   ]
  },
  {
   "cell_type": "code",
   "execution_count": null,
   "metadata": {},
   "outputs": [],
   "source": [
    "\n"
   ]
  },
  {
   "cell_type": "code",
   "execution_count": 570,
   "metadata": {},
   "outputs": [
    {
     "data": {
      "image/png": "[encoded data removed]",
      "text/plain": [
       "<matplotlib.figure.Figure at 0x1af227e518>"
      ]
     },
     "metadata": {},
     "output_type": "display_data"
    }
   ],
   "source": [
    "a4_dims = (11.7, 10)\n",
    "fig, ax = plt.subplots(figsize=a4_dims)\n",
    "\n",
    "sns_plt = sns.countplot(ax=ax,\n",
    "                        y=df[\"service\"])"
   ]
  },
  {
   "cell_type": "code",
   "execution_count": 571,
   "metadata": {},
   "outputs": [
    {
     "data": {
      "image/png": "[encoded data removed]",
      "text/plain": [
       "<matplotlib.figure.Figure at 0x1ac2c5d400>"
      ]
     },
     "metadata": {},
     "output_type": "display_data"
    }
   ],
   "source": [
    "sns_plt = sns.factorplot(x='protocol_type', \n",
    "                         hue='label',\n",
    "                         data=df,\n",
    "                         kind='count',\n",
    "                         size=8,\n",
    "\n",
    "                         aspect=.9)"
   ]
  },
  {
   "cell_type": "markdown",
   "metadata": {},
   "source": [
    "Note the large amount of Smurf attacks over ICMP protocol:\n",
    "\n",
    "Smurf is a DDOS attack where large numbers of ICMP packets are broadcast to a computer network using the IP's broadcast address.  In the late 1990s, many IP networks would participate in Smurf attacks by responding to ICMP requests. The name comes from the idea of very small, but numerous, attackers overwhelming a much larger opponent "
   ]
  },
  {
   "cell_type": "code",
   "execution_count": 572,
   "metadata": {},
   "outputs": [
    {
     "data": {
      "image/png": "[encoded data removed]",
      "text/plain": [
       "<matplotlib.figure.Figure at 0x1a9ed27da0>"
      ]
     },
     "metadata": {},
     "output_type": "display_data"
    }
   ],
   "source": [
    "sns_plt = sns.factorplot(x='label', \n",
    "                         hue='service',\n",
    "                         data=df,\n",
    "                         kind='count',\n",
    "                         size=8,\n",
    "\n",
    "                         aspect=1)"
   ]
  },
  {
   "cell_type": "markdown",
   "metadata": {},
   "source": [
    "### Categories of Attacks\n",
    "- normal: (0) no attack occurred\n",
    "\n",
    "Attacks fall into four main categories:\n",
    "- probe: (1)surveillance and other probing, e.g., port scanning.\n",
    "- DOS  : (2) denial-of-service, e.g. syn flood;\n",
    "- U2R  : (3) unauthorized access to local superuser (root) privileges, e.g., various `buffer overflow` attacks;\n",
    "- R2L  : (4) unauthorized access from a remote machine, e.g. guessing password;\n",
    "\n",
    "\n",
    "\n",
    "\n",
    "Additionally, there are attack labels in the Test data that are different from the labels in the Training data."
   ]
  },
  {
   "cell_type": "markdown",
   "metadata": {},
   "source": [
    "##### Mapping for Attacks to Categories\n",
    "(thanks to https://cseweb.ucsd.edu/~elkan/tabulate.html)\n",
    "\n"
   ]
  },
  {
   "cell_type": "markdown",
   "metadata": {},
   "source": [
    "##### normal connection\n"
   ]
  },
  {
   "cell_type": "markdown",
   "metadata": {},
   "source": [
    "| label   |        |Category #|\n",
    "|--------|--------|----------|\n",
    "|normal. | normal |(0)       |"
   ]
  },
  {
   "cell_type": "markdown",
   "metadata": {},
   "source": [
    "\n",
    "##### attack types in testing data\n",
    "\n",
    "| label   | Attack Type | Category # |\n",
    "|--------|-------------|------------|\n",
    "|apache2. | DOS |(2)| \n",
    "|back. | DOS |(2)| \n",
    "|buffer_overflow. | U2R |(3)| \n",
    "|ftp_write. |  R2L |(4)| \n",
    "|guess_passwd. |  R2L |(4)| \n",
    "|httptunnel. |  R2L |(4)| \n",
    "|httptunnel. | U2R |(3)| \n",
    "|imap. |  R2L |(4)| \n",
    "|ipsweep. | probe |(1)| \n",
    "|land. | DOS |(2)| \n",
    "|loadmodule. | U2R |(3)| \n",
    "|mailbomb. | DOS |(2)| \n",
    "|mscan. | probe |(1)| \n",
    "|multihop. |  R2L |(4)| \n",
    "|multihop. | U2R |(3)| # duplicate\n",
    "|named. |  R2L |(4)| \n",
    "|neptune. | DOS |(2)| \n",
    "|nmap. | probe |(1)| \n",
    "|perl. | U2R |(3)| \n",
    "|phf. |  R2L |(4)| \n",
    "|pod. | DOS |(2)| \n",
    "|portsweep. | probe |(1)| \n",
    "|processtable. | DOS |(2)| \n",
    "|ps. | U2R |(3)| \n",
    "|rootkit. | U2R |(3)| \n",
    "|saint. | probe |(1)| \n",
    "|satan. | probe |(1)| \n",
    "|sendmail. |  R2L |(4)| \n",
    "|smurf. | DOS |(2)| \n",
    "|snmpgetattack. |  R2L |(4)| \n",
    "|snmpguess. |  R2L |(4)| \n",
    "|sqlattack. | U2R |(3)| \n",
    "|teardrop. | DOS |(2)| \n",
    "|udpstorm. | DOS |(2)| \n",
    "|warezmaster. | DOS |(2)| \n",
    "|worm. |  R2L |(4)| \n",
    "|xlock. |  R2L |(4)| \n",
    "|xsnoop. |  R2L |(4)| \n",
    "|xterm. | U2R |(3)|\n",
    "\n",
    "\n"
   ]
  },
  {
   "cell_type": "markdown",
   "metadata": {},
   "source": [
    "##### attack types in training data\n",
    "\n",
    "|label   | Attack Type | Category # |\n",
    "|--------|-------------|------------|\n",
    "|back. | DOS |(2)| \n",
    "|buffer_overflow. | U2R |(3)| \n",
    "|ftp_write. |  R2L |(4)| \n",
    "|guess_passwd. |  R2L |(4)| \n",
    "|imap. |  R2L |(4)| \n",
    "|ipsweep. | probe |(1)| \n",
    "|land. | DOS |(2)| \n",
    "|loadmodule. | U2R |(3)| \n",
    "|multihop. |  R2L |(4)| \n",
    "|neptune. | DOS |(2)| \n",
    "|nmap. | probe |(1)| \n",
    "|perl. | U2R |(3)| \n",
    "|phf. |  R2L |(4)| \n",
    "|pod. | DOS |(2)| \n",
    "|portsweep. | probe |(1)| \n",
    "|rootkit. | U2R |(3)| \n",
    "|satan. | probe |(1)| \n",
    "|smurf. | DOS |(2)| \n",
    "|spy. |  R2L |(4)| \n",
    "|teardrop. | DOS |(2)| \n",
    "|warezclient. |  R2L |(4)| \n"
   ]
  },
  {
   "cell_type": "markdown",
   "metadata": {},
   "source": [
    "## Transforming data"
   ]
  },
  {
   "cell_type": "markdown",
   "metadata": {},
   "source": [
    "### putting labels into their categories, categorical number\n",
    "- Normal : 0\n",
    "- probe: 1\n",
    "- DOS : 2\n",
    "- U2R : 3\n",
    "- R2L : 4"
   ]
  },
  {
   "cell_type": "code",
   "execution_count": 573,
   "metadata": {},
   "outputs": [
    {
     "data": {
      "text/plain": [
       "array(['smurf.', 'neptune.', 'normal.', 'portsweep.', 'satan.',\n",
       "       'ipsweep.', 'back.', 'nmap.', 'warezclient.', 'teardrop.'],\n",
       "      dtype=object)"
      ]
     },
     "execution_count": 573,
     "metadata": {},
     "output_type": "execute_result"
    }
   ],
   "source": [
    "# read in label names csv and send it as dictionary to mapping function\n",
    "label_names = ['label', 'attack_category', 'attack_cat_num']\n",
    "labels_loc = 'data/categories.csv'\n",
    "labels_to_categories = pd.read_csv(labels_loc, header=None)\n",
    "labels_to_categories.columns = label_names\n",
    "col_name = 'label'\n",
    "new_col_name = 'attack_category'\n",
    "\n",
    "df2 = trans.rewrite_values(df, dict(zip(labels_to_categories.label, labels_to_categories.attack_cat_num)), col_name, new_col_name)\n",
    "df2['label'].unique()"
   ]
  },
  {
   "cell_type": "code",
   "execution_count": 574,
   "metadata": {},
   "outputs": [
    {
     "data": {
      "text/plain": [
       "array([2, 0, 1, 4])"
      ]
     },
     "execution_count": 574,
     "metadata": {},
     "output_type": "execute_result"
    }
   ],
   "source": [
    "df2['attack_category'].unique()"
   ]
  },
  {
   "cell_type": "markdown",
   "metadata": {},
   "source": [
    "### changing protocols to categorical number"
   ]
  },
  {
   "cell_type": "code",
   "execution_count": 575,
   "metadata": {},
   "outputs": [
    {
     "data": {
      "text/plain": [
       "array(['icmp', 'tcp', 'udp'], dtype=object)"
      ]
     },
     "execution_count": 575,
     "metadata": {},
     "output_type": "execute_result"
    }
   ],
   "source": [
    "df2['protocol_type'].unique()"
   ]
  },
  {
   "cell_type": "code",
   "execution_count": 576,
   "metadata": {},
   "outputs": [],
   "source": [
    "column_name = 'protocol_type'\n",
    "mapping = list(df2[column_name].unique())\n",
    "\n",
    "df3 = trans.my_create_dummies(df2, mapping, column_name)\n"
   ]
  },
  {
   "cell_type": "code",
   "execution_count": 577,
   "metadata": {},
   "outputs": [
    {
     "data": {
      "text/html": [
       "<div>\n",
       "<style scoped>\n",
       "    .dataframe tbody tr th:only-of-type {\n",
       "        vertical-align: middle;\n",
       "    }\n",
       "\n",
       "    .dataframe tbody tr th {\n",
       "        vertical-align: top;\n",
       "    }\n",
       "\n",
       "    .dataframe thead th {\n",
       "        text-align: right;\n",
       "    }\n",
       "</style>\n",
       "<table border=\"1\" class=\"dataframe\">\n",
       "  <thead>\n",
       "    <tr style=\"text-align: right;\">\n",
       "      <th></th>\n",
       "      <th>duration</th>\n",
       "      <th>protocol_type</th>\n",
       "      <th>service</th>\n",
       "      <th>flag</th>\n",
       "      <th>src_bytes</th>\n",
       "      <th>dst_bytes</th>\n",
       "      <th>land</th>\n",
       "      <th>wrong_fragment</th>\n",
       "      <th>urgent</th>\n",
       "      <th>hot</th>\n",
       "      <th>...</th>\n",
       "      <th>dst_host_srv_diff_host_rate</th>\n",
       "      <th>dst_host_serror_rate</th>\n",
       "      <th>dst_host_srv_serror_rate</th>\n",
       "      <th>dst_host_rerror_rate</th>\n",
       "      <th>dst_host_srv_rerror_rate</th>\n",
       "      <th>label</th>\n",
       "      <th>attack_category</th>\n",
       "      <th>icmp</th>\n",
       "      <th>tcp</th>\n",
       "      <th>udp</th>\n",
       "    </tr>\n",
       "  </thead>\n",
       "  <tbody>\n",
       "    <tr>\n",
       "      <th>0</th>\n",
       "      <td>0</td>\n",
       "      <td>icmp</td>\n",
       "      <td>ecr_i</td>\n",
       "      <td>SF</td>\n",
       "      <td>1032</td>\n",
       "      <td>0</td>\n",
       "      <td>0</td>\n",
       "      <td>0</td>\n",
       "      <td>0</td>\n",
       "      <td>0</td>\n",
       "      <td>...</td>\n",
       "      <td>0.0</td>\n",
       "      <td>0.0</td>\n",
       "      <td>0.0</td>\n",
       "      <td>0.0</td>\n",
       "      <td>0.0</td>\n",
       "      <td>smurf.</td>\n",
       "      <td>2</td>\n",
       "      <td>1</td>\n",
       "      <td>0</td>\n",
       "      <td>0</td>\n",
       "    </tr>\n",
       "    <tr>\n",
       "      <th>1</th>\n",
       "      <td>0</td>\n",
       "      <td>tcp</td>\n",
       "      <td>private</td>\n",
       "      <td>S0</td>\n",
       "      <td>0</td>\n",
       "      <td>0</td>\n",
       "      <td>0</td>\n",
       "      <td>0</td>\n",
       "      <td>0</td>\n",
       "      <td>0</td>\n",
       "      <td>...</td>\n",
       "      <td>0.0</td>\n",
       "      <td>1.0</td>\n",
       "      <td>1.0</td>\n",
       "      <td>0.0</td>\n",
       "      <td>0.0</td>\n",
       "      <td>neptune.</td>\n",
       "      <td>2</td>\n",
       "      <td>0</td>\n",
       "      <td>1</td>\n",
       "      <td>0</td>\n",
       "    </tr>\n",
       "    <tr>\n",
       "      <th>2</th>\n",
       "      <td>0</td>\n",
       "      <td>icmp</td>\n",
       "      <td>ecr_i</td>\n",
       "      <td>SF</td>\n",
       "      <td>1032</td>\n",
       "      <td>0</td>\n",
       "      <td>0</td>\n",
       "      <td>0</td>\n",
       "      <td>0</td>\n",
       "      <td>0</td>\n",
       "      <td>...</td>\n",
       "      <td>0.0</td>\n",
       "      <td>0.0</td>\n",
       "      <td>0.0</td>\n",
       "      <td>0.0</td>\n",
       "      <td>0.0</td>\n",
       "      <td>smurf.</td>\n",
       "      <td>2</td>\n",
       "      <td>1</td>\n",
       "      <td>0</td>\n",
       "      <td>0</td>\n",
       "    </tr>\n",
       "    <tr>\n",
       "      <th>3</th>\n",
       "      <td>0</td>\n",
       "      <td>icmp</td>\n",
       "      <td>ecr_i</td>\n",
       "      <td>SF</td>\n",
       "      <td>1032</td>\n",
       "      <td>0</td>\n",
       "      <td>0</td>\n",
       "      <td>0</td>\n",
       "      <td>0</td>\n",
       "      <td>0</td>\n",
       "      <td>...</td>\n",
       "      <td>0.0</td>\n",
       "      <td>0.0</td>\n",
       "      <td>0.0</td>\n",
       "      <td>0.0</td>\n",
       "      <td>0.0</td>\n",
       "      <td>smurf.</td>\n",
       "      <td>2</td>\n",
       "      <td>1</td>\n",
       "      <td>0</td>\n",
       "      <td>0</td>\n",
       "    </tr>\n",
       "    <tr>\n",
       "      <th>4</th>\n",
       "      <td>20324</td>\n",
       "      <td>udp</td>\n",
       "      <td>other</td>\n",
       "      <td>SF</td>\n",
       "      <td>145</td>\n",
       "      <td>105</td>\n",
       "      <td>0</td>\n",
       "      <td>0</td>\n",
       "      <td>0</td>\n",
       "      <td>0</td>\n",
       "      <td>...</td>\n",
       "      <td>0.0</td>\n",
       "      <td>0.0</td>\n",
       "      <td>0.0</td>\n",
       "      <td>0.0</td>\n",
       "      <td>0.0</td>\n",
       "      <td>normal.</td>\n",
       "      <td>0</td>\n",
       "      <td>0</td>\n",
       "      <td>0</td>\n",
       "      <td>1</td>\n",
       "    </tr>\n",
       "  </tbody>\n",
       "</table>\n",
       "<p>5 rows × 46 columns</p>\n",
       "</div>"
      ],
      "text/plain": [
       "   duration protocol_type  service flag  src_bytes  dst_bytes  land  \\\n",
       "0         0          icmp    ecr_i   SF       1032          0     0   \n",
       "1         0           tcp  private   S0          0          0     0   \n",
       "2         0          icmp    ecr_i   SF       1032          0     0   \n",
       "3         0          icmp    ecr_i   SF       1032          0     0   \n",
       "4     20324           udp    other   SF        145        105     0   \n",
       "\n",
       "   wrong_fragment  urgent  hot ...   dst_host_srv_diff_host_rate  \\\n",
       "0               0       0    0 ...                           0.0   \n",
       "1               0       0    0 ...                           0.0   \n",
       "2               0       0    0 ...                           0.0   \n",
       "3               0       0    0 ...                           0.0   \n",
       "4               0       0    0 ...                           0.0   \n",
       "\n",
       "   dst_host_serror_rate  dst_host_srv_serror_rate  dst_host_rerror_rate  \\\n",
       "0                   0.0                       0.0                   0.0   \n",
       "1                   1.0                       1.0                   0.0   \n",
       "2                   0.0                       0.0                   0.0   \n",
       "3                   0.0                       0.0                   0.0   \n",
       "4                   0.0                       0.0                   0.0   \n",
       "\n",
       "   dst_host_srv_rerror_rate     label  attack_category  icmp  tcp  udp  \n",
       "0                       0.0    smurf.                2     1    0    0  \n",
       "1                       0.0  neptune.                2     0    1    0  \n",
       "2                       0.0    smurf.                2     1    0    0  \n",
       "3                       0.0    smurf.                2     1    0    0  \n",
       "4                       0.0   normal.                0     0    0    1  \n",
       "\n",
       "[5 rows x 46 columns]"
      ]
     },
     "execution_count": 577,
     "metadata": {},
     "output_type": "execute_result"
    }
   ],
   "source": [
    "df3.head()"
   ]
  },
  {
   "cell_type": "code",
   "execution_count": 587,
   "metadata": {},
   "outputs": [
    {
     "data": {
      "image/png": "[encoded data removed]",
      "text/plain": [
       "<matplotlib.figure.Figure at 0x1a5c5a91d0>"
      ]
     },
     "metadata": {},
     "output_type": "display_data"
    }
   ],
   "source": [
    "\n",
    "g = sns.factorplot(x='attack_category', \n",
    "                         hue='label',\n",
    "                         data=df3,\n",
    "                         kind='count',\n",
    "                         size=6,\n",
    "\n",
    "                         aspect=.9\n",
    "                        )\n",
    "title = ['Counts of Attacks per attack_category']\n",
    "for ax, title in zip(g.axes.flat, title):\n",
    "    ax.set_title(title)"
   ]
  },
  {
   "cell_type": "markdown",
   "metadata": {},
   "source": [
    "```\n",
    "Normal : 0\n",
    "probe: 1\n",
    "DOS : 2\n",
    "U2R : 3\n",
    "R2L : 4\n",
    "```"
   ]
  },
  {
   "cell_type": "code",
   "execution_count": null,
   "metadata": {},
   "outputs": [],
   "source": []
  }
 ],
 "metadata": {
  "kernelspec": {
   "display_name": "Python 3",
   "language": "python",
   "name": "python3"
  },
  "language_info": {
   "codemirror_mode": {
    "name": "ipython",
    "version": 3
   },
   "file_extension": ".py",
   "mimetype": "text/x-python",
   "name": "python",
   "nbconvert_exporter": "python",
   "pygments_lexer": "ipython3",
   "version": "3.6.4"
  }
 },
 "nbformat": 4,
 "nbformat_minor": 2
}
