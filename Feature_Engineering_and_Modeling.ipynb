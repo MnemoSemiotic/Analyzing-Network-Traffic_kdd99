{
 "cells": [
  {
   "cell_type": "code",
   "execution_count": 319,
   "metadata": {},
   "outputs": [
    {
     "data": {
      "text/html": [
       "<style>\n",
       "table {float:left}\n",
       "</style>"
      ],
      "text/plain": [
       "<IPython.core.display.HTML object>"
      ]
     },
     "metadata": {},
     "output_type": "display_data"
    }
   ],
   "source": [
    "%%html\n",
    "<style>\n",
    "table {float:left}\n",
    "</style>"
   ]
  },
  {
   "cell_type": "code",
   "execution_count": 320,
   "metadata": {},
   "outputs": [],
   "source": [
    "# my python files\n",
    "import src.analytics as tics\n",
    "import src.plotting_functions as pltfuncs\n",
    "import src.transforms as trans\n",
    "import src.hyp_test as hyp\n",
    "import src.score_model as sc\n",
    "import src.roc_curve as roc\n",
    "\n",
    "\n",
    "# Imports\n",
    "from matplotlib import pyplot as plt\n",
    "import seaborn as sns\n",
    "import numpy as np\n",
    "import scipy.stats as stats\n",
    "from scipy.stats import kendalltau\n",
    "import pandas as pd\n",
    "import matplotlib.pyplot as plt\n",
    "from sklearn.model_selection import cross_val_score, KFold, train_test_split\n",
    "from sklearn.preprocessing import StandardScaler\n",
    "from sklearn.metrics import make_scorer\n",
    "from sklearn.linear_model import LinearRegression, LogisticRegression, Lasso, Ridge\n",
    "from sklearn.pipeline import Pipeline\n",
    "from basis_expansions.basis_expansions import (\n",
    "    Polynomial, LinearSpline, NaturalCubicSpline)\n",
    "from regression_tools.dftransformers import (\n",
    "    ColumnSelector, Identity, FeatureUnion, MapFeature, Intercept)\n",
    "from regression_tools.plotting_tools import (\n",
    "    plot_univariate_smooth,\n",
    "    bootstrap_train,\n",
    "    display_coef,\n",
    "    plot_bootstrap_coefs,\n",
    "    plot_partial_depenence,\n",
    "    plot_partial_dependences,\n",
    "    predicteds_vs_actuals)\n",
    "from sklearn.metrics import roc_curve, auc\n",
    "\n",
    "%matplotlib inline"
   ]
  },
  {
   "cell_type": "code",
   "execution_count": 343,
   "metadata": {},
   "outputs": [],
   "source": [
    "# On OSX requires brew install coreutils, using gshuf instead of shuf\n",
    "sample_name = 'data/sample_random_subset.csv'\n",
    "tics.create_random_samples('data/kddcup.data', 100000, sample_name)\n",
    "\n",
    "df = trans.read_data(sample_name)"
   ]
  },
  {
   "cell_type": "markdown",
   "metadata": {},
   "source": [
    "### Dropping Features\n"
   ]
  },
  {
   "cell_type": "markdown",
   "metadata": {},
   "source": [
    "##### Highly Correlated Features (at 100,000 samples)\n",
    "```\n",
    " feature 1                      feature 2                  correlation coeff\n",
    "dst_host_srv_serror_rate     srv_serror_rate                0.999370\n",
    "dst_host_srv_serror_rate     dst_host_serror_rate           0.999165\n",
    "srv_serror_rate              serror_rate                    0.999086\n",
    "dst_host_serror_rate         serror_rate                    0.999039\n",
    "serror_rate                  dst_host_serror_rate           0.999039\n",
    "dst_host_srv_serror_rate     serror_rate                    0.998765\n",
    "dst_host_serror_rate         srv_serror_rate                0.998761\n",
    "srv_rerror_rate              rerror_rate                    0.997359\n",
    "srv_rerror_rate              dst_host_srv_rerror_rate       0.989355\n",
    "rerror_rate                  dst_host_srv_rerror_rate       0.988520\n",
    "rerror_rate                  dst_host_rerror_rate           0.986976\n",
    "dst_host_rerror_rate         dst_host_srv_rerror_rate       0.985911\n",
    "srv_rerror_rate              dst_host_rerror_rate           0.984211\n",
    "dst_host_srv_count           dst_host_same_srv_rate         0.976918\n",
    "dst_host_same_src_port_rate  srv_count                      0.947230\n",
    "count                        srv_count                      0.944881\n",
    "dst_host_same_srv_rate       same_srv_rate                  0.929902\n",
    "same_srv_rate                dst_host_srv_count             0.904395\n",
    "same_srv_rate                dst_host_serror_rate           0.866402\n",
    "serror_rate                  same_srv_rate                  0.866047\n",
    "count                        dst_host_same_src_port_rate    0.865827\n",
    "dst_host_srv_serror_rate     same_srv_rate                  0.865370\n",
    "srv_serror_rate              same_srv_rate                  0.864885\n",
    "dst_host_same_srv_rate       dst_host_serror_rate           0.808542\n",
    "dst_host_same_srv_rate       serror_rate                    0.807922\n",
    "dst_host_srv_serror_rate     dst_host_same_srv_rate         0.807354\n",
    "dst_host_same_srv_rate       srv_serror_rate                0.806843\n",
    "```\n"
   ]
  },
  {
   "cell_type": "code",
   "execution_count": 344,
   "metadata": {},
   "outputs": [],
   "source": [
    "# # counts the number of unique items per category, in order to consider dummyizing\n",
    "# category_unique_counts = tics.count_categories(df)"
   ]
  },
  {
   "cell_type": "code",
   "execution_count": 323,
   "metadata": {},
   "outputs": [],
   "source": [
    "# Time to actually drop some features, in particular anything correlated above .80 above\n",
    "if 'dst_host_srv_serror_rate' in df:\n",
    "    df.drop(['dst_host_srv_serror_rate', 'srv_serror_rate', 'dst_host_serror_rate', 'serror_rate', 'srv_rerror_rate',\n",
    "             'rerror_rate', 'dst_host_rerror_rate','dst_host_srv_count', 'dst_host_same_src_port_rate',\n",
    "             'count', 'dst_host_same_srv_rate', 'same_srv_rate', 'hot'], axis=1, inplace=True)"
   ]
  },
  {
   "cell_type": "code",
   "execution_count": 324,
   "metadata": {
    "scrolled": false
   },
   "outputs": [
    {
     "name": "stdout",
     "output_type": "stream",
     "text": [
      "dropped land\n",
      "dropped num_outbound_cmds\n",
      "dropped is_host_login\n"
     ]
    }
   ],
   "source": [
    "trans.drop_zeros_columns(df)"
   ]
  },
  {
   "cell_type": "code",
   "execution_count": 325,
   "metadata": {},
   "outputs": [
    {
     "data": {
      "text/plain": [
       "Index(['duration', 'protocol_type', 'service', 'flag', 'src_bytes',\n",
       "       'dst_bytes', 'wrong_fragment', 'urgent', 'num_failed_logins',\n",
       "       'logged_in', 'num_compromised', 'root_shell', 'su_attempted',\n",
       "       'num_root', 'num_file_creations', 'num_shells', 'num_access_files',\n",
       "       'is_guest_login', 'srv_count', 'diff_srv_rate', 'srv_diff_host_rate',\n",
       "       'dst_host_count', 'dst_host_diff_srv_rate',\n",
       "       'dst_host_srv_diff_host_rate', 'dst_host_srv_rerror_rate', 'label'],\n",
       "      dtype='object')"
      ]
     },
     "execution_count": 325,
     "metadata": {},
     "output_type": "execute_result"
    }
   ],
   "source": [
    "df.columns"
   ]
  },
  {
   "cell_type": "markdown",
   "metadata": {},
   "source": [
    "#### Dropping irrelevant features\n",
    "Considering that lasso is determining what features to keep (below), I decided to drop the suggested keepers until I get to a point where my logistic regression fails adequately.  This is an attempt to discern which features are derived\n",
    "\n",
    "#### Then, trimming down a bit at a time"
   ]
  },
  {
   "cell_type": "code",
   "execution_count": 326,
   "metadata": {},
   "outputs": [
    {
     "name": "stdout",
     "output_type": "stream",
     "text": [
      "{'int64': Index(['duration', 'src_bytes', 'dst_bytes', 'wrong_fragment', 'urgent',\n",
      "       'num_failed_logins', 'logged_in', 'num_compromised', 'root_shell',\n",
      "       'su_attempted', 'num_root', 'num_file_creations', 'num_shells',\n",
      "       'num_access_files', 'is_guest_login', 'srv_count', 'dst_host_count'],\n",
      "      dtype='object'), 'float64': Index(['diff_srv_rate', 'srv_diff_host_rate', 'dst_host_diff_srv_rate',\n",
      "       'dst_host_srv_diff_host_rate', 'dst_host_srv_rerror_rate'],\n",
      "      dtype='object'), 'object': Index(['protocol_type', 'service', 'flag', 'label'], dtype='object')}\n"
     ]
    },
    {
     "data": {
      "text/plain": [
       "Index(['protocol_type', 'service', 'flag', 'label'], dtype='object')"
      ]
     },
     "execution_count": 326,
     "metadata": {},
     "output_type": "execute_result"
    }
   ],
   "source": [
    "# create dict based on dtypes\n",
    "g = df.columns.to_series().groupby(df.dtypes).groups\n",
    "df_dtypes = {k.name: v for k, v in g.items()}\n",
    "print(df_dtypes)\n",
    "\n",
    "# get list of objects\n",
    "objects = df_dtypes['object']\n",
    "objects"
   ]
  },
  {
   "cell_type": "code",
   "execution_count": 327,
   "metadata": {},
   "outputs": [
    {
     "name": "stdout",
     "output_type": "stream",
     "text": [
      "<class 'pandas.core.frame.DataFrame'>\n",
      "RangeIndex: 100000 entries, 0 to 99999\n",
      "Data columns (total 26 columns):\n",
      "duration                       100000 non-null int64\n",
      "protocol_type                  100000 non-null object\n",
      "service                        100000 non-null object\n",
      "flag                           100000 non-null object\n",
      "src_bytes                      100000 non-null int64\n",
      "dst_bytes                      100000 non-null int64\n",
      "wrong_fragment                 100000 non-null int64\n",
      "urgent                         100000 non-null int64\n",
      "num_failed_logins              100000 non-null int64\n",
      "logged_in                      100000 non-null int64\n",
      "num_compromised                100000 non-null int64\n",
      "root_shell                     100000 non-null int64\n",
      "su_attempted                   100000 non-null int64\n",
      "num_root                       100000 non-null int64\n",
      "num_file_creations             100000 non-null int64\n",
      "num_shells                     100000 non-null int64\n",
      "num_access_files               100000 non-null int64\n",
      "is_guest_login                 100000 non-null int64\n",
      "srv_count                      100000 non-null int64\n",
      "diff_srv_rate                  100000 non-null float64\n",
      "srv_diff_host_rate             100000 non-null float64\n",
      "dst_host_count                 100000 non-null int64\n",
      "dst_host_diff_srv_rate         100000 non-null float64\n",
      "dst_host_srv_diff_host_rate    100000 non-null float64\n",
      "dst_host_srv_rerror_rate       100000 non-null float64\n",
      "label                          100000 non-null object\n",
      "dtypes: float64(5), int64(17), object(4)\n",
      "memory usage: 19.8+ MB\n"
     ]
    }
   ],
   "source": [
    "df.info()"
   ]
  },
  {
   "cell_type": "code",
   "execution_count": 328,
   "metadata": {},
   "outputs": [
    {
     "name": "stdout",
     "output_type": "stream",
     "text": [
      "dropped duration\n",
      "dropped src_bytes\n",
      "dropped dst_bytes\n",
      "dropped wrong_fragment\n",
      "dropped urgent\n",
      "dropped num_failed_logins\n",
      "dropped logged_in\n",
      "dropped num_compromised\n",
      "dropped root_shell\n",
      "dropped su_attempted\n",
      "dropped num_root\n",
      "dropped num_file_creations\n",
      "dropped num_shells\n",
      "dropped num_access_files\n",
      "dropped is_guest_login\n",
      "dropped srv_count\n",
      "dropped diff_srv_rate\n",
      "dropped srv_diff_host_rate\n",
      "dropped dst_host_count\n",
      "dropped dst_host_diff_srv_rate\n",
      "dropped dst_host_srv_diff_host_rate\n",
      "dropped dst_host_srv_rerror_rate\n",
      "<class 'pandas.core.frame.DataFrame'>\n",
      "RangeIndex: 100000 entries, 0 to 99999\n",
      "Data columns (total 4 columns):\n",
      "protocol_type    100000 non-null object\n",
      "service          100000 non-null object\n",
      "flag             100000 non-null object\n",
      "label            100000 non-null object\n",
      "dtypes: object(4)\n",
      "memory usage: 3.1+ MB\n"
     ]
    }
   ],
   "source": [
    "def drop_all_except(keep):\n",
    "    for i in list(df.columns):\n",
    "        if i != 'label' and i not in keep:\n",
    "            drop_if_in(df, i)\n",
    "    \n",
    "drop_all_except(objects)\n",
    "\n",
    "    \n",
    "df.info()"
   ]
  },
  {
   "cell_type": "code",
   "execution_count": 329,
   "metadata": {},
   "outputs": [],
   "source": [
    "# title = 'Correlation Matrix of data after Dropping Correlated'\n",
    "# pltfuncs.corr_heat(df, title)"
   ]
  },
  {
   "cell_type": "code",
   "execution_count": 330,
   "metadata": {},
   "outputs": [],
   "source": [
    "# df.columns\n",
    "# g = sns.pairplot(df)"
   ]
  },
  {
   "cell_type": "markdown",
   "metadata": {},
   "source": [
    "### Modeling\n",
    "#### First try to get a simple logistic regression model working\n",
    "- steps to get there\n",
    "    - transform Label into its attack_category\n",
    "    - transform attack_category into only DOS (2), the rest zero, as DOS is the most prevalent type\n",
    "    - balance the data set by undersampling the more represented y"
   ]
  },
  {
   "cell_type": "code",
   "execution_count": 331,
   "metadata": {},
   "outputs": [
    {
     "data": {
      "text/plain": [
       "2    79512\n",
       "0    19633\n",
       "1      832\n",
       "4       22\n",
       "3        1\n",
       "Name: attack_category, dtype: int64"
      ]
     },
     "execution_count": 331,
     "metadata": {},
     "output_type": "execute_result"
    }
   ],
   "source": [
    "# read in label names csv and send it as dictionary to mapping function\n",
    "label_names = ['label', 'attack_category', 'attack_cat_num']\n",
    "labels_loc = 'data/categories.csv'\n",
    "labels_to_categories = pd.read_csv(labels_loc, header=None)\n",
    "labels_to_categories.columns = label_names\n",
    "col_name = 'label'\n",
    "new_col_name = 'attack_category'\n",
    "\n",
    "df = trans.rewrite_values(df, dict(zip(labels_to_categories.label, labels_to_categories.attack_cat_num)), col_name, new_col_name)\n",
    "df['attack_category'].value_counts()"
   ]
  },
  {
   "cell_type": "code",
   "execution_count": 332,
   "metadata": {},
   "outputs": [
    {
     "data": {
      "text/plain": [
       "1    79512\n",
       "0    20488\n",
       "Name: attack_category, dtype: int64"
      ]
     },
     "execution_count": 332,
     "metadata": {},
     "output_type": "execute_result"
    }
   ],
   "source": [
    "# rewrite all except attack_category types 2 to zero, put to new dataframe\n",
    "df = trans.rewrite_category2_to_zeros(df)\n",
    "df['attack_category'].value_counts()\n"
   ]
  },
  {
   "cell_type": "code",
   "execution_count": 333,
   "metadata": {},
   "outputs": [
    {
     "name": "stdout",
     "output_type": "stream",
     "text": [
      "removed 59024 rows\n"
     ]
    },
    {
     "data": {
      "text/plain": [
       "1    20488\n",
       "0    20488\n",
       "Name: attack_category, dtype: int64"
      ]
     },
     "execution_count": 333,
     "metadata": {},
     "output_type": "execute_result"
    }
   ],
   "source": [
    "df = trans.split_to_5050(df)\n",
    "df['attack_category'].value_counts()\n"
   ]
  },
  {
   "cell_type": "code",
   "execution_count": 334,
   "metadata": {},
   "outputs": [
    {
     "name": "stdout",
     "output_type": "stream",
     "text": [
      "dropped label\n"
     ]
    },
    {
     "data": {
      "text/plain": [
       "False"
      ]
     },
     "execution_count": 334,
     "metadata": {},
     "output_type": "execute_result"
    }
   ],
   "source": [
    "# drop label BEFORE running get dummies on data\n",
    "drop_if_in(df, 'label')\n",
    "'label' in df"
   ]
  },
  {
   "cell_type": "code",
   "execution_count": 335,
   "metadata": {},
   "outputs": [
    {
     "data": {
      "text/plain": [
       "(40976, 75)"
      ]
     },
     "execution_count": 335,
     "metadata": {},
     "output_type": "execute_result"
    }
   ],
   "source": [
    "if 'protocol_type' in df:\n",
    "    df = pd.get_dummies(df)\n",
    "df.shape"
   ]
  },
  {
   "cell_type": "code",
   "execution_count": 336,
   "metadata": {},
   "outputs": [
    {
     "data": {
      "text/plain": [
       "Index(['protocol_type_icmp', 'protocol_type_tcp', 'protocol_type_udp',\n",
       "       'service_IRC', 'service_X11', 'service_Z39_50', 'service_auth',\n",
       "       'service_bgp', 'service_courier', 'service_csnet_ns', 'service_ctf',\n",
       "       'service_daytime', 'service_discard', 'service_domain',\n",
       "       'service_domain_u', 'service_echo', 'service_eco_i', 'service_ecr_i',\n",
       "       'service_efs', 'service_exec', 'service_finger', 'service_ftp',\n",
       "       'service_ftp_data', 'service_gopher', 'service_hostnames',\n",
       "       'service_http', 'service_http_443', 'service_imap4', 'service_iso_tsap',\n",
       "       'service_klogin', 'service_kshell', 'service_ldap', 'service_link',\n",
       "       'service_login', 'service_mtp', 'service_name', 'service_netbios_dgm',\n",
       "       'service_netbios_ns', 'service_netbios_ssn', 'service_netstat',\n",
       "       'service_nnsp', 'service_nntp', 'service_ntp_u', 'service_other',\n",
       "       'service_pop_2', 'service_pop_3', 'service_printer', 'service_private',\n",
       "       'service_remote_job', 'service_rje', 'service_shell', 'service_smtp',\n",
       "       'service_sql_net', 'service_ssh', 'service_supdup', 'service_systat',\n",
       "       'service_telnet', 'service_time', 'service_urh_i', 'service_urp_i',\n",
       "       'service_uucp', 'service_uucp_path', 'service_vmnet', 'service_whois',\n",
       "       'flag_REJ', 'flag_RSTO', 'flag_RSTOS0', 'flag_RSTR', 'flag_S0',\n",
       "       'flag_S1', 'flag_S2', 'flag_S3', 'flag_SF', 'flag_SH'],\n",
       "      dtype='object')"
      ]
     },
     "execution_count": 336,
     "metadata": {},
     "output_type": "execute_result"
    }
   ],
   "source": [
    "# Split X and Y\n",
    "y = df['attack_category']\n",
    "X = df.copy()\n",
    "\n",
    "# in order to not throw errors\n",
    "if 'attack_category' in X:\n",
    "    X.drop(['attack_category'], axis=1, inplace=True)\n",
    "if 'label' in X:\n",
    "    X.drop(['label'], axis=1, inplace=True)\n",
    "    \n",
    "X.columns"
   ]
  },
  {
   "cell_type": "code",
   "execution_count": null,
   "metadata": {},
   "outputs": [],
   "source": []
  },
  {
   "cell_type": "markdown",
   "metadata": {},
   "source": [
    "### Attempting logistic regression"
   ]
  },
  {
   "cell_type": "code",
   "execution_count": 337,
   "metadata": {},
   "outputs": [],
   "source": [
    "# Split the dataset into the Training set and Test set\n",
    "from sklearn.cross_validation import train_test_split\n",
    "X_train, X_test, y_train, y_test = train_test_split(X, y, test_size=0.2)\n",
    "\n",
    "#\n",
    "# y_train.sum()\n",
    "# len(y_train)"
   ]
  },
  {
   "cell_type": "code",
   "execution_count": 338,
   "metadata": {},
   "outputs": [],
   "source": [
    "from sklearn.preprocessing import StandardScaler\n",
    "sc_X = StandardScaler()\n",
    "X_train = sc_X.fit_transform(X_train)\n",
    "X_test = sc_X.transform(X_test)"
   ]
  },
  {
   "cell_type": "code",
   "execution_count": 339,
   "metadata": {},
   "outputs": [
    {
     "data": {
      "text/plain": [
       "LogisticRegression(C=1.0, class_weight=None, dual=False, fit_intercept=True,\n",
       "          intercept_scaling=1, max_iter=100, multi_class='ovr', n_jobs=1,\n",
       "          penalty='l1', random_state=None, solver='liblinear', tol=0.0001,\n",
       "          verbose=0, warm_start=False)"
      ]
     },
     "execution_count": 339,
     "metadata": {},
     "output_type": "execute_result"
    }
   ],
   "source": [
    "from sklearn.linear_model import LogisticRegression\n",
    "\n",
    "# logistic regression object\n",
    "classifier = LogisticRegression(penalty='l1')\n",
    "\n",
    "# teach classifier the correlations betw X_train and y_train\n",
    "classifier.fit(X_train, y_train)"
   ]
  },
  {
   "cell_type": "code",
   "execution_count": 340,
   "metadata": {},
   "outputs": [],
   "source": [
    "# Predict the Test set results\n",
    "y_pred = classifier.predict(X_test) # vector giving prediction of each of the test set observations"
   ]
  },
  {
   "cell_type": "code",
   "execution_count": 341,
   "metadata": {},
   "outputs": [
    {
     "name": "stdout",
     "output_type": "stream",
     "text": [
      "True Positives: 4140\n",
      "True Negatives: 4019\n",
      "False Positives: 35\n",
      "True Negatives: 2\n",
      "\n",
      "Accuracy: 0.9954856027330405\n",
      "Classification_error: 0.0045143972669594926\n",
      "Recall: 0.9995171414775471\n",
      "Precision: 0.9916167664670659\n",
      "\n",
      "confusion matrix\n",
      "[[4019   35]\n",
      " [   2 4140]]\n"
     ]
    },
    {
     "data": {
      "image/png": "[encoded data removed]",
      "text/plain": [
       "<matplotlib.figure.Figure at 0x1a0ad0c5f8>"
      ]
     },
     "metadata": {},
     "output_type": "display_data"
    }
   ],
   "source": [
    "pltfuncs.my_confusion_matrix(y_test, y_pred)"
   ]
  },
  {
   "cell_type": "code",
   "execution_count": 342,
   "metadata": {},
   "outputs": [
    {
     "name": "stdout",
     "output_type": "stream",
     "text": [
      "Lasso(alpha=1.0, copy_X=True, fit_intercept=True, max_iter=1000,\n",
      "   normalize=False, positive=False, precompute=False, random_state=None,\n",
      "   selection='cyclic', tol=0.0001, warm_start=False)\n",
      "[ 0. -0. -0. -0. -0.  0. -0.  0.  0.  0.  0.  0.  0.  0. -0.  0. -0.  0.\n",
      "  0.  0. -0. -0. -0.  0.  0. -0.  0.  0.  0.  0.  0.  0.  0.  0.  0.  0.\n",
      "  0.  0.  0.  0.  0.  0. -0. -0.  0. -0.  0.  0.  0.  0.  0. -0.  0.  0.\n",
      "  0.  0. -0. -0. -0. -0.  0.  0.  0.  0. -0.  0. -0. -0.  0. -0.  0. -0.\n",
      " -0. -0.]\n"
     ]
    },
    {
     "data": {
      "text/plain": [
       "array([ 0., -0., -0., -0., -0.,  0., -0.,  0.,  0.,  0.,  0.,  0.,  0.,\n",
       "        0., -0.,  0., -0.,  0.,  0.,  0., -0., -0., -0.,  0.,  0., -0.,\n",
       "        0.,  0.,  0.,  0.,  0.,  0.,  0.,  0.,  0.,  0.,  0.,  0.,  0.,\n",
       "        0.,  0.,  0., -0., -0.,  0., -0.,  0.,  0.,  0.,  0.,  0., -0.,\n",
       "        0.,  0.,  0.,  0., -0., -0., -0., -0.,  0.,  0.,  0.,  0., -0.,\n",
       "        0., -0., -0.,  0., -0.,  0., -0., -0., -0.])"
      ]
     },
     "execution_count": 342,
     "metadata": {},
     "output_type": "execute_result"
    }
   ],
   "source": [
    "lasso = Lasso()\n",
    "lasso.fit(X_train, y_train)\n",
    "\n",
    "print(lasso)\n",
    "print(lasso.coef_)\n",
    "# remove 0 coefficients \n",
    "lasso.coef_"
   ]
  },
  {
   "cell_type": "code",
   "execution_count": null,
   "metadata": {},
   "outputs": [],
   "source": []
  },
  {
   "cell_type": "code",
   "execution_count": null,
   "metadata": {},
   "outputs": [],
   "source": []
  },
  {
   "cell_type": "code",
   "execution_count": null,
   "metadata": {},
   "outputs": [],
   "source": []
  },
  {
   "cell_type": "code",
   "execution_count": null,
   "metadata": {},
   "outputs": [],
   "source": []
  },
  {
   "cell_type": "code",
   "execution_count": null,
   "metadata": {},
   "outputs": [],
   "source": []
  },
  {
   "cell_type": "code",
   "execution_count": null,
   "metadata": {},
   "outputs": [],
   "source": []
  },
  {
   "cell_type": "code",
   "execution_count": null,
   "metadata": {},
   "outputs": [],
   "source": []
  },
  {
   "cell_type": "code",
   "execution_count": null,
   "metadata": {},
   "outputs": [],
   "source": []
  },
  {
   "cell_type": "code",
   "execution_count": null,
   "metadata": {},
   "outputs": [],
   "source": []
  },
  {
   "cell_type": "markdown",
   "metadata": {},
   "source": [
    "### Clean up below"
   ]
  },
  {
   "cell_type": "code",
   "execution_count": null,
   "metadata": {},
   "outputs": [],
   "source": [
    "from sklearn.datasets import make_classification\n",
    "from sklearn.linear_model import LogisticRegression\n",
    "import matplotlib.pyplot as plt\n",
    "from sklearn.model_selection import train_test_split\n",
    "\n",
    "X_train, X_test, y_train, y_test = train_test_split(X, y)\n",
    "\n",
    "\n",
    "# scaler = StandardScaler().fit(X_train)\n",
    "# X_train_1 = scaler.transform(X_train)\n",
    "# X_test_1 = scaler.transform(X_test)\n",
    "\n",
    "model = LogisticRegression(class_weight='balanced')\n",
    "model.fit(X_train, y_train)\n",
    "probabilities = model.predict_proba(X_test)[:, 1]\n",
    "\n",
    "# tpr, fpr, thresholds = roc.roc_curve(probabilities, y_test)\n",
    "tpr, fpr, thresholds = roc_curve(y_test, probabilities, pos_label=2)\n",
    "\n",
    "plt.plot(fpr, tpr)\n",
    "plt.xlabel(\"False Positive Rate (1 - Specificity)\")\n",
    "plt.ylabel(\"True Positive Rate (Sensitivity, Recall)\")\n",
    "plt.title(\"ROC plot of Logistic Regression Thresholds\")\n",
    "plt.show()"
   ]
  },
  {
   "cell_type": "markdown",
   "metadata": {},
   "source": [
    "### Attempting Lasso"
   ]
  },
  {
   "cell_type": "code",
   "execution_count": null,
   "metadata": {},
   "outputs": [],
   "source": [
    "# scaler = StandardScaler()\n",
    "\n",
    "\n"
   ]
  },
  {
   "cell_type": "markdown",
   "metadata": {},
   "source": [
    "scorer  = make_scorer(sc.rmsle, greater_is_better=True)\n",
    "\n",
    "#How to manage many models\n",
    "pipelines = []\n",
    "pipelines.append(('ScaledLR', Pipeline([('Scaler', StandardScaler()),('LR',LinearRegression())])))\n",
    "pipelines.append(('ScaledLASSO', Pipeline([('Scaler', StandardScaler()),('LASSO', Lasso())])))\n",
    "pipelines.append(('ScaledRidge', Pipeline([('Scaler', StandardScaler()),('EN', Ridge())])))"
   ]
  },
  {
   "cell_type": "code",
   "execution_count": null,
   "metadata": {},
   "outputs": [],
   "source": [
    "results = []\n",
    "names = []\n",
    "for name, model in pipelines:\n",
    "    kfold = KFold(n_splits=3, random_state=21)\n",
    "    cv_results = cross_val_score(model, X_train, y_train, cv=kfold, scoring=scorer)\n",
    "    results.append(cv_results)\n",
    "    names.append(name)\n",
    "    msg = \"%s: %f (%f)\" % (name, cv_results.mean(), cv_results.std())\n",
    "    \n",
    "    plt.plot(cv_results)\n",
    "#     plt.xlabel('n')\n",
    "#     plt.ylabel('rmse')\n",
    "#     plt.title('average test rmse vs sample size n');\n",
    "    \n",
    "    print(msg)"
   ]
  },
  {
   "cell_type": "markdown",
   "metadata": {},
   "source": [
    "## Run classifier on test data (has new features)"
   ]
  },
  {
   "cell_type": "markdown",
   "metadata": {},
   "source": [
    "## make series of pairwise plots"
   ]
  },
  {
   "cell_type": "markdown",
   "metadata": {},
   "source": [
    "## plug in knn"
   ]
  },
  {
   "cell_type": "code",
   "execution_count": null,
   "metadata": {},
   "outputs": [],
   "source": []
  }
 ],
 "metadata": {
  "kernelspec": {
   "display_name": "Python 3",
   "language": "python",
   "name": "python3"
  },
  "language_info": {
   "codemirror_mode": {
    "name": "ipython",
    "version": 3
   },
   "file_extension": ".py",
   "mimetype": "text/x-python",
   "name": "python",
   "nbconvert_exporter": "python",
   "pygments_lexer": "ipython3",
   "version": "3.6.4"
  }
 },
 "nbformat": 4,
 "nbformat_minor": 2
}
