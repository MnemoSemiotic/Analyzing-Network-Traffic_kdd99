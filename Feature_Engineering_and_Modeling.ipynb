{
 "cells": [
  {
   "cell_type": "code",
   "execution_count": 773,
   "metadata": {},
   "outputs": [
    {
     "data": {
      "text/html": [
       "<style>\n",
       "table {float:left}\n",
       "</style>"
      ],
      "text/plain": [
       "<IPython.core.display.HTML object>"
      ]
     },
     "metadata": {},
     "output_type": "display_data"
    }
   ],
   "source": [
    "%%html\n",
    "<style>\n",
    "table {float:left}\n",
    "</style>"
   ]
  },
  {
   "cell_type": "code",
   "execution_count": 774,
   "metadata": {},
   "outputs": [],
   "source": [
    "# my python files\n",
    "import src.analytics as tics\n",
    "import src.plotting_functions as pltfuncs\n",
    "import src.transforms as trans\n",
    "import src.hyp_test as hyp\n",
    "import src.score_model as sc\n",
    "import src.roc_curve as roc\n",
    "import src.run_on_classifier as run\n",
    "\n",
    "\n",
    "\n",
    "# Imports\n",
    "from matplotlib import pyplot as plt\n",
    "import seaborn as sns\n",
    "import numpy as np\n",
    "import scipy.stats as stats\n",
    "from scipy.stats import kendalltau\n",
    "import pandas as pd\n",
    "import matplotlib.pyplot as plt\n",
    "from sklearn.model_selection import cross_val_score, KFold, train_test_split\n",
    "from sklearn.preprocessing import StandardScaler\n",
    "from sklearn.metrics import make_scorer\n",
    "from sklearn.linear_model import LinearRegression, LogisticRegression, Lasso, Ridge\n",
    "from sklearn.pipeline import Pipeline\n",
    "from basis_expansions.basis_expansions import (\n",
    "    Polynomial, LinearSpline, NaturalCubicSpline)\n",
    "from regression_tools.dftransformers import (\n",
    "    ColumnSelector, Identity, FeatureUnion, MapFeature, Intercept)\n",
    "from regression_tools.plotting_tools import (\n",
    "    plot_univariate_smooth,\n",
    "    bootstrap_train,\n",
    "    display_coef,\n",
    "    plot_bootstrap_coefs,\n",
    "    plot_partial_depenence,\n",
    "    plot_partial_dependences,\n",
    "    predicteds_vs_actuals)\n",
    "from sklearn.metrics import roc_curve, auc\n",
    "\n",
    "%matplotlib inline"
   ]
  },
  {
   "cell_type": "code",
   "execution_count": 775,
   "metadata": {},
   "outputs": [],
   "source": [
    "# On OSX requires brew install coreutils, using gshuf instead of shuf\n",
    "sample_name = 'data/sample_random_subset.csv'\n",
    "tics.create_random_samples('data/kddcup.data', 100000, sample_name)\n",
    "\n",
    "df = trans.read_data(sample_name)"
   ]
  },
  {
   "cell_type": "markdown",
   "metadata": {},
   "source": [
    "### Dropping Features\n"
   ]
  },
  {
   "cell_type": "markdown",
   "metadata": {},
   "source": [
    "**Highly Correlated Features**"
   ]
  },
  {
   "cell_type": "code",
   "execution_count": 776,
   "metadata": {},
   "outputs": [
    {
     "name": "stdout",
     "output_type": "stream",
     "text": [
      "dropped num_compromised\n",
      "dropped srv_serror_rate\n",
      "dropped dst_host_serror_rate\n",
      "dropped serror_rate\n",
      "dropped dst_host_srv_serror_rate\n",
      "dropped rerror_rate\n",
      "dropped dst_host_rerror_rate\n",
      "dropped dst_host_srv_rerror_rate\n",
      "dropped dst_host_srv_count\n",
      "dropped srv_count\n",
      "dropped dst_host_same_srv_rate\n",
      "dropped count\n",
      "dropped hot\n",
      "dropped dst_host_same_src_port_rate\n",
      "dropped root_shell\n",
      "dropped same_srv_rate\n",
      "dropped urgent\n",
      "dropped num_outbound_cmds\n",
      "dropped is_host_login\n"
     ]
    }
   ],
   "source": [
    "df = trans.drop_high_correlations(df)\n",
    "trans.drop_zeros_columns(df)"
   ]
  },
  {
   "cell_type": "markdown",
   "metadata": {},
   "source": [
    "#### Dropping irrelevant features\n",
    "Considering that lasso is determining what features to keep (below), I decided to drop the suggested keepers until I get to a point where my logistic regression fails adequately.  This is an attempt to discern which features are derived\n",
    "\n",
    "#### Then, trimming down a bit at a time"
   ]
  },
  {
   "cell_type": "code",
   "execution_count": 782,
   "metadata": {},
   "outputs": [],
   "source": [
    "# # Uncomment to get a list of objects\n",
    "# df_types = tics.get_dict_of_dtypes(df)\n",
    "# objects = df_dtypes['object']\n",
    "# objects\n",
    "column_list = list(df.columns)"
   ]
  },
  {
   "cell_type": "code",
   "execution_count": 787,
   "metadata": {
    "scrolled": false
   },
   "outputs": [
    {
     "name": "stdout",
     "output_type": "stream",
     "text": [
      "\n",
      "\n",
      "\n",
      "\n",
      "#--------------------------------------------#\n",
      "     Running classifier on ['duration']\n",
      "#--------------------------------------------#\n",
      "\n",
      "\n",
      "Modified Y to balance 1s and 0s\n",
      "1    20644\n",
      "0    20644\n",
      "Name: attack_category, dtype: int64\n",
      "\n",
      "\n",
      "True Positives: 4093\n",
      "True Negatives: 314\n",
      "False Positives: 3851\n",
      "True Negatives: 0\n",
      "\n",
      "Accuracy: 0.533664325502543\n",
      "Classification_error: 0.466335674497457\n",
      "Recall: 1.0\n",
      "Precision: 0.5152316213494461\n",
      "\n",
      "confusion matrix\n",
      "[[ 314 3851]\n",
      " [   0 4093]]\n",
      "\n",
      "\n",
      "\n",
      "\n",
      "#--------------------------------------------#\n",
      "     Running classifier on ['protocol_type']\n",
      "#--------------------------------------------#\n",
      "\n",
      "\n",
      "Modified Y to balance 1s and 0s\n",
      "1    20644\n",
      "0    20644\n",
      "Name: attack_category, dtype: int64\n",
      "\n",
      "\n",
      "True Positives: 3008\n",
      "True Negatives: 3999\n",
      "False Positives: 101\n",
      "True Negatives: 1150\n",
      "\n",
      "Accuracy: 0.8485105352385566\n",
      "Classification_error: 0.15148946476144345\n",
      "Recall: 0.7234247234247234\n",
      "Precision: 0.9675136699903506\n",
      "\n",
      "confusion matrix\n",
      "[[3999  101]\n",
      " [1150 3008]]\n",
      "\n",
      "\n",
      "\n",
      "\n",
      "#--------------------------------------------#\n",
      "     Running classifier on ['service']\n",
      "#--------------------------------------------#\n",
      "\n",
      "\n",
      "Modified Y to balance 1s and 0s\n",
      "1    20644\n",
      "0    20644\n",
      "Name: attack_category, dtype: int64\n",
      "\n",
      "\n",
      "True Positives: 4079\n",
      "True Negatives: 3790\n",
      "False Positives: 371\n",
      "True Negatives: 18\n",
      "\n",
      "Accuracy: 0.9528941632356502\n",
      "Classification_error: 0.04710583676434972\n",
      "Recall: 0.9956065413717354\n",
      "Precision: 0.9166292134831461\n",
      "\n",
      "confusion matrix\n",
      "[[3790  371]\n",
      " [  18 4079]]\n",
      "\n",
      "\n",
      "\n",
      "\n",
      "#--------------------------------------------#\n",
      "     Running classifier on ['flag']\n",
      "#--------------------------------------------#\n",
      "\n",
      "\n",
      "Modified Y to balance 1s and 0s\n",
      "1    20644\n",
      "0    20644\n",
      "Name: attack_category, dtype: int64\n",
      "\n",
      "\n",
      "True Positives: 933\n",
      "True Negatives: 4182\n",
      "False Positives: 11\n",
      "True Negatives: 3132\n",
      "\n",
      "Accuracy: 0.6193993703075805\n",
      "Classification_error: 0.3806006296924195\n",
      "Recall: 0.22952029520295203\n",
      "Precision: 0.9883474576271186\n",
      "\n",
      "confusion matrix\n",
      "[[4182   11]\n",
      " [3132  933]]\n",
      "\n",
      "\n",
      "\n",
      "\n",
      "#--------------------------------------------#\n",
      "     Running classifier on ['src_bytes']\n",
      "#--------------------------------------------#\n",
      "\n",
      "\n",
      "Modified Y to balance 1s and 0s\n",
      "1    20644\n",
      "0    20644\n",
      "Name: attack_category, dtype: int64\n",
      "\n",
      "\n",
      "True Positives: 0\n",
      "True Negatives: 4117\n",
      "False Positives: 0\n",
      "True Negatives: 4141\n",
      "\n",
      "Accuracy: 0.4985468636473722\n",
      "Classification_error: 0.5014531363526278\n",
      "Recall: 0.0\n",
      "Precision: nan\n",
      "\n",
      "confusion matrix\n",
      "[[4117    0]\n",
      " [4141    0]]\n",
      "\n",
      "\n",
      "\n",
      "\n",
      "#--------------------------------------------#\n",
      "     Running classifier on ['dst_bytes']\n",
      "#--------------------------------------------#\n"
     ]
    },
    {
     "name": "stderr",
     "output_type": "stream",
     "text": [
      "/Users/tbot/Dropbox/0_galvanize/0_TODAY/Analyzing-Network-Traffic_kdd99/src/plotting_functions.py:123: RuntimeWarning: invalid value encountered in long_scalars\n",
      "  precision = TP / (TP + FP)\n"
     ]
    },
    {
     "name": "stdout",
     "output_type": "stream",
     "text": [
      "\n",
      "\n",
      "Modified Y to balance 1s and 0s\n",
      "1    20644\n",
      "0    20644\n",
      "Name: attack_category, dtype: int64\n",
      "\n",
      "\n",
      "True Positives: 4105\n",
      "True Negatives: 2730\n",
      "False Positives: 1421\n",
      "True Negatives: 2\n",
      "\n",
      "Accuracy: 0.8276822475175587\n",
      "Classification_error: 0.17231775248244127\n",
      "Recall: 0.9995130265400536\n",
      "Precision: 0.7428519724936663\n",
      "\n",
      "confusion matrix\n",
      "[[2730 1421]\n",
      " [   2 4105]]\n",
      "\n",
      "\n",
      "\n",
      "\n",
      "#--------------------------------------------#\n",
      "     Running classifier on ['land']\n",
      "#--------------------------------------------#\n",
      "\n",
      "\n",
      "Modified Y to balance 1s and 0s\n",
      "1    20644\n",
      "0    20644\n",
      "Name: attack_category, dtype: int64\n",
      "\n",
      "\n",
      "True Positives: 4079\n",
      "True Negatives: 0\n",
      "False Positives: 4179\n",
      "True Negatives: 0\n",
      "\n",
      "Accuracy: 0.49394526519738435\n",
      "Classification_error: 0.5060547348026156\n",
      "Recall: 1.0\n",
      "Precision: 0.49394526519738435\n",
      "\n",
      "confusion matrix\n",
      "[[   0 4179]\n",
      " [   0 4079]]\n",
      "\n",
      "\n",
      "\n",
      "\n",
      "#--------------------------------------------#\n",
      "     Running classifier on ['wrong_fragment']\n",
      "#--------------------------------------------#\n",
      "\n",
      "\n",
      "Modified Y to balance 1s and 0s\n",
      "1    20644\n",
      "0    20644\n",
      "Name: attack_category, dtype: int64\n",
      "\n",
      "\n",
      "True Positives: 3\n",
      "True Negatives: 4130\n",
      "False Positives: 0\n",
      "True Negatives: 4125\n",
      "\n",
      "Accuracy: 0.5004843787842093\n",
      "Classification_error: 0.49951562121579074\n",
      "Recall: 0.0007267441860465116\n",
      "Precision: 1.0\n",
      "\n",
      "confusion matrix\n",
      "[[4130    0]\n",
      " [4125    3]]\n",
      "\n",
      "\n",
      "\n",
      "\n",
      "#--------------------------------------------#\n",
      "     Running classifier on ['num_failed_logins']\n",
      "#--------------------------------------------#\n",
      "\n",
      "\n",
      "Modified Y to balance 1s and 0s\n",
      "1    20644\n",
      "0    20644\n",
      "Name: attack_category, dtype: int64\n",
      "\n",
      "\n",
      "True Positives: 4089\n",
      "True Negatives: 0\n",
      "False Positives: 4169\n",
      "True Negatives: 0\n",
      "\n",
      "Accuracy: 0.4951562121579075\n",
      "Classification_error: 0.5048437878420925\n",
      "Recall: 1.0\n",
      "Precision: 0.4951562121579075\n",
      "\n",
      "confusion matrix\n",
      "[[   0 4169]\n",
      " [   0 4089]]\n",
      "\n",
      "\n",
      "\n",
      "\n",
      "#--------------------------------------------#\n",
      "     Running classifier on ['logged_in']\n",
      "#--------------------------------------------#\n",
      "\n",
      "\n",
      "Modified Y to balance 1s and 0s\n",
      "1    20644\n",
      "0    20644\n",
      "Name: attack_category, dtype: int64\n",
      "\n",
      "\n",
      "True Positives: 4064\n",
      "True Negatives: 2870\n",
      "False Positives: 1321\n",
      "True Negatives: 3\n",
      "\n",
      "Accuracy: 0.8396706224267377\n",
      "Classification_error: 0.1603293775732623\n",
      "Recall: 0.9992623555446275\n",
      "Precision: 0.7546889507892294\n",
      "\n",
      "confusion matrix\n",
      "[[2870 1321]\n",
      " [   3 4064]]\n",
      "\n",
      "\n",
      "\n",
      "\n",
      "#--------------------------------------------#\n",
      "     Running classifier on ['su_attempted']\n",
      "#--------------------------------------------#\n",
      "\n",
      "\n",
      "Modified Y to balance 1s and 0s\n",
      "1    20644\n",
      "0    20644\n",
      "Name: attack_category, dtype: int64\n",
      "\n",
      "\n",
      "True Positives: 4131\n",
      "True Negatives: 1\n",
      "False Positives: 4126\n",
      "True Negatives: 0\n",
      "\n",
      "Accuracy: 0.5003632840881569\n",
      "Classification_error: 0.49963671591184305\n",
      "Recall: 1.0\n",
      "Precision: 0.5003027734043841\n",
      "\n",
      "confusion matrix\n",
      "[[   1 4126]\n",
      " [   0 4131]]\n",
      "\n",
      "\n",
      "\n",
      "\n",
      "#--------------------------------------------#\n",
      "     Running classifier on ['num_root']\n",
      "#--------------------------------------------#\n",
      "\n",
      "\n",
      "Modified Y to balance 1s and 0s\n",
      "1    20644\n",
      "0    20644\n",
      "Name: attack_category, dtype: int64\n",
      "\n",
      "\n",
      "True Positives: 4142\n",
      "True Negatives: 24\n",
      "False Positives: 4092\n",
      "True Negatives: 0\n",
      "\n",
      "Accuracy: 0.5044805037539356\n",
      "Classification_error: 0.4955194962460644\n",
      "Recall: 1.0\n",
      "Precision: 0.5030361914015059\n",
      "\n",
      "confusion matrix\n",
      "[[  24 4092]\n",
      " [   0 4142]]\n",
      "\n",
      "\n",
      "\n",
      "\n",
      "#--------------------------------------------#\n",
      "     Running classifier on ['num_file_creations']\n",
      "#--------------------------------------------#\n",
      "\n",
      "\n",
      "Modified Y to balance 1s and 0s\n",
      "1    20644\n",
      "0    20644\n",
      "Name: attack_category, dtype: int64\n",
      "\n",
      "\n",
      "True Positives: 4145\n",
      "True Negatives: 11\n",
      "False Positives: 4102\n",
      "True Negatives: 0\n",
      "\n",
      "Accuracy: 0.5032695567934125\n",
      "Classification_error: 0.49673044320658755\n",
      "Recall: 1.0\n",
      "Precision: 0.5026070086091913\n",
      "\n",
      "confusion matrix\n",
      "[[  11 4102]\n",
      " [   0 4145]]\n",
      "\n",
      "\n",
      "\n",
      "\n",
      "#--------------------------------------------#\n",
      "     Running classifier on ['num_shells']\n",
      "#--------------------------------------------#\n",
      "\n",
      "\n",
      "Modified Y to balance 1s and 0s\n",
      "1    20644\n",
      "0    20644\n",
      "Name: attack_category, dtype: int64\n",
      "\n",
      "\n",
      "True Positives: 0\n",
      "True Negatives: 4074\n",
      "False Positives: 0\n",
      "True Negatives: 4184\n",
      "\n",
      "Accuracy: 0.4933397917171228\n",
      "Classification_error: 0.5066602082828772\n",
      "Recall: 0.0\n",
      "Precision: nan\n",
      "\n",
      "confusion matrix\n",
      "[[4074    0]\n",
      " [4184    0]]\n",
      "\n",
      "\n",
      "\n",
      "\n",
      "#--------------------------------------------#\n",
      "     Running classifier on ['num_access_files']\n",
      "#--------------------------------------------#\n",
      "\n",
      "\n",
      "Modified Y to balance 1s and 0s\n",
      "1    20644\n",
      "0    20644\n",
      "Name: attack_category, dtype: int64\n",
      "\n",
      "\n",
      "True Positives: 4101\n",
      "True Negatives: 19\n",
      "False Positives: 4138\n",
      "True Negatives: 0\n",
      "\n",
      "Accuracy: 0.49891014773552916\n",
      "Classification_error: 0.5010898522644708\n",
      "Recall: 1.0\n",
      "Precision: 0.4977545818667314\n",
      "\n",
      "confusion matrix\n",
      "[[  19 4138]\n",
      " [   0 4101]]\n",
      "\n",
      "\n",
      "\n",
      "\n",
      "#--------------------------------------------#\n",
      "     Running classifier on ['is_guest_login']\n",
      "#--------------------------------------------#\n",
      "\n",
      "\n",
      "Modified Y to balance 1s and 0s\n",
      "1    20644\n",
      "0    20644\n",
      "Name: attack_category, dtype: int64\n",
      "\n",
      "\n",
      "True Positives: 4109\n",
      "True Negatives: 13\n",
      "False Positives: 4136\n",
      "True Negatives: 0\n",
      "\n",
      "Accuracy: 0.4991523371276338\n",
      "Classification_error: 0.5008476628723662\n",
      "Recall: 1.0\n",
      "Precision: 0.49836264402668284\n",
      "\n",
      "confusion matrix\n",
      "[[  13 4136]\n",
      " [   0 4109]]\n",
      "\n",
      "\n",
      "\n",
      "\n",
      "#--------------------------------------------#\n",
      "     Running classifier on ['srv_rerror_rate']\n",
      "#--------------------------------------------#\n",
      "\n",
      "\n",
      "Modified Y to balance 1s and 0s\n",
      "1    20644\n",
      "0    20644\n",
      "Name: attack_category, dtype: int64\n",
      "\n",
      "\n",
      "True Positives: 3952\n",
      "True Negatives: 358\n",
      "False Positives: 3734\n",
      "True Negatives: 214\n",
      "\n",
      "Accuracy: 0.5219181399854687\n",
      "Classification_error: 0.47808186001453135\n",
      "Recall: 0.9486317810849736\n",
      "Precision: 0.5141816289357273\n",
      "\n",
      "confusion matrix\n",
      "[[ 358 3734]\n",
      " [ 214 3952]]\n",
      "\n",
      "\n",
      "\n",
      "\n",
      "#--------------------------------------------#\n",
      "     Running classifier on ['diff_srv_rate']\n",
      "#--------------------------------------------#\n",
      "\n",
      "\n",
      "Modified Y to balance 1s and 0s\n",
      "1    20644\n",
      "0    20644\n",
      "Name: attack_category, dtype: int64\n",
      "\n",
      "\n",
      "True Positives: 2964\n",
      "True Negatives: 175\n",
      "False Positives: 3965\n",
      "True Negatives: 1154\n",
      "\n",
      "Accuracy: 0.3801162509082102\n",
      "Classification_error: 0.6198837490917898\n",
      "Recall: 0.7197668771248179\n",
      "Precision: 0.4277673545966229\n",
      "\n",
      "confusion matrix\n",
      "[[ 175 3965]\n",
      " [1154 2964]]\n",
      "\n",
      "\n",
      "\n",
      "\n",
      "#--------------------------------------------#\n",
      "     Running classifier on ['srv_diff_host_rate']\n",
      "#--------------------------------------------#\n",
      "\n",
      "\n",
      "Modified Y to balance 1s and 0s\n",
      "1    20644\n",
      "0    20644\n",
      "Name: attack_category, dtype: int64\n",
      "\n",
      "\n",
      "True Positives: 4149\n",
      "True Negatives: 1359\n",
      "False Positives: 2749\n",
      "True Negatives: 1\n",
      "\n",
      "Accuracy: 0.6669895858561395\n",
      "Classification_error: 0.3330104141438605\n",
      "Recall: 0.9997590361445783\n",
      "Precision: 0.6014786894752102\n",
      "\n",
      "confusion matrix\n",
      "[[1359 2749]\n",
      " [   1 4149]]\n",
      "\n",
      "\n",
      "\n",
      "\n",
      "#--------------------------------------------#\n",
      "     Running classifier on ['dst_host_count']\n",
      "#--------------------------------------------#\n",
      "\n",
      "\n",
      "Modified Y to balance 1s and 0s\n",
      "1    20644\n",
      "0    20644\n",
      "Name: attack_category, dtype: int64\n",
      "\n",
      "\n",
      "True Positives: 4228\n",
      "True Negatives: 2313\n",
      "False Positives: 1713\n",
      "True Negatives: 4\n",
      "\n",
      "Accuracy: 0.7920804068781787\n",
      "Classification_error: 0.20791959312182126\n",
      "Recall: 0.999054820415879\n",
      "Precision: 0.7116647029119677\n",
      "\n",
      "confusion matrix\n",
      "[[2313 1713]\n",
      " [   4 4228]]\n",
      "\n",
      "\n",
      "\n",
      "\n",
      "#--------------------------------------------#\n",
      "     Running classifier on ['dst_host_diff_srv_rate']\n",
      "#--------------------------------------------#\n",
      "\n",
      "\n",
      "Modified Y to balance 1s and 0s\n",
      "1    20644\n",
      "0    20644\n",
      "Name: attack_category, dtype: int64\n",
      "\n",
      "\n",
      "True Positives: 2999\n",
      "True Negatives: 730\n",
      "False Positives: 3375\n",
      "True Negatives: 1154\n",
      "\n",
      "Accuracy: 0.4515621215790748\n",
      "Classification_error: 0.5484378784209252\n",
      "Recall: 0.7221285817481339\n",
      "Precision: 0.470505177282711\n",
      "\n",
      "confusion matrix\n",
      "[[ 730 3375]\n",
      " [1154 2999]]\n",
      "\n",
      "\n",
      "\n",
      "\n",
      "#--------------------------------------------#\n",
      "     Running classifier on ['dst_host_srv_diff_host_rate']\n",
      "#--------------------------------------------#\n",
      "\n",
      "\n",
      "Modified Y to balance 1s and 0s\n",
      "1    20644\n",
      "0    20644\n",
      "Name: attack_category, dtype: int64\n",
      "\n",
      "\n",
      "True Positives: 4090\n",
      "True Negatives: 2125\n",
      "False Positives: 2042\n",
      "True Negatives: 1\n",
      "\n",
      "Accuracy: 0.7526035359651247\n",
      "Classification_error: 0.24739646403487528\n",
      "Recall: 0.9997555609875336\n",
      "Precision: 0.6669928245270711\n",
      "\n",
      "confusion matrix\n",
      "[[2125 2042]\n",
      " [   1 4090]]\n",
      "\n",
      "\n",
      "\n",
      "\n",
      "#--------------------------------------------#\n",
      "     Running classifier on ['label']\n",
      "#--------------------------------------------#\n"
     ]
    },
    {
     "name": "stdout",
     "output_type": "stream",
     "text": [
      "\n",
      "\n",
      "Modified Y to balance 1s and 0s\n",
      "1    20644\n",
      "0    20644\n",
      "Name: attack_category, dtype: int64\n"
     ]
    },
    {
     "ename": "ValueError",
     "evalue": "Found array with 0 feature(s) (shape=(33030, 0)) while a minimum of 1 is required by StandardScaler.",
     "output_type": "error",
     "traceback": [
      "\u001b[0;31m-------------------------------------------------------\u001b[0m",
      "\u001b[0;31mValueError\u001b[0m            Traceback (most recent call last)",
      "\u001b[0;32m<ipython-input-787-eb858d134322>\u001b[0m in \u001b[0;36m<module>\u001b[0;34m()\u001b[0m\n\u001b[1;32m      5\u001b[0m     \u001b[0mclassifier\u001b[0m \u001b[0;34m=\u001b[0m \u001b[0mLogisticRegression\u001b[0m\u001b[0;34m(\u001b[0m\u001b[0mpenalty\u001b[0m\u001b[0;34m=\u001b[0m\u001b[0;34m'l1'\u001b[0m\u001b[0;34m)\u001b[0m\u001b[0;34m\u001b[0m\u001b[0m\n\u001b[1;32m      6\u001b[0m \u001b[0;34m\u001b[0m\u001b[0m\n\u001b[0;32m----> 7\u001b[0;31m     \u001b[0mrun\u001b[0m\u001b[0;34m.\u001b[0m\u001b[0mrun_classifier\u001b[0m\u001b[0;34m(\u001b[0m\u001b[0mdf\u001b[0m\u001b[0;34m,\u001b[0m \u001b[0mkeep\u001b[0m\u001b[0;34m,\u001b[0m \u001b[0mclassifier\u001b[0m\u001b[0;34m)\u001b[0m\u001b[0;34m\u001b[0m\u001b[0m\n\u001b[0m\u001b[1;32m      8\u001b[0m \u001b[0;34m\u001b[0m\u001b[0m\n\u001b[1;32m      9\u001b[0m \u001b[0;31m# df = trans.drop_all_except(df, keep)\u001b[0m\u001b[0;34m\u001b[0m\u001b[0;34m\u001b[0m\u001b[0m\n",
      "\u001b[0;32m~/Dropbox/0_galvanize/0_TODAY/Analyzing-Network-Traffic_kdd99/src/run_on_classifier.py\u001b[0m in \u001b[0;36mrun_classifier\u001b[0;34m(df_, keep, classifier)\u001b[0m\n\u001b[1;32m    103\u001b[0m     \u001b[0;32mfrom\u001b[0m \u001b[0msklearn\u001b[0m\u001b[0;34m.\u001b[0m\u001b[0mpreprocessing\u001b[0m \u001b[0;32mimport\u001b[0m \u001b[0mStandardScaler\u001b[0m\u001b[0;34m\u001b[0m\u001b[0m\n\u001b[1;32m    104\u001b[0m     \u001b[0msc_X\u001b[0m \u001b[0;34m=\u001b[0m \u001b[0mStandardScaler\u001b[0m\u001b[0;34m(\u001b[0m\u001b[0;34m)\u001b[0m\u001b[0;34m\u001b[0m\u001b[0m\n\u001b[0;32m--> 105\u001b[0;31m     \u001b[0mX_train\u001b[0m \u001b[0;34m=\u001b[0m \u001b[0msc_X\u001b[0m\u001b[0;34m.\u001b[0m\u001b[0mfit_transform\u001b[0m\u001b[0;34m(\u001b[0m\u001b[0mX_train\u001b[0m\u001b[0;34m)\u001b[0m\u001b[0;34m\u001b[0m\u001b[0m\n\u001b[0m\u001b[1;32m    106\u001b[0m     \u001b[0mX_test\u001b[0m \u001b[0;34m=\u001b[0m \u001b[0msc_X\u001b[0m\u001b[0;34m.\u001b[0m\u001b[0mtransform\u001b[0m\u001b[0;34m(\u001b[0m\u001b[0mX_test\u001b[0m\u001b[0;34m)\u001b[0m\u001b[0;34m\u001b[0m\u001b[0m\n\u001b[1;32m    107\u001b[0m \u001b[0;34m\u001b[0m\u001b[0m\n",
      "\u001b[0;32m~/anaconda3/lib/python3.6/site-packages/sklearn/base.py\u001b[0m in \u001b[0;36mfit_transform\u001b[0;34m(self, X, y, **fit_params)\u001b[0m\n\u001b[1;32m    515\u001b[0m         \u001b[0;32mif\u001b[0m \u001b[0my\u001b[0m \u001b[0;32mis\u001b[0m \u001b[0;32mNone\u001b[0m\u001b[0;34m:\u001b[0m\u001b[0;34m\u001b[0m\u001b[0m\n\u001b[1;32m    516\u001b[0m             \u001b[0;31m# fit method of arity 1 (unsupervised transformation)\u001b[0m\u001b[0;34m\u001b[0m\u001b[0;34m\u001b[0m\u001b[0m\n\u001b[0;32m--> 517\u001b[0;31m             \u001b[0;32mreturn\u001b[0m \u001b[0mself\u001b[0m\u001b[0;34m.\u001b[0m\u001b[0mfit\u001b[0m\u001b[0;34m(\u001b[0m\u001b[0mX\u001b[0m\u001b[0;34m,\u001b[0m \u001b[0;34m**\u001b[0m\u001b[0mfit_params\u001b[0m\u001b[0;34m)\u001b[0m\u001b[0;34m.\u001b[0m\u001b[0mtransform\u001b[0m\u001b[0;34m(\u001b[0m\u001b[0mX\u001b[0m\u001b[0;34m)\u001b[0m\u001b[0;34m\u001b[0m\u001b[0m\n\u001b[0m\u001b[1;32m    518\u001b[0m         \u001b[0;32melse\u001b[0m\u001b[0;34m:\u001b[0m\u001b[0;34m\u001b[0m\u001b[0m\n\u001b[1;32m    519\u001b[0m             \u001b[0;31m# fit method of arity 2 (supervised transformation)\u001b[0m\u001b[0;34m\u001b[0m\u001b[0;34m\u001b[0m\u001b[0m\n",
      "\u001b[0;32m~/anaconda3/lib/python3.6/site-packages/sklearn/preprocessing/data.py\u001b[0m in \u001b[0;36mfit\u001b[0;34m(self, X, y)\u001b[0m\n\u001b[1;32m    588\u001b[0m         \u001b[0;31m# Reset internal state before fitting\u001b[0m\u001b[0;34m\u001b[0m\u001b[0;34m\u001b[0m\u001b[0m\n\u001b[1;32m    589\u001b[0m         \u001b[0mself\u001b[0m\u001b[0;34m.\u001b[0m\u001b[0m_reset\u001b[0m\u001b[0;34m(\u001b[0m\u001b[0;34m)\u001b[0m\u001b[0;34m\u001b[0m\u001b[0m\n\u001b[0;32m--> 590\u001b[0;31m         \u001b[0;32mreturn\u001b[0m \u001b[0mself\u001b[0m\u001b[0;34m.\u001b[0m\u001b[0mpartial_fit\u001b[0m\u001b[0;34m(\u001b[0m\u001b[0mX\u001b[0m\u001b[0;34m,\u001b[0m \u001b[0my\u001b[0m\u001b[0;34m)\u001b[0m\u001b[0;34m\u001b[0m\u001b[0m\n\u001b[0m\u001b[1;32m    591\u001b[0m \u001b[0;34m\u001b[0m\u001b[0m\n\u001b[1;32m    592\u001b[0m     \u001b[0;32mdef\u001b[0m \u001b[0mpartial_fit\u001b[0m\u001b[0;34m(\u001b[0m\u001b[0mself\u001b[0m\u001b[0;34m,\u001b[0m \u001b[0mX\u001b[0m\u001b[0;34m,\u001b[0m \u001b[0my\u001b[0m\u001b[0;34m=\u001b[0m\u001b[0;32mNone\u001b[0m\u001b[0;34m)\u001b[0m\u001b[0;34m:\u001b[0m\u001b[0;34m\u001b[0m\u001b[0m\n",
      "\u001b[0;32m~/anaconda3/lib/python3.6/site-packages/sklearn/preprocessing/data.py\u001b[0m in \u001b[0;36mpartial_fit\u001b[0;34m(self, X, y)\u001b[0m\n\u001b[1;32m    610\u001b[0m         \"\"\"\n\u001b[1;32m    611\u001b[0m         X = check_array(X, accept_sparse=('csr', 'csc'), copy=self.copy,\n\u001b[0;32m--> 612\u001b[0;31m                         warn_on_dtype=True, estimator=self, dtype=FLOAT_DTYPES)\n\u001b[0m\u001b[1;32m    613\u001b[0m \u001b[0;34m\u001b[0m\u001b[0m\n\u001b[1;32m    614\u001b[0m         \u001b[0;31m# Even in the case of `with_mean=False`, we update the mean anyway\u001b[0m\u001b[0;34m\u001b[0m\u001b[0;34m\u001b[0m\u001b[0m\n",
      "\u001b[0;32m~/anaconda3/lib/python3.6/site-packages/sklearn/utils/validation.py\u001b[0m in \u001b[0;36mcheck_array\u001b[0;34m(array, accept_sparse, dtype, order, copy, force_all_finite, ensure_2d, allow_nd, ensure_min_samples, ensure_min_features, warn_on_dtype, estimator)\u001b[0m\n\u001b[1;32m    468\u001b[0m                              \u001b[0;34m\" a minimum of %d is required%s.\"\u001b[0m\u001b[0;34m\u001b[0m\u001b[0m\n\u001b[1;32m    469\u001b[0m                              % (n_features, shape_repr, ensure_min_features,\n\u001b[0;32m--> 470\u001b[0;31m                                 context))\n\u001b[0m\u001b[1;32m    471\u001b[0m \u001b[0;34m\u001b[0m\u001b[0m\n\u001b[1;32m    472\u001b[0m     \u001b[0;32mif\u001b[0m \u001b[0mwarn_on_dtype\u001b[0m \u001b[0;32mand\u001b[0m \u001b[0mdtype_orig\u001b[0m \u001b[0;32mis\u001b[0m \u001b[0;32mnot\u001b[0m \u001b[0;32mNone\u001b[0m \u001b[0;32mand\u001b[0m \u001b[0marray\u001b[0m\u001b[0;34m.\u001b[0m\u001b[0mdtype\u001b[0m \u001b[0;34m!=\u001b[0m \u001b[0mdtype_orig\u001b[0m\u001b[0;34m:\u001b[0m\u001b[0;34m\u001b[0m\u001b[0m\n",
      "\u001b[0;31mValueError\u001b[0m: Found array with 0 feature(s) (shape=(33030, 0)) while a minimum of 1 is required by StandardScaler."
     ]
    },
    {
     "data": {
      "image/png": "[encoded data removed]",
      "text/plain": [
       "<matplotlib.figure.Figure at 0x1a0b0e1cc0>"
      ]
     },
     "metadata": {},
     "output_type": "display_data"
    }
   ],
   "source": [
    "for col in column_list:\n",
    "    keep = [col]\n",
    "\n",
    "    # logistic regression object\n",
    "    classifier = LogisticRegression(penalty='l1')\n",
    "\n",
    "    run.run_classifier(df, keep, classifier)\n",
    "\n",
    "# df = trans.drop_all_except(df, keep)\n",
    "\n"
   ]
  },
  {
   "cell_type": "code",
   "execution_count": 763,
   "metadata": {},
   "outputs": [
    {
     "data": {
      "text/plain": [
       "Index(['protocol_type', 'label'], dtype='object')"
      ]
     },
     "execution_count": 763,
     "metadata": {},
     "output_type": "execute_result"
    }
   ],
   "source": [
    "# title = 'Correlation Matrix of data after Dropping Correlated'\n",
    "# pltfuncs.corr_heat(df, title)\n",
    "\n",
    "# df.columns\n",
    "df.columns"
   ]
  },
  {
   "cell_type": "code",
   "execution_count": 741,
   "metadata": {},
   "outputs": [],
   "source": [
    "# df.columns\n",
    "# g = sns.pairplot(df)"
   ]
  },
  {
   "cell_type": "markdown",
   "metadata": {},
   "source": [
    "### Modeling\n",
    "#### First try to get a simple logistic regression model working\n",
    "- steps to get there\n",
    "    - transform Label into its attack_category\n",
    "    - transform attack_category into only DOS (2), the rest zero, as DOS is the most prevalent type\n",
    "    - balance the data set by undersampling the more represented y"
   ]
  },
  {
   "cell_type": "code",
   "execution_count": 742,
   "metadata": {},
   "outputs": [
    {
     "data": {
      "text/plain": [
       "2    79235\n",
       "0    19900\n",
       "1      827\n",
       "4       36\n",
       "3        2\n",
       "Name: attack_category, dtype: int64"
      ]
     },
     "execution_count": 742,
     "metadata": {},
     "output_type": "execute_result"
    }
   ],
   "source": [
    "# # read in label names csv and send it as dictionary to mapping function\n",
    "# label_names = ['label', 'attack_category', 'attack_cat_num']\n",
    "# labels_loc = 'data/categories.csv'\n",
    "# labels_to_categories = pd.read_csv(labels_loc, header=None)\n",
    "# labels_to_categories.columns = label_names\n",
    "# col_name = 'label'\n",
    "# new_col_name = 'attack_category'\n",
    "\n",
    "# df = trans.rewrite_values(df, dict(zip(labels_to_categories.label, labels_to_categories.attack_cat_num)), col_name, new_col_name)\n",
    "# df['attack_category'].value_counts()"
   ]
  },
  {
   "cell_type": "code",
   "execution_count": 743,
   "metadata": {},
   "outputs": [
    {
     "data": {
      "text/html": [
       "<div>\n",
       "<style scoped>\n",
       "    .dataframe tbody tr th:only-of-type {\n",
       "        vertical-align: middle;\n",
       "    }\n",
       "\n",
       "    .dataframe tbody tr th {\n",
       "        vertical-align: top;\n",
       "    }\n",
       "\n",
       "    .dataframe thead th {\n",
       "        text-align: right;\n",
       "    }\n",
       "</style>\n",
       "<table border=\"1\" class=\"dataframe\">\n",
       "  <thead>\n",
       "    <tr style=\"text-align: right;\">\n",
       "      <th></th>\n",
       "      <th>protocol_type</th>\n",
       "      <th>label</th>\n",
       "      <th>attack_category</th>\n",
       "    </tr>\n",
       "  </thead>\n",
       "  <tbody>\n",
       "    <tr>\n",
       "      <th>0</th>\n",
       "      <td>icmp</td>\n",
       "      <td>smurf.</td>\n",
       "      <td>1</td>\n",
       "    </tr>\n",
       "    <tr>\n",
       "      <th>1</th>\n",
       "      <td>icmp</td>\n",
       "      <td>smurf.</td>\n",
       "      <td>1</td>\n",
       "    </tr>\n",
       "    <tr>\n",
       "      <th>2</th>\n",
       "      <td>tcp</td>\n",
       "      <td>neptune.</td>\n",
       "      <td>1</td>\n",
       "    </tr>\n",
       "    <tr>\n",
       "      <th>3</th>\n",
       "      <td>icmp</td>\n",
       "      <td>smurf.</td>\n",
       "      <td>1</td>\n",
       "    </tr>\n",
       "    <tr>\n",
       "      <th>4</th>\n",
       "      <td>icmp</td>\n",
       "      <td>smurf.</td>\n",
       "      <td>1</td>\n",
       "    </tr>\n",
       "  </tbody>\n",
       "</table>\n",
       "</div>"
      ],
      "text/plain": [
       "  protocol_type     label  attack_category\n",
       "0          icmp    smurf.                1\n",
       "1          icmp    smurf.                1\n",
       "2           tcp  neptune.                1\n",
       "3          icmp    smurf.                1\n",
       "4          icmp    smurf.                1"
      ]
     },
     "execution_count": 743,
     "metadata": {},
     "output_type": "execute_result"
    }
   ],
   "source": [
    "# # rewrite all except attack_category types 2 to zero, put to new dataframe\n",
    "# df = trans.rewrite_category2_to_zeros(df)\n",
    "# # df2['attack_category'].value_counts()\n",
    "# df.head()"
   ]
  },
  {
   "cell_type": "code",
   "execution_count": 744,
   "metadata": {},
   "outputs": [
    {
     "name": "stdout",
     "output_type": "stream",
     "text": [
      "removed 58470 rows\n"
     ]
    },
    {
     "data": {
      "text/plain": [
       "1    20765\n",
       "0    20765\n",
       "Name: attack_category, dtype: int64"
      ]
     },
     "execution_count": 744,
     "metadata": {},
     "output_type": "execute_result"
    }
   ],
   "source": [
    "# df = trans.split_to_5050(df)\n",
    "# df['attack_category'].value_counts()\n"
   ]
  },
  {
   "cell_type": "code",
   "execution_count": 697,
   "metadata": {},
   "outputs": [
    {
     "name": "stdout",
     "output_type": "stream",
     "text": [
      "dropped label\n"
     ]
    },
    {
     "data": {
      "text/plain": [
       "False"
      ]
     },
     "execution_count": 697,
     "metadata": {},
     "output_type": "execute_result"
    }
   ],
   "source": [
    "# # drop label BEFORE running get dummies on data\n",
    "# drop_if_in(df, 'label')\n",
    "# 'label' in df"
   ]
  },
  {
   "cell_type": "code",
   "execution_count": 698,
   "metadata": {},
   "outputs": [
    {
     "name": "stdout",
     "output_type": "stream",
     "text": [
      "<class 'pandas.core.frame.DataFrame'>\n",
      "Int64Index: 41932 entries, 75969 to 66253\n",
      "Data columns (total 4 columns):\n",
      "attack_category       41932 non-null int64\n",
      "protocol_type_icmp    41932 non-null uint8\n",
      "protocol_type_tcp     41932 non-null uint8\n",
      "protocol_type_udp     41932 non-null uint8\n",
      "dtypes: int64(1), uint8(3)\n",
      "memory usage: 778.0 KB\n"
     ]
    }
   ],
   "source": [
    "# # if 'protocol_type' in df:\n",
    "# df = pd.get_dummies(df)\n",
    "# df.info()"
   ]
  },
  {
   "cell_type": "code",
   "execution_count": 699,
   "metadata": {},
   "outputs": [
    {
     "data": {
      "text/plain": [
       "Index(['protocol_type_icmp', 'protocol_type_tcp', 'protocol_type_udp'], dtype='object')"
      ]
     },
     "execution_count": 699,
     "metadata": {},
     "output_type": "execute_result"
    }
   ],
   "source": [
    "# # Split X and Y\n",
    "# y = df['attack_category']\n",
    "# X = df.copy()\n",
    "\n",
    "# # in order to not throw errors\n",
    "# if 'attack_category' in X:\n",
    "#     X.drop(['attack_category'], axis=1, inplace=True)\n",
    "# if 'label' in X:\n",
    "#     X.drop(['label'], axis=1, inplace=True)\n",
    "    \n"
   ]
  },
  {
   "cell_type": "code",
   "execution_count": null,
   "metadata": {},
   "outputs": [],
   "source": []
  },
  {
   "cell_type": "markdown",
   "metadata": {},
   "source": [
    "### Attempting logistic regression"
   ]
  },
  {
   "cell_type": "code",
   "execution_count": 700,
   "metadata": {},
   "outputs": [],
   "source": [
    "# # Split the dataset into the Training set and Test set\n",
    "# from sklearn.cross_validation import train_test_split\n",
    "# X_train, X_test, y_train, y_test = train_test_split(X, y, test_size=0.2)\n",
    "\n",
    "#\n",
    "# y_train.sum()\n",
    "# len(y_train)"
   ]
  },
  {
   "cell_type": "code",
   "execution_count": 701,
   "metadata": {},
   "outputs": [],
   "source": [
    "# from sklearn.preprocessing import StandardScaler\n",
    "# sc_X = StandardScaler()\n",
    "# X_train = sc_X.fit_transform(X_train)\n",
    "# X_test = sc_X.transform(X_test)"
   ]
  },
  {
   "cell_type": "code",
   "execution_count": 702,
   "metadata": {},
   "outputs": [
    {
     "data": {
      "text/plain": [
       "LogisticRegression(C=1.0, class_weight=None, dual=False, fit_intercept=True,\n",
       "          intercept_scaling=1, max_iter=100, multi_class='ovr', n_jobs=1,\n",
       "          penalty='l1', random_state=None, solver='liblinear', tol=0.0001,\n",
       "          verbose=0, warm_start=False)"
      ]
     },
     "execution_count": 702,
     "metadata": {},
     "output_type": "execute_result"
    }
   ],
   "source": [
    "# from sklearn.linear_model import LogisticRegression\n",
    "\n",
    "# # logistic regression object\n",
    "# classifier = LogisticRegression(penalty='l1')\n",
    "\n",
    "# # teach classifier the correlations betw X_train and y_train\n",
    "# classifier.fit(X_train, y_train)"
   ]
  },
  {
   "cell_type": "code",
   "execution_count": 703,
   "metadata": {},
   "outputs": [],
   "source": [
    "# # Predict the Test set results\n",
    "# y_pred = classifier.predict(X_test) # vector giving prediction of each of the test set observations"
   ]
  },
  {
   "cell_type": "code",
   "execution_count": 704,
   "metadata": {},
   "outputs": [
    {
     "name": "stdout",
     "output_type": "stream",
     "text": [
      "True Positives: 3021\n",
      "True Negatives: 4044\n",
      "False Positives: 108\n",
      "True Negatives: 1214\n",
      "\n",
      "Accuracy: 0.8423751043281269\n",
      "Classification_error: 0.15762489567187313\n",
      "Recall: 0.7133412042502951\n",
      "Precision: 0.965484180249281\n",
      "\n",
      "confusion matrix\n",
      "[[4044  108]\n",
      " [1214 3021]]\n"
     ]
    },
    {
     "data": {
      "image/png": "[encoded data removed]",
      "text/plain": [
       "<matplotlib.figure.Figure at 0x1a0fefbb70>"
      ]
     },
     "metadata": {},
     "output_type": "display_data"
    }
   ],
   "source": [
    "# pltfuncs.my_confusion_matrix(y_test, y_pred)"
   ]
  },
  {
   "cell_type": "code",
   "execution_count": 389,
   "metadata": {},
   "outputs": [
    {
     "name": "stdout",
     "output_type": "stream",
     "text": [
      "Lasso(alpha=1.0, copy_X=True, fit_intercept=True, max_iter=1000,\n",
      "   normalize=False, positive=False, precompute=False, random_state=None,\n",
      "   selection='cyclic', tol=0.0001, warm_start=False)\n",
      "[ 0. -0. -0. -0. -0.  0. -0.  0.  0.  0.  0.  0.  0.  0. -0.  0. -0.  0.\n",
      "  0.  0. -0. -0. -0.  0.  0. -0.  0.  0.  0.  0.  0.  0.  0.  0.  0.  0.\n",
      "  0.  0.  0.  0.  0.  0. -0. -0.  0. -0.  0.  0.  0.  0.  0. -0.  0.  0.\n",
      "  0.  0.  0. -0. -0. -0. -0.  0.  0.  0.  0. -0. -0.  0. -0. -0.  0. -0.\n",
      " -0. -0. -0. -0.]\n"
     ]
    },
    {
     "data": {
      "text/plain": [
       "array([ 0., -0., -0., -0., -0.,  0., -0.,  0.,  0.,  0.,  0.,  0.,  0.,\n",
       "        0., -0.,  0., -0.,  0.,  0.,  0., -0., -0., -0.,  0.,  0., -0.,\n",
       "        0.,  0.,  0.,  0.,  0.,  0.,  0.,  0.,  0.,  0.,  0.,  0.,  0.,\n",
       "        0.,  0.,  0., -0., -0.,  0., -0.,  0.,  0.,  0.,  0.,  0., -0.,\n",
       "        0.,  0.,  0.,  0.,  0., -0., -0., -0., -0.,  0.,  0.,  0.,  0.,\n",
       "       -0., -0.,  0., -0., -0.,  0., -0., -0., -0., -0., -0.])"
      ]
     },
     "execution_count": 389,
     "metadata": {},
     "output_type": "execute_result"
    }
   ],
   "source": [
    "# lasso = Lasso()\n",
    "# lasso.fit(X_train, y_train)\n",
    "\n",
    "# print(lasso)\n",
    "# print(lasso.coef_)\n",
    "# # remove 0 coefficients \n",
    "# lasso.coef_"
   ]
  },
  {
   "cell_type": "code",
   "execution_count": null,
   "metadata": {},
   "outputs": [],
   "source": []
  },
  {
   "cell_type": "code",
   "execution_count": null,
   "metadata": {},
   "outputs": [],
   "source": []
  },
  {
   "cell_type": "code",
   "execution_count": null,
   "metadata": {},
   "outputs": [],
   "source": []
  },
  {
   "cell_type": "code",
   "execution_count": null,
   "metadata": {},
   "outputs": [],
   "source": []
  },
  {
   "cell_type": "code",
   "execution_count": null,
   "metadata": {},
   "outputs": [],
   "source": []
  },
  {
   "cell_type": "code",
   "execution_count": null,
   "metadata": {},
   "outputs": [],
   "source": []
  },
  {
   "cell_type": "code",
   "execution_count": null,
   "metadata": {},
   "outputs": [],
   "source": []
  },
  {
   "cell_type": "code",
   "execution_count": null,
   "metadata": {},
   "outputs": [],
   "source": []
  },
  {
   "cell_type": "code",
   "execution_count": null,
   "metadata": {},
   "outputs": [],
   "source": []
  },
  {
   "cell_type": "markdown",
   "metadata": {},
   "source": [
    "### Clean up below"
   ]
  },
  {
   "cell_type": "code",
   "execution_count": null,
   "metadata": {},
   "outputs": [],
   "source": [
    "# from sklearn.datasets import make_classification\n",
    "# from sklearn.linear_model import LogisticRegression\n",
    "# import matplotlib.pyplot as plt\n",
    "# from sklearn.model_selection import train_test_split\n",
    "\n",
    "# X_train, X_test, y_train, y_test = train_test_split(X, y)\n",
    "\n",
    "\n",
    "# # scaler = StandardScaler().fit(X_train)\n",
    "# # X_train_1 = scaler.transform(X_train)\n",
    "# # X_test_1 = scaler.transform(X_test)\n",
    "\n",
    "# model = LogisticRegression(class_weight='balanced')\n",
    "# model.fit(X_train, y_train)\n",
    "# probabilities = model.predict_proba(X_test)[:, 1]\n",
    "\n",
    "# # tpr, fpr, thresholds = roc.roc_curve(probabilities, y_test)\n",
    "# tpr, fpr, thresholds = roc_curve(y_test, probabilities, pos_label=2)\n",
    "\n",
    "# plt.plot(fpr, tpr)\n",
    "# plt.xlabel(\"False Positive Rate (1 - Specificity)\")\n",
    "# plt.ylabel(\"True Positive Rate (Sensitivity, Recall)\")\n",
    "# plt.title(\"ROC plot of Logistic Regression Thresholds\")\n",
    "# plt.show()"
   ]
  },
  {
   "cell_type": "markdown",
   "metadata": {},
   "source": [
    "### Attempting Lasso"
   ]
  },
  {
   "cell_type": "code",
   "execution_count": null,
   "metadata": {},
   "outputs": [],
   "source": [
    "# scaler = StandardScaler()\n",
    "\n",
    "\n"
   ]
  },
  {
   "cell_type": "markdown",
   "metadata": {},
   "source": [
    "scorer  = make_scorer(sc.rmsle, greater_is_better=True)\n",
    "\n",
    "#How to manage many models\n",
    "pipelines = []\n",
    "pipelines.append(('ScaledLR', Pipeline([('Scaler', StandardScaler()),('LR',LinearRegression())])))\n",
    "pipelines.append(('ScaledLASSO', Pipeline([('Scaler', StandardScaler()),('LASSO', Lasso())])))\n",
    "pipelines.append(('ScaledRidge', Pipeline([('Scaler', StandardScaler()),('EN', Ridge())])))"
   ]
  },
  {
   "cell_type": "code",
   "execution_count": null,
   "metadata": {},
   "outputs": [],
   "source": [
    "# results = []\n",
    "# names = []\n",
    "# for name, model in pipelines:\n",
    "#     kfold = KFold(n_splits=3, random_state=21)\n",
    "#     cv_results = cross_val_score(model, X_train, y_train, cv=kfold, scoring=scorer)\n",
    "#     results.append(cv_results)\n",
    "#     names.append(name)\n",
    "#     msg = \"%s: %f (%f)\" % (name, cv_results.mean(), cv_results.std())\n",
    "    \n",
    "#     plt.plot(cv_results)\n",
    "# #     plt.xlabel('n')\n",
    "# #     plt.ylabel('rmse')\n",
    "# #     plt.title('average test rmse vs sample size n');\n",
    "    \n",
    "#     print(msg)"
   ]
  },
  {
   "cell_type": "markdown",
   "metadata": {},
   "source": [
    "## Run classifier on test data (has new features)"
   ]
  },
  {
   "cell_type": "markdown",
   "metadata": {},
   "source": [
    "## make series of pairwise plots"
   ]
  },
  {
   "cell_type": "markdown",
   "metadata": {},
   "source": [
    "## plug in knn"
   ]
  },
  {
   "cell_type": "code",
   "execution_count": null,
   "metadata": {},
   "outputs": [],
   "source": []
  }
 ],
 "metadata": {
  "kernelspec": {
   "display_name": "Python 3",
   "language": "python",
   "name": "python3"
  },
  "language_info": {
   "codemirror_mode": {
    "name": "ipython",
    "version": 3
   },
   "file_extension": ".py",
   "mimetype": "text/x-python",
   "name": "python",
   "nbconvert_exporter": "python",
   "pygments_lexer": "ipython3",
   "version": "3.6.4"
  }
 },
 "nbformat": 4,
 "nbformat_minor": 2
}
