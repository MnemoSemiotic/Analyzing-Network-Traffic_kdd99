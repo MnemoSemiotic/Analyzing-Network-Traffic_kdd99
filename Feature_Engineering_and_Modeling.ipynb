{
 "cells": [
  {
   "cell_type": "code",
   "execution_count": 498,
   "metadata": {},
   "outputs": [
    {
     "data": {
      "text/html": [
       "<style>\n",
       "table {float:left}\n",
       "</style>"
      ],
      "text/plain": [
       "<IPython.core.display.HTML object>"
      ]
     },
     "metadata": {},
     "output_type": "display_data"
    }
   ],
   "source": [
    "%%html\n",
    "<style>\n",
    "table {float:left}\n",
    "</style>"
   ]
  },
  {
   "cell_type": "code",
   "execution_count": 499,
   "metadata": {},
   "outputs": [],
   "source": [
    "# my python files\n",
    "import src.analytics as tics\n",
    "import src.plotting_functions as pltfuncs\n",
    "import src.transforms as trans\n",
    "import src.hyp_test as hyp\n",
    "import src.score_model as sc\n",
    "import src.roc_curve as roc\n",
    "\n",
    "\n",
    "# Imports\n",
    "from matplotlib import pyplot as plt\n",
    "import seaborn as sns\n",
    "import numpy as np\n",
    "import scipy.stats as stats\n",
    "from scipy.stats import kendalltau\n",
    "import pandas as pd\n",
    "import matplotlib.pyplot as plt\n",
    "from sklearn.model_selection import cross_val_score, KFold, train_test_split\n",
    "from sklearn.preprocessing import StandardScaler\n",
    "from sklearn.metrics import make_scorer\n",
    "from sklearn.linear_model import LinearRegression, LogisticRegression, Lasso, Ridge\n",
    "from sklearn.pipeline import Pipeline\n",
    "from basis_expansions.basis_expansions import (\n",
    "    Polynomial, LinearSpline, NaturalCubicSpline)\n",
    "from regression_tools.dftransformers import (\n",
    "    ColumnSelector, Identity, FeatureUnion, MapFeature, Intercept)\n",
    "from regression_tools.plotting_tools import (\n",
    "    plot_univariate_smooth,\n",
    "    bootstrap_train,\n",
    "    display_coef,\n",
    "    plot_bootstrap_coefs,\n",
    "    plot_partial_depenence,\n",
    "    plot_partial_dependences,\n",
    "    predicteds_vs_actuals)\n",
    "from sklearn.metrics import roc_curve, auc\n",
    "\n",
    "\n",
    "\n",
    "\n",
    "\n",
    "%matplotlib inline"
   ]
  },
  {
   "cell_type": "code",
   "execution_count": 500,
   "metadata": {},
   "outputs": [],
   "source": [
    "# On OSX requires brew install coreutils, using gshuf instead of shuf\n",
    "sample_name = 'data/sample_random_subset.csv'\n",
    "tics.create_random_samples('data/kddcup.data', 10000, sample_name)\n",
    "\n",
    "df = trans.read_data(sample_name)"
   ]
  },
  {
   "cell_type": "markdown",
   "metadata": {},
   "source": [
    "### Dropping Features\n"
   ]
  },
  {
   "cell_type": "markdown",
   "metadata": {},
   "source": [
    "##### Highly Correlated Features (at 100,000 samples)\n",
    "```\n",
    " feature 1                      feature 2                  correlation coeff\n",
    "dst_host_srv_serror_rate     srv_serror_rate                0.999370\n",
    "dst_host_srv_serror_rate     dst_host_serror_rate           0.999165\n",
    "srv_serror_rate              serror_rate                    0.999086\n",
    "dst_host_serror_rate         serror_rate                    0.999039\n",
    "serror_rate                  dst_host_serror_rate           0.999039\n",
    "dst_host_srv_serror_rate     serror_rate                    0.998765\n",
    "dst_host_serror_rate         srv_serror_rate                0.998761\n",
    "srv_rerror_rate              rerror_rate                    0.997359\n",
    "srv_rerror_rate              dst_host_srv_rerror_rate       0.989355\n",
    "rerror_rate                  dst_host_srv_rerror_rate       0.988520\n",
    "rerror_rate                  dst_host_rerror_rate           0.986976\n",
    "dst_host_rerror_rate         dst_host_srv_rerror_rate       0.985911\n",
    "srv_rerror_rate              dst_host_rerror_rate           0.984211\n",
    "dst_host_srv_count           dst_host_same_srv_rate         0.976918\n",
    "dst_host_same_src_port_rate  srv_count                      0.947230\n",
    "count                        srv_count                      0.944881\n",
    "dst_host_same_srv_rate       same_srv_rate                  0.929902\n",
    "same_srv_rate                dst_host_srv_count             0.904395\n",
    "same_srv_rate                dst_host_serror_rate           0.866402\n",
    "serror_rate                  same_srv_rate                  0.866047\n",
    "count                        dst_host_same_src_port_rate    0.865827\n",
    "dst_host_srv_serror_rate     same_srv_rate                  0.865370\n",
    "srv_serror_rate              same_srv_rate                  0.864885\n",
    "dst_host_same_srv_rate       dst_host_serror_rate           0.808542\n",
    "dst_host_same_srv_rate       serror_rate                    0.807922\n",
    "dst_host_srv_serror_rate     dst_host_same_srv_rate         0.807354\n",
    "dst_host_same_srv_rate       srv_serror_rate                0.806843\n",
    "```\n"
   ]
  },
  {
   "cell_type": "code",
   "execution_count": 501,
   "metadata": {},
   "outputs": [],
   "source": [
    "# counts the number of unique items per category, in order to consider dummyizing\n",
    "category_unique_counts = tics.count_categories(df)"
   ]
  },
  {
   "cell_type": "code",
   "execution_count": 520,
   "metadata": {},
   "outputs": [],
   "source": [
    "# Time to actually drop some features, in particular anything correlated above .80 above\n",
    "if 'dst_host_srv_serror_rate' in df:\n",
    "    df.drop(['dst_host_srv_serror_rate', 'srv_serror_rate', 'dst_host_serror_rate', 'serror_rate', 'srv_rerror_rate',\n",
    "             'rerror_rate', 'dst_host_rerror_rate','dst_host_srv_count', 'dst_host_same_src_port_rate',\n",
    "             'count', 'dst_host_same_srv_rate', 'same_srv_rate', 'hot'], axis=1, inplace=True)\n",
    "\n"
   ]
  },
  {
   "cell_type": "code",
   "execution_count": 521,
   "metadata": {},
   "outputs": [],
   "source": [
    "# Drop columns with zero values\n",
    "def drop_zeros_columns(df):\n",
    "    for i in list(df.columns):\n",
    "        if df[i].min() == df[i].max():\n",
    "            df.drop([i], axis=1, inplace=True)\n",
    "            print('dropped {}'.format(i))\n",
    "            \n",
    "    \n",
    "drop_zeros_columns(df)"
   ]
  },
  {
   "cell_type": "code",
   "execution_count": null,
   "metadata": {},
   "outputs": [],
   "source": [
    "title = 'Correlation Matrix of data after Dropping Correlated'\n",
    "pltfuncs.corr_heat(df, title)"
   ]
  },
  {
   "cell_type": "code",
   "execution_count": 505,
   "metadata": {},
   "outputs": [],
   "source": [
    "# df.columns"
   ]
  },
  {
   "cell_type": "markdown",
   "metadata": {},
   "source": [
    "### Attempting to Model\n",
    "#### First try to get a model to work with predicting between two possible y values\n",
    "- steps to get there\n",
    "    - transform Label into its attack_category\n",
    "    - transform attack_category into only DOS (2), the rest zero, as DOS is the most prevalent type"
   ]
  },
  {
   "cell_type": "code",
   "execution_count": 506,
   "metadata": {},
   "outputs": [
    {
     "data": {
      "text/plain": [
       "2    7962\n",
       "0    1962\n",
       "1      75\n",
       "4       1\n",
       "Name: attack_category, dtype: int64"
      ]
     },
     "execution_count": 506,
     "metadata": {},
     "output_type": "execute_result"
    }
   ],
   "source": [
    "# read in label names csv and send it as dictionary to mapping function\n",
    "label_names = ['label', 'attack_category', 'attack_cat_num']\n",
    "labels_loc = 'data/categories.csv'\n",
    "labels_to_categories = pd.read_csv(labels_loc, header=None)\n",
    "labels_to_categories.columns = label_names\n",
    "col_name = 'label'\n",
    "new_col_name = 'attack_category'\n",
    "\n",
    "df = trans.rewrite_values(df, dict(zip(labels_to_categories.label, labels_to_categories.attack_cat_num)), col_name, new_col_name)\n",
    "df['attack_category'].value_counts()"
   ]
  },
  {
   "cell_type": "code",
   "execution_count": 507,
   "metadata": {},
   "outputs": [
    {
     "data": {
      "text/plain": [
       "1    7962\n",
       "0    2038\n",
       "Name: attack_category, dtype: int64"
      ]
     },
     "execution_count": 507,
     "metadata": {},
     "output_type": "execute_result"
    }
   ],
   "source": [
    "# rewrite all except attack_category types 2 to zero, put to new dataframe\n",
    "df = trans.rewrite_category2_to_zeros(df)\n",
    "df['attack_category'].value_counts()\n"
   ]
  },
  {
   "cell_type": "code",
   "execution_count": 515,
   "metadata": {},
   "outputs": [],
   "source": [
    "if 'protocol_type' in df:\n",
    "    df = pd.get_dummies(df)"
   ]
  },
  {
   "cell_type": "code",
   "execution_count": 516,
   "metadata": {},
   "outputs": [
    {
     "data": {
      "text/plain": [
       "Index(['duration', 'src_bytes', 'dst_bytes', 'wrong_fragment', 'urgent',\n",
       "       'logged_in', 'num_compromised', 'num_root', 'num_file_creations',\n",
       "       'num_access_files', 'is_guest_login', 'srv_count', 'diff_srv_rate',\n",
       "       'srv_diff_host_rate', 'dst_host_count', 'dst_host_diff_srv_rate',\n",
       "       'dst_host_srv_diff_host_rate', 'dst_host_srv_rerror_rate',\n",
       "       'protocol_type_icmp', 'protocol_type_tcp', 'protocol_type_udp',\n",
       "       'service_IRC', 'service_auth', 'service_bgp', 'service_courier',\n",
       "       'service_csnet_ns', 'service_ctf', 'service_daytime', 'service_discard',\n",
       "       'service_domain', 'service_domain_u', 'service_echo', 'service_eco_i',\n",
       "       'service_ecr_i', 'service_efs', 'service_exec', 'service_finger',\n",
       "       'service_ftp', 'service_ftp_data', 'service_gopher',\n",
       "       'service_hostnames', 'service_http', 'service_http_443',\n",
       "       'service_imap4', 'service_iso_tsap', 'service_klogin', 'service_kshell',\n",
       "       'service_ldap', 'service_link', 'service_login', 'service_mtp',\n",
       "       'service_name', 'service_netbios_ns', 'service_netbios_ssn',\n",
       "       'service_netstat', 'service_nnsp', 'service_nntp', 'service_ntp_u',\n",
       "       'service_other', 'service_pop_2', 'service_pop_3', 'service_printer',\n",
       "       'service_private', 'service_remote_job', 'service_rje', 'service_smtp',\n",
       "       'service_sql_net', 'service_ssh', 'service_sunrpc', 'service_supdup',\n",
       "       'service_systat', 'service_telnet', 'service_time', 'service_urp_i',\n",
       "       'service_uucp', 'service_uucp_path', 'service_whois', 'flag_REJ',\n",
       "       'flag_RSTO', 'flag_RSTR', 'flag_S0', 'flag_S1', 'flag_SF', 'flag_SH',\n",
       "       'label_back.', 'label_ipsweep.', 'label_neptune.', 'label_nmap.',\n",
       "       'label_normal.', 'label_pod.', 'label_portsweep.', 'label_satan.',\n",
       "       'label_smurf.', 'label_teardrop.', 'label_warezclient.'],\n",
       "      dtype='object')"
      ]
     },
     "execution_count": 516,
     "metadata": {},
     "output_type": "execute_result"
    }
   ],
   "source": [
    "# Split X and Y\n",
    "y = df['attack_category']\n",
    "X = df.copy()\n",
    "\n",
    "# in order to not throw errors\n",
    "if 'attack_category' in X:\n",
    "    X.drop(['attack_category'], axis=1, inplace=True)\n",
    "if 'label' in X:\n",
    "    X.drop(['label'], axis=1, inplace=True)\n",
    "    \n",
    "# X.columns"
   ]
  },
  {
   "cell_type": "code",
   "execution_count": null,
   "metadata": {},
   "outputs": [],
   "source": []
  },
  {
   "cell_type": "markdown",
   "metadata": {},
   "source": [
    "### Attempting logistic regression"
   ]
  },
  {
   "cell_type": "code",
   "execution_count": 489,
   "metadata": {},
   "outputs": [
    {
     "name": "stderr",
     "output_type": "stream",
     "text": [
      "/Users/tbot/anaconda3/lib/python3.6/site-packages/sklearn/cross_validation.py:41: DeprecationWarning: This module was deprecated in version 0.18 in favor of the model_selection module into which all the refactored classes and functions are moved. Also note that the interface of the new CV iterators are different from that of this module. This module will be removed in 0.20.\n",
      "  \"This module will be removed in 0.20.\", DeprecationWarning)\n"
     ]
    }
   ],
   "source": [
    "# Split the dataset into the Training set and Test set\n",
    "from sklearn.cross_validation import train_test_split\n",
    "X_train, X_test, y_train, y_test = train_test_split(X, y, test_size=0.2, random_state=0)"
   ]
  },
  {
   "cell_type": "code",
   "execution_count": 492,
   "metadata": {},
   "outputs": [
    {
     "name": "stdout",
     "output_type": "stream",
     "text": [
      "<class 'pandas.core.frame.DataFrame'>\n",
      "Int64Index: 8000 entries, 7389 to 2732\n",
      "Data columns (total 20 columns):\n",
      "duration                       8000 non-null int64\n",
      "protocol_type                  8000 non-null object\n",
      "service                        8000 non-null object\n",
      "flag                           8000 non-null object\n",
      "src_bytes                      8000 non-null int64\n",
      "dst_bytes                      8000 non-null int64\n",
      "wrong_fragment                 8000 non-null int64\n",
      "logged_in                      8000 non-null int64\n",
      "num_compromised                8000 non-null int64\n",
      "num_root                       8000 non-null int64\n",
      "num_file_creations             8000 non-null int64\n",
      "num_access_files               8000 non-null int64\n",
      "is_guest_login                 8000 non-null int64\n",
      "srv_count                      8000 non-null int64\n",
      "diff_srv_rate                  8000 non-null float64\n",
      "srv_diff_host_rate             8000 non-null float64\n",
      "dst_host_count                 8000 non-null int64\n",
      "dst_host_diff_srv_rate         8000 non-null float64\n",
      "dst_host_srv_diff_host_rate    8000 non-null float64\n",
      "dst_host_srv_rerror_rate       8000 non-null float64\n",
      "dtypes: float64(5), int64(12), object(3)\n",
      "memory usage: 1.3+ MB\n"
     ]
    }
   ],
   "source": [
    "# from sklearn.preprocessing import StandardScaler\n",
    "# sc_X = StandardScaler()\n",
    "# X_train = sc_X.fit_transform(X_train)\n",
    "# X_test = sc_X.transform(X_test)\n",
    "\n",
    "X_train.info()"
   ]
  },
  {
   "cell_type": "code",
   "execution_count": null,
   "metadata": {},
   "outputs": [],
   "source": []
  },
  {
   "cell_type": "code",
   "execution_count": null,
   "metadata": {},
   "outputs": [],
   "source": []
  },
  {
   "cell_type": "code",
   "execution_count": null,
   "metadata": {},
   "outputs": [],
   "source": []
  },
  {
   "cell_type": "code",
   "execution_count": null,
   "metadata": {},
   "outputs": [],
   "source": []
  },
  {
   "cell_type": "code",
   "execution_count": null,
   "metadata": {},
   "outputs": [],
   "source": []
  },
  {
   "cell_type": "code",
   "execution_count": null,
   "metadata": {},
   "outputs": [],
   "source": []
  },
  {
   "cell_type": "markdown",
   "metadata": {},
   "source": [
    "### Clean up below"
   ]
  },
  {
   "cell_type": "code",
   "execution_count": 488,
   "metadata": {},
   "outputs": [
    {
     "ename": "ValueError",
     "evalue": "could not convert string to float: 'SF'",
     "output_type": "error",
     "traceback": [
      "\u001b[0;31m-----------------------------------------------------------------\u001b[0m",
      "\u001b[0;31mValueError\u001b[0m                      Traceback (most recent call last)",
      "\u001b[0;32m<ipython-input-488-ef13f4aef06f>\u001b[0m in \u001b[0;36m<module>\u001b[0;34m()\u001b[0m\n\u001b[1;32m     12\u001b[0m \u001b[0;34m\u001b[0m\u001b[0m\n\u001b[1;32m     13\u001b[0m \u001b[0mmodel\u001b[0m \u001b[0;34m=\u001b[0m \u001b[0mLogisticRegression\u001b[0m\u001b[0;34m(\u001b[0m\u001b[0mclass_weight\u001b[0m\u001b[0;34m=\u001b[0m\u001b[0;34m'balanced'\u001b[0m\u001b[0;34m)\u001b[0m\u001b[0;34m\u001b[0m\u001b[0m\n\u001b[0;32m---> 14\u001b[0;31m \u001b[0mmodel\u001b[0m\u001b[0;34m.\u001b[0m\u001b[0mfit\u001b[0m\u001b[0;34m(\u001b[0m\u001b[0mX_train\u001b[0m\u001b[0;34m,\u001b[0m \u001b[0my_train\u001b[0m\u001b[0;34m)\u001b[0m\u001b[0;34m\u001b[0m\u001b[0m\n\u001b[0m\u001b[1;32m     15\u001b[0m \u001b[0mprobabilities\u001b[0m \u001b[0;34m=\u001b[0m \u001b[0mmodel\u001b[0m\u001b[0;34m.\u001b[0m\u001b[0mpredict_proba\u001b[0m\u001b[0;34m(\u001b[0m\u001b[0mX_test\u001b[0m\u001b[0;34m)\u001b[0m\u001b[0;34m[\u001b[0m\u001b[0;34m:\u001b[0m\u001b[0;34m,\u001b[0m \u001b[0;36m1\u001b[0m\u001b[0;34m]\u001b[0m\u001b[0;34m\u001b[0m\u001b[0m\n\u001b[1;32m     16\u001b[0m \u001b[0;34m\u001b[0m\u001b[0m\n",
      "\u001b[0;32m~/anaconda3/lib/python3.6/site-packages/sklearn/linear_model/logistic.py\u001b[0m in \u001b[0;36mfit\u001b[0;34m(self, X, y, sample_weight)\u001b[0m\n\u001b[1;32m   1214\u001b[0m \u001b[0;34m\u001b[0m\u001b[0m\n\u001b[1;32m   1215\u001b[0m         X, y = check_X_y(X, y, accept_sparse='csr', dtype=_dtype,\n\u001b[0;32m-> 1216\u001b[0;31m                          order=\"C\")\n\u001b[0m\u001b[1;32m   1217\u001b[0m         \u001b[0mcheck_classification_targets\u001b[0m\u001b[0;34m(\u001b[0m\u001b[0my\u001b[0m\u001b[0;34m)\u001b[0m\u001b[0;34m\u001b[0m\u001b[0m\n\u001b[1;32m   1218\u001b[0m         \u001b[0mself\u001b[0m\u001b[0;34m.\u001b[0m\u001b[0mclasses_\u001b[0m \u001b[0;34m=\u001b[0m \u001b[0mnp\u001b[0m\u001b[0;34m.\u001b[0m\u001b[0munique\u001b[0m\u001b[0;34m(\u001b[0m\u001b[0my\u001b[0m\u001b[0;34m)\u001b[0m\u001b[0;34m\u001b[0m\u001b[0m\n",
      "\u001b[0;32m~/anaconda3/lib/python3.6/site-packages/sklearn/utils/validation.py\u001b[0m in \u001b[0;36mcheck_X_y\u001b[0;34m(X, y, accept_sparse, dtype, order, copy, force_all_finite, ensure_2d, allow_nd, multi_output, ensure_min_samples, ensure_min_features, y_numeric, warn_on_dtype, estimator)\u001b[0m\n\u001b[1;32m    571\u001b[0m     X = check_array(X, accept_sparse, dtype, order, copy, force_all_finite,\n\u001b[1;32m    572\u001b[0m                     \u001b[0mensure_2d\u001b[0m\u001b[0;34m,\u001b[0m \u001b[0mallow_nd\u001b[0m\u001b[0;34m,\u001b[0m \u001b[0mensure_min_samples\u001b[0m\u001b[0;34m,\u001b[0m\u001b[0;34m\u001b[0m\u001b[0m\n\u001b[0;32m--> 573\u001b[0;31m                     ensure_min_features, warn_on_dtype, estimator)\n\u001b[0m\u001b[1;32m    574\u001b[0m     \u001b[0;32mif\u001b[0m \u001b[0mmulti_output\u001b[0m\u001b[0;34m:\u001b[0m\u001b[0;34m\u001b[0m\u001b[0m\n\u001b[1;32m    575\u001b[0m         y = check_array(y, 'csr', force_all_finite=True, ensure_2d=False,\n",
      "\u001b[0;32m~/anaconda3/lib/python3.6/site-packages/sklearn/utils/validation.py\u001b[0m in \u001b[0;36mcheck_array\u001b[0;34m(array, accept_sparse, dtype, order, copy, force_all_finite, ensure_2d, allow_nd, ensure_min_samples, ensure_min_features, warn_on_dtype, estimator)\u001b[0m\n\u001b[1;32m    431\u001b[0m                                       force_all_finite)\n\u001b[1;32m    432\u001b[0m     \u001b[0;32melse\u001b[0m\u001b[0;34m:\u001b[0m\u001b[0;34m\u001b[0m\u001b[0m\n\u001b[0;32m--> 433\u001b[0;31m         \u001b[0marray\u001b[0m \u001b[0;34m=\u001b[0m \u001b[0mnp\u001b[0m\u001b[0;34m.\u001b[0m\u001b[0marray\u001b[0m\u001b[0;34m(\u001b[0m\u001b[0marray\u001b[0m\u001b[0;34m,\u001b[0m \u001b[0mdtype\u001b[0m\u001b[0;34m=\u001b[0m\u001b[0mdtype\u001b[0m\u001b[0;34m,\u001b[0m \u001b[0morder\u001b[0m\u001b[0;34m=\u001b[0m\u001b[0morder\u001b[0m\u001b[0;34m,\u001b[0m \u001b[0mcopy\u001b[0m\u001b[0;34m=\u001b[0m\u001b[0mcopy\u001b[0m\u001b[0;34m)\u001b[0m\u001b[0;34m\u001b[0m\u001b[0m\n\u001b[0m\u001b[1;32m    434\u001b[0m \u001b[0;34m\u001b[0m\u001b[0m\n\u001b[1;32m    435\u001b[0m         \u001b[0;32mif\u001b[0m \u001b[0mensure_2d\u001b[0m\u001b[0;34m:\u001b[0m\u001b[0;34m\u001b[0m\u001b[0m\n",
      "\u001b[0;31mValueError\u001b[0m: could not convert string to float: 'SF'"
     ]
    }
   ],
   "source": [
    "from sklearn.datasets import make_classification\n",
    "from sklearn.linear_model import LogisticRegression\n",
    "import matplotlib.pyplot as plt\n",
    "from sklearn.model_selection import train_test_split\n",
    "\n",
    "X_train, X_test, y_train, y_test = train_test_split(X, y)\n",
    "\n",
    "\n",
    "# scaler = StandardScaler().fit(X_train)\n",
    "# X_train_1 = scaler.transform(X_train)\n",
    "# X_test_1 = scaler.transform(X_test)\n",
    "\n",
    "model = LogisticRegression(class_weight='balanced')\n",
    "model.fit(X_train, y_train)\n",
    "probabilities = model.predict_proba(X_test)[:, 1]\n",
    "\n",
    "# tpr, fpr, thresholds = roc.roc_curve(probabilities, y_test)\n",
    "tpr, fpr, thresholds = roc_curve(y_test, probabilities, pos_label=2)\n",
    "\n",
    "plt.plot(fpr, tpr)\n",
    "plt.xlabel(\"False Positive Rate (1 - Specificity)\")\n",
    "plt.ylabel(\"True Positive Rate (Sensitivity, Recall)\")\n",
    "plt.title(\"ROC plot of Logistic Regression Thresholds\")\n",
    "plt.show()"
   ]
  },
  {
   "cell_type": "markdown",
   "metadata": {},
   "source": [
    "### Attempting Lasso"
   ]
  },
  {
   "cell_type": "code",
   "execution_count": 422,
   "metadata": {},
   "outputs": [
    {
     "name": "stdout",
     "output_type": "stream",
     "text": [
      "  (0, 0)\t-0.00011155687405737859\n",
      "  (0, 1)\t-7.26643745232587e-05\n",
      "  (0, 2)\t-1.1579428600741251e-05\n",
      "  (0, 9)\t0.0006871441097257111\n",
      "  (0, 12)\t0.0030907665671198537\n"
     ]
    },
    {
     "data": {
      "text/plain": [
       "Index(['srv_count', 'dst_host_count'], dtype='object')"
      ]
     },
     "execution_count": 422,
     "metadata": {},
     "output_type": "execute_result"
    }
   ],
   "source": [
    "# scaler = StandardScaler()\n",
    "\n",
    "alpha = 0.1\n",
    "lasso = Lasso(alpha=alpha)\n",
    "lasso.fit(X_train, y_train)\n",
    "\n",
    "print( lasso.sparse_coef_)\n",
    "\n",
    "# remove 0 coefficients \n",
    "new_X = X_train.loc[:, lasso.coef_ > 0]\n",
    "new_X.columns"
   ]
  },
  {
   "cell_type": "markdown",
   "metadata": {},
   "source": [
    "scorer  = make_scorer(sc.rmsle, greater_is_better=True)\n",
    "\n",
    "#How to manage many models\n",
    "pipelines = []\n",
    "pipelines.append(('ScaledLR', Pipeline([('Scaler', StandardScaler()),('LR',LinearRegression())])))\n",
    "pipelines.append(('ScaledLASSO', Pipeline([('Scaler', StandardScaler()),('LASSO', Lasso())])))\n",
    "pipelines.append(('ScaledRidge', Pipeline([('Scaler', StandardScaler()),('EN', Ridge())])))"
   ]
  },
  {
   "cell_type": "code",
   "execution_count": 407,
   "metadata": {},
   "outputs": [
    {
     "name": "stdout",
     "output_type": "stream",
     "text": [
      "ScaledLR: 498291499318.944519 (279384318374.669800)\n",
      "ScaledLASSO: 0.782459 (0.018614)\n",
      "ScaledRidge: 0.147064 (0.026918)\n"
     ]
    },
    {
     "data": {
      "image/png": "[encoded data removed]",
      "text/plain": [
       "<matplotlib.figure.Figure at 0x1a4de2a550>"
      ]
     },
     "metadata": {},
     "output_type": "display_data"
    }
   ],
   "source": [
    "results = []\n",
    "names = []\n",
    "for name, model in pipelines:\n",
    "    kfold = KFold(n_splits=3, random_state=21)\n",
    "    cv_results = cross_val_score(model, X_train, y_train, cv=kfold, scoring=scorer)\n",
    "    results.append(cv_results)\n",
    "    names.append(name)\n",
    "    msg = \"%s: %f (%f)\" % (name, cv_results.mean(), cv_results.std())\n",
    "    \n",
    "    plt.plot(cv_results)\n",
    "#     plt.xlabel('n')\n",
    "#     plt.ylabel('rmse')\n",
    "#     plt.title('average test rmse vs sample size n');\n",
    "    \n",
    "    print(msg)"
   ]
  },
  {
   "cell_type": "markdown",
   "metadata": {},
   "source": [
    "## balance the data set so that 1's and 0s are equally represented"
   ]
  },
  {
   "cell_type": "code",
   "execution_count": null,
   "metadata": {},
   "outputs": [],
   "source": []
  },
  {
   "cell_type": "code",
   "execution_count": null,
   "metadata": {},
   "outputs": [],
   "source": []
  }
 ],
 "metadata": {
  "kernelspec": {
   "display_name": "Python 3",
   "language": "python",
   "name": "python3"
  },
  "language_info": {
   "codemirror_mode": {
    "name": "ipython",
    "version": 3
   },
   "file_extension": ".py",
   "mimetype": "text/x-python",
   "name": "python",
   "nbconvert_exporter": "python",
   "pygments_lexer": "ipython3",
   "version": "3.6.4"
  }
 },
 "nbformat": 4,
 "nbformat_minor": 2
}
