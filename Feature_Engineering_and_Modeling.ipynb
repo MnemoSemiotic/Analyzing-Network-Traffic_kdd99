{
 "cells": [
  {
   "cell_type": "code",
   "execution_count": 400,
   "metadata": {},
   "outputs": [
    {
     "data": {
      "text/html": [
       "<style>\n",
       "table {float:left}\n",
       "</style>"
      ],
      "text/plain": [
       "<IPython.core.display.HTML object>"
      ]
     },
     "metadata": {},
     "output_type": "display_data"
    }
   ],
   "source": [
    "%%html\n",
    "<style>\n",
    "table {float:left}\n",
    "</style>"
   ]
  },
  {
   "cell_type": "code",
   "execution_count": 401,
   "metadata": {},
   "outputs": [],
   "source": [
    "# my python files\n",
    "import src.analytics as tics\n",
    "import src.plotting_functions as pltfuncs\n",
    "import src.transforms as trans\n",
    "import src.hyp_test as hyp\n",
    "import src.score_model as sc\n",
    "import src.roc_curve as roc\n",
    "\n",
    "\n",
    "# Imports\n",
    "from matplotlib import pyplot as plt\n",
    "import seaborn as sns\n",
    "import numpy as np\n",
    "import scipy.stats as stats\n",
    "from scipy.stats import kendalltau\n",
    "import pandas as pd\n",
    "import matplotlib.pyplot as plt\n",
    "from sklearn.model_selection import cross_val_score, KFold, train_test_split\n",
    "from sklearn.preprocessing import StandardScaler\n",
    "from sklearn.metrics import make_scorer\n",
    "from sklearn.linear_model import LinearRegression, LogisticRegression, Lasso, Ridge\n",
    "from sklearn.pipeline import Pipeline\n",
    "from basis_expansions.basis_expansions import (\n",
    "    Polynomial, LinearSpline, NaturalCubicSpline)\n",
    "from regression_tools.dftransformers import (\n",
    "    ColumnSelector, Identity, FeatureUnion, MapFeature, Intercept)\n",
    "from regression_tools.plotting_tools import (\n",
    "    plot_univariate_smooth,\n",
    "    bootstrap_train,\n",
    "    display_coef,\n",
    "    plot_bootstrap_coefs,\n",
    "    plot_partial_depenence,\n",
    "    plot_partial_dependences,\n",
    "    predicteds_vs_actuals)\n",
    "from sklearn.metrics import roc_curve, auc\n",
    "\n",
    "%matplotlib inline"
   ]
  },
  {
   "cell_type": "code",
   "execution_count": 402,
   "metadata": {},
   "outputs": [],
   "source": [
    "# On OSX requires brew install coreutils, using gshuf instead of shuf\n",
    "sample_name = 'data/sample_random_subset.csv'\n",
    "tics.create_random_samples('data/kddcup.data', 100000, sample_name)\n",
    "\n",
    "df = trans.read_data(sample_name)"
   ]
  },
  {
   "cell_type": "markdown",
   "metadata": {},
   "source": [
    "### Dropping Features\n"
   ]
  },
  {
   "cell_type": "markdown",
   "metadata": {},
   "source": [
    "**Highly Correlated Features**"
   ]
  },
  {
   "cell_type": "code",
   "execution_count": 407,
   "metadata": {},
   "outputs": [],
   "source": [
    "df = trans.drop_high_correlations(df)\n",
    "\n",
    "#df.info()"
   ]
  },
  {
   "cell_type": "code",
   "execution_count": 411,
   "metadata": {
    "scrolled": false
   },
   "outputs": [],
   "source": [
    "trans.drop_zeros_columns(df)\n",
    "\n",
    "# df.columns"
   ]
  },
  {
   "cell_type": "markdown",
   "metadata": {},
   "source": [
    "#### Dropping irrelevant features\n",
    "Considering that lasso is determining what features to keep (below), I decided to drop the suggested keepers until I get to a point where my logistic regression fails adequately.  This is an attempt to discern which features are derived\n",
    "\n",
    "#### Then, trimming down a bit at a time"
   ]
  },
  {
   "cell_type": "code",
   "execution_count": 370,
   "metadata": {},
   "outputs": [
    {
     "name": "stdout",
     "output_type": "stream",
     "text": [
      "{'int64': Index(['duration', 'src_bytes', 'dst_bytes', 'land', 'wrong_fragment', 'hot',\n",
      "       'num_failed_logins', 'logged_in', 'num_compromised', 'root_shell',\n",
      "       'su_attempted', 'num_root', 'num_file_creations', 'num_shells',\n",
      "       'num_access_files', 'dst_host_count'],\n",
      "      dtype='object'), 'float64': Index(['rerror_rate', 'diff_srv_rate', 'srv_diff_host_rate',\n",
      "       'dst_host_diff_srv_rate', 'dst_host_srv_diff_host_rate'],\n",
      "      dtype='object'), 'object': Index(['protocol_type', 'service', 'flag', 'label'], dtype='object')}\n"
     ]
    },
    {
     "data": {
      "text/plain": [
       "Index(['protocol_type', 'service', 'flag', 'label'], dtype='object')"
      ]
     },
     "execution_count": 370,
     "metadata": {},
     "output_type": "execute_result"
    }
   ],
   "source": [
    "# create dict based on dtypes\n",
    "g = df.columns.to_series().groupby(df.dtypes).groups\n",
    "df_dtypes = {k.name: v for k, v in g.items()}\n",
    "print(df_dtypes)\n",
    "\n",
    "# get list of objects\n",
    "objects = df_dtypes['object']\n",
    "numeric = df_dtypes"
   ]
  },
  {
   "cell_type": "code",
   "execution_count": 371,
   "metadata": {},
   "outputs": [
    {
     "name": "stdout",
     "output_type": "stream",
     "text": [
      "<class 'pandas.core.frame.DataFrame'>\n",
      "RangeIndex: 100000 entries, 0 to 99999\n",
      "Data columns (total 25 columns):\n",
      "duration                       100000 non-null int64\n",
      "protocol_type                  100000 non-null object\n",
      "service                        100000 non-null object\n",
      "flag                           100000 non-null object\n",
      "src_bytes                      100000 non-null int64\n",
      "dst_bytes                      100000 non-null int64\n",
      "land                           100000 non-null int64\n",
      "wrong_fragment                 100000 non-null int64\n",
      "hot                            100000 non-null int64\n",
      "num_failed_logins              100000 non-null int64\n",
      "logged_in                      100000 non-null int64\n",
      "num_compromised                100000 non-null int64\n",
      "root_shell                     100000 non-null int64\n",
      "su_attempted                   100000 non-null int64\n",
      "num_root                       100000 non-null int64\n",
      "num_file_creations             100000 non-null int64\n",
      "num_shells                     100000 non-null int64\n",
      "num_access_files               100000 non-null int64\n",
      "rerror_rate                    100000 non-null float64\n",
      "diff_srv_rate                  100000 non-null float64\n",
      "srv_diff_host_rate             100000 non-null float64\n",
      "dst_host_count                 100000 non-null int64\n",
      "dst_host_diff_srv_rate         100000 non-null float64\n",
      "dst_host_srv_diff_host_rate    100000 non-null float64\n",
      "label                          100000 non-null object\n",
      "dtypes: float64(5), int64(16), object(4)\n",
      "memory usage: 19.1+ MB\n"
     ]
    }
   ],
   "source": [
    "df.info()"
   ]
  },
  {
   "cell_type": "code",
   "execution_count": 391,
   "metadata": {},
   "outputs": [
    {
     "name": "stdout",
     "output_type": "stream",
     "text": [
      "dropped attack_category\n",
      "dropped protocol_type_icmp\n",
      "dropped protocol_type_tcp\n",
      "dropped protocol_type_udp\n",
      "dropped service_IRC\n",
      "dropped service_X11\n",
      "dropped service_Z39_50\n",
      "dropped service_auth\n",
      "dropped service_bgp\n",
      "dropped service_courier\n",
      "dropped service_csnet_ns\n",
      "dropped service_ctf\n",
      "dropped service_daytime\n",
      "dropped service_discard\n",
      "dropped service_domain\n",
      "dropped service_domain_u\n",
      "dropped service_echo\n",
      "dropped service_eco_i\n",
      "dropped service_ecr_i\n",
      "dropped service_efs\n",
      "dropped service_exec\n",
      "dropped service_finger\n",
      "dropped service_ftp\n",
      "dropped service_ftp_data\n",
      "dropped service_gopher\n",
      "dropped service_hostnames\n",
      "dropped service_http\n",
      "dropped service_http_443\n",
      "dropped service_imap4\n",
      "dropped service_iso_tsap\n",
      "dropped service_klogin\n",
      "dropped service_kshell\n",
      "dropped service_ldap\n",
      "dropped service_link\n",
      "dropped service_login\n",
      "dropped service_mtp\n",
      "dropped service_name\n",
      "dropped service_netbios_dgm\n",
      "dropped service_netbios_ns\n",
      "dropped service_netbios_ssn\n",
      "dropped service_netstat\n",
      "dropped service_nnsp\n",
      "dropped service_nntp\n",
      "dropped service_ntp_u\n",
      "dropped service_other\n",
      "dropped service_pop_2\n",
      "dropped service_pop_3\n",
      "dropped service_printer\n",
      "dropped service_private\n",
      "dropped service_remote_job\n",
      "dropped service_rje\n",
      "dropped service_shell\n",
      "dropped service_smtp\n",
      "dropped service_sql_net\n",
      "dropped service_ssh\n",
      "dropped service_sunrpc\n",
      "dropped service_supdup\n",
      "dropped service_systat\n",
      "dropped service_telnet\n",
      "dropped service_time\n",
      "dropped service_urh_i\n",
      "dropped service_urp_i\n",
      "dropped service_uucp\n",
      "dropped service_uucp_path\n",
      "dropped service_vmnet\n",
      "dropped service_whois\n",
      "dropped flag_OTH\n",
      "dropped flag_REJ\n",
      "dropped flag_RSTO\n",
      "dropped flag_RSTOS0\n",
      "dropped flag_RSTR\n",
      "dropped flag_S0\n",
      "dropped flag_S1\n",
      "dropped flag_S2\n",
      "dropped flag_S3\n",
      "dropped flag_SF\n",
      "dropped flag_SH\n",
      "<class 'pandas.core.frame.DataFrame'>\n",
      "Int64Index: 41606 entries, 93212 to 85922\n",
      "Empty DataFrame"
     ]
    }
   ],
   "source": [
    "def drop_all_except(df_, keep):\n",
    "    for i in list(df.columns):\n",
    "        if i != 'label' and i not in keep:\n",
    "            drop_if_in(df_, i)\n",
    "    return df\n",
    "\n",
    "df2 = drop_all_except(df, objects)\n",
    "\n",
    "    \n",
    "df.info()"
   ]
  },
  {
   "cell_type": "code",
   "execution_count": 376,
   "metadata": {},
   "outputs": [],
   "source": [
    "# title = 'Correlation Matrix of data after Dropping Correlated'\n",
    "# pltfuncs.corr_heat(df, title)"
   ]
  },
  {
   "cell_type": "code",
   "execution_count": 377,
   "metadata": {},
   "outputs": [],
   "source": [
    "# df.columns\n",
    "# g = sns.pairplot(df)"
   ]
  },
  {
   "cell_type": "markdown",
   "metadata": {},
   "source": [
    "### Modeling\n",
    "#### First try to get a simple logistic regression model working\n",
    "- steps to get there\n",
    "    - transform Label into its attack_category\n",
    "    - transform attack_category into only DOS (2), the rest zero, as DOS is the most prevalent type\n",
    "    - balance the data set by undersampling the more represented y"
   ]
  },
  {
   "cell_type": "code",
   "execution_count": 378,
   "metadata": {},
   "outputs": [
    {
     "data": {
      "text/plain": [
       "2    79197\n",
       "0    19951\n",
       "1      831\n",
       "4       21\n",
       "Name: attack_category, dtype: int64"
      ]
     },
     "execution_count": 378,
     "metadata": {},
     "output_type": "execute_result"
    }
   ],
   "source": [
    "# read in label names csv and send it as dictionary to mapping function\n",
    "label_names = ['label', 'attack_category', 'attack_cat_num']\n",
    "labels_loc = 'data/categories.csv'\n",
    "labels_to_categories = pd.read_csv(labels_loc, header=None)\n",
    "labels_to_categories.columns = label_names\n",
    "col_name = 'label'\n",
    "new_col_name = 'attack_category'\n",
    "\n",
    "df = trans.rewrite_values(df, dict(zip(labels_to_categories.label, labels_to_categories.attack_cat_num)), col_name, new_col_name)\n",
    "df['attack_category'].value_counts()"
   ]
  },
  {
   "cell_type": "code",
   "execution_count": 379,
   "metadata": {},
   "outputs": [
    {
     "data": {
      "text/plain": [
       "1    79197\n",
       "0    20803\n",
       "Name: attack_category, dtype: int64"
      ]
     },
     "execution_count": 379,
     "metadata": {},
     "output_type": "execute_result"
    }
   ],
   "source": [
    "# rewrite all except attack_category types 2 to zero, put to new dataframe\n",
    "df = trans.rewrite_category2_to_zeros(df)\n",
    "df['attack_category'].value_counts()\n"
   ]
  },
  {
   "cell_type": "code",
   "execution_count": 380,
   "metadata": {},
   "outputs": [
    {
     "name": "stdout",
     "output_type": "stream",
     "text": [
      "removed 58394 rows\n"
     ]
    },
    {
     "data": {
      "text/plain": [
       "1    20803\n",
       "0    20803\n",
       "Name: attack_category, dtype: int64"
      ]
     },
     "execution_count": 380,
     "metadata": {},
     "output_type": "execute_result"
    }
   ],
   "source": [
    "df = trans.split_to_5050(df)\n",
    "df['attack_category'].value_counts()\n"
   ]
  },
  {
   "cell_type": "code",
   "execution_count": 381,
   "metadata": {},
   "outputs": [
    {
     "name": "stdout",
     "output_type": "stream",
     "text": [
      "dropped label\n"
     ]
    },
    {
     "data": {
      "text/plain": [
       "False"
      ]
     },
     "execution_count": 381,
     "metadata": {},
     "output_type": "execute_result"
    }
   ],
   "source": [
    "# drop label BEFORE running get dummies on data\n",
    "drop_if_in(df, 'label')\n",
    "'label' in df"
   ]
  },
  {
   "cell_type": "code",
   "execution_count": 382,
   "metadata": {},
   "outputs": [
    {
     "data": {
      "text/plain": [
       "(41606, 77)"
      ]
     },
     "execution_count": 382,
     "metadata": {},
     "output_type": "execute_result"
    }
   ],
   "source": [
    "if 'protocol_type' in df:\n",
    "    df = pd.get_dummies(df)\n",
    "df.shape"
   ]
  },
  {
   "cell_type": "code",
   "execution_count": 383,
   "metadata": {},
   "outputs": [
    {
     "data": {
      "text/plain": [
       "Index(['protocol_type_icmp', 'protocol_type_tcp', 'protocol_type_udp',\n",
       "       'service_IRC', 'service_X11', 'service_Z39_50', 'service_auth',\n",
       "       'service_bgp', 'service_courier', 'service_csnet_ns', 'service_ctf',\n",
       "       'service_daytime', 'service_discard', 'service_domain',\n",
       "       'service_domain_u', 'service_echo', 'service_eco_i', 'service_ecr_i',\n",
       "       'service_efs', 'service_exec', 'service_finger', 'service_ftp',\n",
       "       'service_ftp_data', 'service_gopher', 'service_hostnames',\n",
       "       'service_http', 'service_http_443', 'service_imap4', 'service_iso_tsap',\n",
       "       'service_klogin', 'service_kshell', 'service_ldap', 'service_link',\n",
       "       'service_login', 'service_mtp', 'service_name', 'service_netbios_dgm',\n",
       "       'service_netbios_ns', 'service_netbios_ssn', 'service_netstat',\n",
       "       'service_nnsp', 'service_nntp', 'service_ntp_u', 'service_other',\n",
       "       'service_pop_2', 'service_pop_3', 'service_printer', 'service_private',\n",
       "       'service_remote_job', 'service_rje', 'service_shell', 'service_smtp',\n",
       "       'service_sql_net', 'service_ssh', 'service_sunrpc', 'service_supdup',\n",
       "       'service_systat', 'service_telnet', 'service_time', 'service_urh_i',\n",
       "       'service_urp_i', 'service_uucp', 'service_uucp_path', 'service_vmnet',\n",
       "       'service_whois', 'flag_OTH', 'flag_REJ', 'flag_RSTO', 'flag_RSTOS0',\n",
       "       'flag_RSTR', 'flag_S0', 'flag_S1', 'flag_S2', 'flag_S3', 'flag_SF',\n",
       "       'flag_SH'],\n",
       "      dtype='object')"
      ]
     },
     "execution_count": 383,
     "metadata": {},
     "output_type": "execute_result"
    }
   ],
   "source": [
    "# Split X and Y\n",
    "y = df['attack_category']\n",
    "X = df.copy()\n",
    "\n",
    "# in order to not throw errors\n",
    "if 'attack_category' in X:\n",
    "    X.drop(['attack_category'], axis=1, inplace=True)\n",
    "if 'label' in X:\n",
    "    X.drop(['label'], axis=1, inplace=True)\n",
    "    \n",
    "X.columns"
   ]
  },
  {
   "cell_type": "code",
   "execution_count": null,
   "metadata": {},
   "outputs": [],
   "source": []
  },
  {
   "cell_type": "markdown",
   "metadata": {},
   "source": [
    "### Attempting logistic regression"
   ]
  },
  {
   "cell_type": "code",
   "execution_count": 384,
   "metadata": {},
   "outputs": [],
   "source": [
    "# Split the dataset into the Training set and Test set\n",
    "from sklearn.cross_validation import train_test_split\n",
    "X_train, X_test, y_train, y_test = train_test_split(X, y, test_size=0.2)\n",
    "\n",
    "#\n",
    "# y_train.sum()\n",
    "# len(y_train)"
   ]
  },
  {
   "cell_type": "code",
   "execution_count": 385,
   "metadata": {},
   "outputs": [],
   "source": [
    "from sklearn.preprocessing import StandardScaler\n",
    "sc_X = StandardScaler()\n",
    "X_train = sc_X.fit_transform(X_train)\n",
    "X_test = sc_X.transform(X_test)"
   ]
  },
  {
   "cell_type": "code",
   "execution_count": 386,
   "metadata": {},
   "outputs": [
    {
     "data": {
      "text/plain": [
       "LogisticRegression(C=1.0, class_weight=None, dual=False, fit_intercept=True,\n",
       "          intercept_scaling=1, max_iter=100, multi_class='ovr', n_jobs=1,\n",
       "          penalty='l1', random_state=None, solver='liblinear', tol=0.0001,\n",
       "          verbose=0, warm_start=False)"
      ]
     },
     "execution_count": 386,
     "metadata": {},
     "output_type": "execute_result"
    }
   ],
   "source": [
    "from sklearn.linear_model import LogisticRegression\n",
    "\n",
    "# logistic regression object\n",
    "classifier = LogisticRegression(penalty='l1')\n",
    "\n",
    "# teach classifier the correlations betw X_train and y_train\n",
    "classifier.fit(X_train, y_train)"
   ]
  },
  {
   "cell_type": "code",
   "execution_count": 387,
   "metadata": {},
   "outputs": [],
   "source": [
    "# Predict the Test set results\n",
    "y_pred = classifier.predict(X_test) # vector giving prediction of each of the test set observations"
   ]
  },
  {
   "cell_type": "code",
   "execution_count": 388,
   "metadata": {},
   "outputs": [
    {
     "name": "stdout",
     "output_type": "stream",
     "text": [
      "True Positives: 4097\n",
      "True Negatives: 4173\n",
      "False Positives: 44\n",
      "True Negatives: 8\n",
      "\n",
      "Accuracy: 0.9937515020427782\n",
      "Classification_error: 0.006248497957221821\n",
      "Recall: 0.9980511571254568\n",
      "Precision: 0.9893745472108186\n",
      "\n",
      "confusion matrix\n",
      "[[4173   44]\n",
      " [   8 4097]]\n"
     ]
    },
    {
     "data": {
      "image/png": "[encoded data removed]",
      "text/plain": [
       "<matplotlib.figure.Figure at 0x1a0fedce10>"
      ]
     },
     "metadata": {},
     "output_type": "display_data"
    }
   ],
   "source": [
    "pltfuncs.my_confusion_matrix(y_test, y_pred)"
   ]
  },
  {
   "cell_type": "code",
   "execution_count": 389,
   "metadata": {},
   "outputs": [
    {
     "name": "stdout",
     "output_type": "stream",
     "text": [
      "Lasso(alpha=1.0, copy_X=True, fit_intercept=True, max_iter=1000,\n",
      "   normalize=False, positive=False, precompute=False, random_state=None,\n",
      "   selection='cyclic', tol=0.0001, warm_start=False)\n",
      "[ 0. -0. -0. -0. -0.  0. -0.  0.  0.  0.  0.  0.  0.  0. -0.  0. -0.  0.\n",
      "  0.  0. -0. -0. -0.  0.  0. -0.  0.  0.  0.  0.  0.  0.  0.  0.  0.  0.\n",
      "  0.  0.  0.  0.  0.  0. -0. -0.  0. -0.  0.  0.  0.  0.  0. -0.  0.  0.\n",
      "  0.  0.  0. -0. -0. -0. -0.  0.  0.  0.  0. -0. -0.  0. -0. -0.  0. -0.\n",
      " -0. -0. -0. -0.]\n"
     ]
    },
    {
     "data": {
      "text/plain": [
       "array([ 0., -0., -0., -0., -0.,  0., -0.,  0.,  0.,  0.,  0.,  0.,  0.,\n",
       "        0., -0.,  0., -0.,  0.,  0.,  0., -0., -0., -0.,  0.,  0., -0.,\n",
       "        0.,  0.,  0.,  0.,  0.,  0.,  0.,  0.,  0.,  0.,  0.,  0.,  0.,\n",
       "        0.,  0.,  0., -0., -0.,  0., -0.,  0.,  0.,  0.,  0.,  0., -0.,\n",
       "        0.,  0.,  0.,  0.,  0., -0., -0., -0., -0.,  0.,  0.,  0.,  0.,\n",
       "       -0., -0.,  0., -0., -0.,  0., -0., -0., -0., -0., -0.])"
      ]
     },
     "execution_count": 389,
     "metadata": {},
     "output_type": "execute_result"
    }
   ],
   "source": [
    "lasso = Lasso()\n",
    "lasso.fit(X_train, y_train)\n",
    "\n",
    "print(lasso)\n",
    "print(lasso.coef_)\n",
    "# remove 0 coefficients \n",
    "lasso.coef_"
   ]
  },
  {
   "cell_type": "code",
   "execution_count": null,
   "metadata": {},
   "outputs": [],
   "source": []
  },
  {
   "cell_type": "code",
   "execution_count": null,
   "metadata": {},
   "outputs": [],
   "source": []
  },
  {
   "cell_type": "code",
   "execution_count": null,
   "metadata": {},
   "outputs": [],
   "source": []
  },
  {
   "cell_type": "code",
   "execution_count": null,
   "metadata": {},
   "outputs": [],
   "source": []
  },
  {
   "cell_type": "code",
   "execution_count": null,
   "metadata": {},
   "outputs": [],
   "source": []
  },
  {
   "cell_type": "code",
   "execution_count": null,
   "metadata": {},
   "outputs": [],
   "source": []
  },
  {
   "cell_type": "code",
   "execution_count": null,
   "metadata": {},
   "outputs": [],
   "source": []
  },
  {
   "cell_type": "code",
   "execution_count": null,
   "metadata": {},
   "outputs": [],
   "source": []
  },
  {
   "cell_type": "code",
   "execution_count": null,
   "metadata": {},
   "outputs": [],
   "source": []
  },
  {
   "cell_type": "markdown",
   "metadata": {},
   "source": [
    "### Clean up below"
   ]
  },
  {
   "cell_type": "code",
   "execution_count": null,
   "metadata": {},
   "outputs": [],
   "source": [
    "from sklearn.datasets import make_classification\n",
    "from sklearn.linear_model import LogisticRegression\n",
    "import matplotlib.pyplot as plt\n",
    "from sklearn.model_selection import train_test_split\n",
    "\n",
    "X_train, X_test, y_train, y_test = train_test_split(X, y)\n",
    "\n",
    "\n",
    "# scaler = StandardScaler().fit(X_train)\n",
    "# X_train_1 = scaler.transform(X_train)\n",
    "# X_test_1 = scaler.transform(X_test)\n",
    "\n",
    "model = LogisticRegression(class_weight='balanced')\n",
    "model.fit(X_train, y_train)\n",
    "probabilities = model.predict_proba(X_test)[:, 1]\n",
    "\n",
    "# tpr, fpr, thresholds = roc.roc_curve(probabilities, y_test)\n",
    "tpr, fpr, thresholds = roc_curve(y_test, probabilities, pos_label=2)\n",
    "\n",
    "plt.plot(fpr, tpr)\n",
    "plt.xlabel(\"False Positive Rate (1 - Specificity)\")\n",
    "plt.ylabel(\"True Positive Rate (Sensitivity, Recall)\")\n",
    "plt.title(\"ROC plot of Logistic Regression Thresholds\")\n",
    "plt.show()"
   ]
  },
  {
   "cell_type": "markdown",
   "metadata": {},
   "source": [
    "### Attempting Lasso"
   ]
  },
  {
   "cell_type": "code",
   "execution_count": null,
   "metadata": {},
   "outputs": [],
   "source": [
    "# scaler = StandardScaler()\n",
    "\n",
    "\n"
   ]
  },
  {
   "cell_type": "markdown",
   "metadata": {},
   "source": [
    "scorer  = make_scorer(sc.rmsle, greater_is_better=True)\n",
    "\n",
    "#How to manage many models\n",
    "pipelines = []\n",
    "pipelines.append(('ScaledLR', Pipeline([('Scaler', StandardScaler()),('LR',LinearRegression())])))\n",
    "pipelines.append(('ScaledLASSO', Pipeline([('Scaler', StandardScaler()),('LASSO', Lasso())])))\n",
    "pipelines.append(('ScaledRidge', Pipeline([('Scaler', StandardScaler()),('EN', Ridge())])))"
   ]
  },
  {
   "cell_type": "code",
   "execution_count": null,
   "metadata": {},
   "outputs": [],
   "source": [
    "results = []\n",
    "names = []\n",
    "for name, model in pipelines:\n",
    "    kfold = KFold(n_splits=3, random_state=21)\n",
    "    cv_results = cross_val_score(model, X_train, y_train, cv=kfold, scoring=scorer)\n",
    "    results.append(cv_results)\n",
    "    names.append(name)\n",
    "    msg = \"%s: %f (%f)\" % (name, cv_results.mean(), cv_results.std())\n",
    "    \n",
    "    plt.plot(cv_results)\n",
    "#     plt.xlabel('n')\n",
    "#     plt.ylabel('rmse')\n",
    "#     plt.title('average test rmse vs sample size n');\n",
    "    \n",
    "    print(msg)"
   ]
  },
  {
   "cell_type": "markdown",
   "metadata": {},
   "source": [
    "## Run classifier on test data (has new features)"
   ]
  },
  {
   "cell_type": "markdown",
   "metadata": {},
   "source": [
    "## make series of pairwise plots"
   ]
  },
  {
   "cell_type": "markdown",
   "metadata": {},
   "source": [
    "## plug in knn"
   ]
  },
  {
   "cell_type": "code",
   "execution_count": null,
   "metadata": {},
   "outputs": [],
   "source": []
  }
 ],
 "metadata": {
  "kernelspec": {
   "display_name": "Python 3",
   "language": "python",
   "name": "python3"
  },
  "language_info": {
   "codemirror_mode": {
    "name": "ipython",
    "version": 3
   },
   "file_extension": ".py",
   "mimetype": "text/x-python",
   "name": "python",
   "nbconvert_exporter": "python",
   "pygments_lexer": "ipython3",
   "version": "3.6.4"
  }
 },
 "nbformat": 4,
 "nbformat_minor": 2
}
