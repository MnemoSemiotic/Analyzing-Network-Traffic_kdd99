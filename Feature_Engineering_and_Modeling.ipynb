{
 "cells": [
  {
   "cell_type": "code",
   "execution_count": 450,
   "metadata": {},
   "outputs": [
    {
     "data": {
      "text/html": [
       "<style>\n",
       "table {float:left}\n",
       "</style>"
      ],
      "text/plain": [
       "<IPython.core.display.HTML object>"
      ]
     },
     "metadata": {},
     "output_type": "display_data"
    }
   ],
   "source": [
    "%%html\n",
    "<style>\n",
    "table {float:left}\n",
    "</style>"
   ]
  },
  {
   "cell_type": "code",
   "execution_count": 451,
   "metadata": {},
   "outputs": [],
   "source": [
    "# my python files\n",
    "import src.analytics as tics\n",
    "import src.plotting_functions as pltfuncs\n",
    "import src.transforms as trans\n",
    "import src.hyp_test as hyp\n",
    "import src.score_model as sc\n",
    "import src.roc_curve as roc\n",
    "\n",
    "\n",
    "# Imports\n",
    "from matplotlib import pyplot as plt\n",
    "import seaborn as sns\n",
    "import numpy as np\n",
    "import scipy.stats as stats\n",
    "from scipy.stats import kendalltau\n",
    "import pandas as pd\n",
    "import matplotlib.pyplot as plt\n",
    "from sklearn.model_selection import cross_val_score, KFold, train_test_split\n",
    "from sklearn.preprocessing import StandardScaler\n",
    "from sklearn.metrics import make_scorer\n",
    "from sklearn.linear_model import LinearRegression, LogisticRegression, Lasso, Ridge\n",
    "from sklearn.pipeline import Pipeline\n",
    "from basis_expansions.basis_expansions import (\n",
    "    Polynomial, LinearSpline, NaturalCubicSpline)\n",
    "from regression_tools.dftransformers import (\n",
    "    ColumnSelector, Identity, FeatureUnion, MapFeature, Intercept)\n",
    "from regression_tools.plotting_tools import (\n",
    "    plot_univariate_smooth,\n",
    "    bootstrap_train,\n",
    "    display_coef,\n",
    "    plot_bootstrap_coefs,\n",
    "    plot_partial_depenence,\n",
    "    plot_partial_dependences,\n",
    "    predicteds_vs_actuals)\n",
    "from sklearn.metrics import roc_curve, auc\n",
    "\n",
    "\n",
    "\n",
    "\n",
    "\n",
    "%matplotlib inline"
   ]
  },
  {
   "cell_type": "code",
   "execution_count": 452,
   "metadata": {},
   "outputs": [],
   "source": [
    "# On OSX requires brew install coreutils, using gshuf instead of shuf\n",
    "sample_name = 'data/sample_random_subset.csv'\n",
    "tics.create_random_samples('data/kddcup.data', 1000, sample_name)\n",
    "\n",
    "df = trans.read_data(sample_name)"
   ]
  },
  {
   "cell_type": "markdown",
   "metadata": {},
   "source": [
    "### Dropping Features\n"
   ]
  },
  {
   "cell_type": "markdown",
   "metadata": {},
   "source": [
    "##### Highly Correlated Features (at 100,000 samples)\n",
    "```\n",
    " feature 1                      feature 2                  correlation coeff\n",
    "dst_host_srv_serror_rate     srv_serror_rate                0.999370\n",
    "dst_host_srv_serror_rate     dst_host_serror_rate           0.999165\n",
    "srv_serror_rate              serror_rate                    0.999086\n",
    "dst_host_serror_rate         serror_rate                    0.999039\n",
    "serror_rate                  dst_host_serror_rate           0.999039\n",
    "dst_host_srv_serror_rate     serror_rate                    0.998765\n",
    "dst_host_serror_rate         srv_serror_rate                0.998761\n",
    "srv_rerror_rate              rerror_rate                    0.997359\n",
    "srv_rerror_rate              dst_host_srv_rerror_rate       0.989355\n",
    "rerror_rate                  dst_host_srv_rerror_rate       0.988520\n",
    "rerror_rate                  dst_host_rerror_rate           0.986976\n",
    "dst_host_rerror_rate         dst_host_srv_rerror_rate       0.985911\n",
    "srv_rerror_rate              dst_host_rerror_rate           0.984211\n",
    "dst_host_srv_count           dst_host_same_srv_rate         0.976918\n",
    "dst_host_same_src_port_rate  srv_count                      0.947230\n",
    "count                        srv_count                      0.944881\n",
    "dst_host_same_srv_rate       same_srv_rate                  0.929902\n",
    "same_srv_rate                dst_host_srv_count             0.904395\n",
    "same_srv_rate                dst_host_serror_rate           0.866402\n",
    "serror_rate                  same_srv_rate                  0.866047\n",
    "count                        dst_host_same_src_port_rate    0.865827\n",
    "dst_host_srv_serror_rate     same_srv_rate                  0.865370\n",
    "srv_serror_rate              same_srv_rate                  0.864885\n",
    "dst_host_same_srv_rate       dst_host_serror_rate           0.808542\n",
    "dst_host_same_srv_rate       serror_rate                    0.807922\n",
    "dst_host_srv_serror_rate     dst_host_same_srv_rate         0.807354\n",
    "dst_host_same_srv_rate       srv_serror_rate                0.806843\n",
    "```\n"
   ]
  },
  {
   "cell_type": "code",
   "execution_count": 453,
   "metadata": {},
   "outputs": [],
   "source": [
    "# counts the number of unique items per category, in order to consider dummyizing\n",
    "category_unique_counts = tics.count_categories(df)"
   ]
  },
  {
   "cell_type": "code",
   "execution_count": 454,
   "metadata": {},
   "outputs": [],
   "source": [
    "# Time to actually drop some features, in particular anything correlated above .80 above\n",
    "\n",
    "df.drop(['dst_host_srv_serror_rate', 'srv_serror_rate', 'dst_host_serror_rate', 'serror_rate', 'srv_rerror_rate',\n",
    "         'rerror_rate', 'dst_host_rerror_rate','dst_host_srv_count', 'dst_host_same_src_port_rate',\n",
    "         'count', 'dst_host_same_srv_rate', 'same_srv_rate'], axis=1, inplace=True)\n",
    "\n"
   ]
  },
  {
   "cell_type": "code",
   "execution_count": 455,
   "metadata": {},
   "outputs": [
    {
     "name": "stdout",
     "output_type": "stream",
     "text": [
      "dropped land\n",
      "dropped urgent\n",
      "dropped num_failed_logins\n",
      "dropped su_attempted\n",
      "dropped num_file_creations\n",
      "dropped num_shells\n",
      "dropped num_access_files\n",
      "dropped num_outbound_cmds\n",
      "dropped is_host_login\n",
      "dropped is_guest_login\n"
     ]
    }
   ],
   "source": [
    "# Drop columns with zero values\n",
    "def drop_zeros_columns(df):\n",
    "    for i in list(df.columns):\n",
    "        if df[i].min() == df[i].max():\n",
    "            df.drop([i], axis=1, inplace=True)\n",
    "            print('dropped {}'.format(i))\n",
    "            \n",
    "    \n",
    "drop_zeros_columns(df)"
   ]
  },
  {
   "cell_type": "code",
   "execution_count": 456,
   "metadata": {},
   "outputs": [
    {
     "data": {
      "text/plain": [
       "Index(['duration', 'protocol_type', 'service', 'flag', 'src_bytes',\n",
       "       'dst_bytes', 'wrong_fragment', 'hot', 'logged_in', 'num_compromised',\n",
       "       'root_shell', 'num_root', 'srv_count', 'diff_srv_rate',\n",
       "       'srv_diff_host_rate', 'dst_host_count', 'dst_host_diff_srv_rate',\n",
       "       'dst_host_srv_diff_host_rate', 'dst_host_srv_rerror_rate', 'label'],\n",
       "      dtype='object')"
      ]
     },
     "execution_count": 456,
     "metadata": {},
     "output_type": "execute_result"
    }
   ],
   "source": [
    "df.columns"
   ]
  },
  {
   "cell_type": "markdown",
   "metadata": {},
   "source": [
    "### Attempting to Model\n",
    "#### First try to get a model to work with predicting between two possible y values\n",
    "- steps to get there\n",
    "    - transform Label into its attack_category\n",
    "    - transform attack_category into only DOS (2), the rest zero, as DOS is the most prevalent type"
   ]
  },
  {
   "cell_type": "code",
   "execution_count": 459,
   "metadata": {},
   "outputs": [
    {
     "data": {
      "text/plain": [
       "2    786\n",
       "0    207\n",
       "1      6\n",
       "3      1\n",
       "Name: attack_category, dtype: int64"
      ]
     },
     "execution_count": 459,
     "metadata": {},
     "output_type": "execute_result"
    }
   ],
   "source": [
    "# read in label names csv and send it as dictionary to mapping function\n",
    "label_names = ['label', 'attack_category', 'attack_cat_num']\n",
    "labels_loc = 'data/categories.csv'\n",
    "labels_to_categories = pd.read_csv(labels_loc, header=None)\n",
    "labels_to_categories.columns = label_names\n",
    "col_name = 'label'\n",
    "new_col_name = 'attack_category'\n",
    "\n",
    "df2 = trans.rewrite_values(df, dict(zip(labels_to_categories.label, labels_to_categories.attack_cat_num)), col_name, new_col_name)\n",
    "df2['attack_category'].value_counts()"
   ]
  },
  {
   "cell_type": "code",
   "execution_count": 460,
   "metadata": {},
   "outputs": [
    {
     "data": {
      "text/plain": [
       "1    786\n",
       "0    214\n",
       "Name: attack_category, dtype: int64"
      ]
     },
     "execution_count": 460,
     "metadata": {},
     "output_type": "execute_result"
    }
   ],
   "source": [
    "# rewrite all except attack_category types 2 to zero, put to new dataframe\n",
    "df3 = trans.rewrite_category2_to_zeros(df2)\n",
    "df3['attack_category'].value_counts()\n"
   ]
  },
  {
   "cell_type": "code",
   "execution_count": 461,
   "metadata": {},
   "outputs": [
    {
     "data": {
      "text/plain": [
       "Index(['duration', 'protocol_type', 'service', 'flag', 'src_bytes',\n",
       "       'dst_bytes', 'wrong_fragment', 'hot', 'logged_in', 'num_compromised',\n",
       "       'root_shell', 'num_root', 'srv_count', 'diff_srv_rate',\n",
       "       'srv_diff_host_rate', 'dst_host_count', 'dst_host_diff_srv_rate',\n",
       "       'dst_host_srv_diff_host_rate', 'dst_host_srv_rerror_rate', 'label',\n",
       "       'attack_category'],\n",
       "      dtype='object')"
      ]
     },
     "execution_count": 461,
     "metadata": {},
     "output_type": "execute_result"
    }
   ],
   "source": [
    "df3.columns"
   ]
  },
  {
   "cell_type": "code",
   "execution_count": 465,
   "metadata": {},
   "outputs": [
    {
     "ename": "ValueError",
     "evalue": "labels ['attack_category'] not contained in axis",
     "output_type": "error",
     "traceback": [
      "\u001b[0;31m-----------------------------------------------------------------\u001b[0m",
      "\u001b[0;31mValueError\u001b[0m                      Traceback (most recent call last)",
      "\u001b[0;32m<ipython-input-465-56844299e767>\u001b[0m in \u001b[0;36m<module>\u001b[0;34m()\u001b[0m\n\u001b[1;32m     10\u001b[0m \u001b[0;34m\u001b[0m\u001b[0m\n\u001b[1;32m     11\u001b[0m \u001b[0;31m# X['attack_category'].value_counts()\u001b[0m\u001b[0;34m\u001b[0m\u001b[0;34m\u001b[0m\u001b[0m\n\u001b[0;32m---> 12\u001b[0;31m \u001b[0mdf\u001b[0m\u001b[0;34m.\u001b[0m\u001b[0mdrop\u001b[0m\u001b[0;34m(\u001b[0m\u001b[0;34m[\u001b[0m\u001b[0;34m'attack_category'\u001b[0m\u001b[0;34m]\u001b[0m\u001b[0;34m,\u001b[0m \u001b[0maxis\u001b[0m\u001b[0;34m=\u001b[0m\u001b[0;36m1\u001b[0m\u001b[0;34m,\u001b[0m \u001b[0minplace\u001b[0m\u001b[0;34m=\u001b[0m\u001b[0;32mTrue\u001b[0m\u001b[0;34m)\u001b[0m\u001b[0;34m\u001b[0m\u001b[0m\n\u001b[0m",
      "\u001b[0;32m~/anaconda3/lib/python3.6/site-packages/pandas/core/generic.py\u001b[0m in \u001b[0;36mdrop\u001b[0;34m(self, labels, axis, index, columns, level, inplace, errors)\u001b[0m\n\u001b[1;32m   2528\u001b[0m         \u001b[0;32mfor\u001b[0m \u001b[0maxis\u001b[0m\u001b[0;34m,\u001b[0m \u001b[0mlabels\u001b[0m \u001b[0;32min\u001b[0m \u001b[0maxes\u001b[0m\u001b[0;34m.\u001b[0m\u001b[0mitems\u001b[0m\u001b[0;34m(\u001b[0m\u001b[0;34m)\u001b[0m\u001b[0;34m:\u001b[0m\u001b[0;34m\u001b[0m\u001b[0m\n\u001b[1;32m   2529\u001b[0m             \u001b[0;32mif\u001b[0m \u001b[0mlabels\u001b[0m \u001b[0;32mis\u001b[0m \u001b[0;32mnot\u001b[0m \u001b[0;32mNone\u001b[0m\u001b[0;34m:\u001b[0m\u001b[0;34m\u001b[0m\u001b[0m\n\u001b[0;32m-> 2530\u001b[0;31m                 \u001b[0mobj\u001b[0m \u001b[0;34m=\u001b[0m \u001b[0mobj\u001b[0m\u001b[0;34m.\u001b[0m\u001b[0m_drop_axis\u001b[0m\u001b[0;34m(\u001b[0m\u001b[0mlabels\u001b[0m\u001b[0;34m,\u001b[0m \u001b[0maxis\u001b[0m\u001b[0;34m,\u001b[0m \u001b[0mlevel\u001b[0m\u001b[0;34m=\u001b[0m\u001b[0mlevel\u001b[0m\u001b[0;34m,\u001b[0m \u001b[0merrors\u001b[0m\u001b[0;34m=\u001b[0m\u001b[0merrors\u001b[0m\u001b[0;34m)\u001b[0m\u001b[0;34m\u001b[0m\u001b[0m\n\u001b[0m\u001b[1;32m   2531\u001b[0m \u001b[0;34m\u001b[0m\u001b[0m\n\u001b[1;32m   2532\u001b[0m         \u001b[0;32mif\u001b[0m \u001b[0minplace\u001b[0m\u001b[0;34m:\u001b[0m\u001b[0;34m\u001b[0m\u001b[0m\n",
      "\u001b[0;32m~/anaconda3/lib/python3.6/site-packages/pandas/core/generic.py\u001b[0m in \u001b[0;36m_drop_axis\u001b[0;34m(self, labels, axis, level, errors)\u001b[0m\n\u001b[1;32m   2560\u001b[0m                 \u001b[0mnew_axis\u001b[0m \u001b[0;34m=\u001b[0m \u001b[0maxis\u001b[0m\u001b[0;34m.\u001b[0m\u001b[0mdrop\u001b[0m\u001b[0;34m(\u001b[0m\u001b[0mlabels\u001b[0m\u001b[0;34m,\u001b[0m \u001b[0mlevel\u001b[0m\u001b[0;34m=\u001b[0m\u001b[0mlevel\u001b[0m\u001b[0;34m,\u001b[0m \u001b[0merrors\u001b[0m\u001b[0;34m=\u001b[0m\u001b[0merrors\u001b[0m\u001b[0;34m)\u001b[0m\u001b[0;34m\u001b[0m\u001b[0m\n\u001b[1;32m   2561\u001b[0m             \u001b[0;32melse\u001b[0m\u001b[0;34m:\u001b[0m\u001b[0;34m\u001b[0m\u001b[0m\n\u001b[0;32m-> 2562\u001b[0;31m                 \u001b[0mnew_axis\u001b[0m \u001b[0;34m=\u001b[0m \u001b[0maxis\u001b[0m\u001b[0;34m.\u001b[0m\u001b[0mdrop\u001b[0m\u001b[0;34m(\u001b[0m\u001b[0mlabels\u001b[0m\u001b[0;34m,\u001b[0m \u001b[0merrors\u001b[0m\u001b[0;34m=\u001b[0m\u001b[0merrors\u001b[0m\u001b[0;34m)\u001b[0m\u001b[0;34m\u001b[0m\u001b[0m\n\u001b[0m\u001b[1;32m   2563\u001b[0m             \u001b[0mdropped\u001b[0m \u001b[0;34m=\u001b[0m \u001b[0mself\u001b[0m\u001b[0;34m.\u001b[0m\u001b[0mreindex\u001b[0m\u001b[0;34m(\u001b[0m\u001b[0;34m**\u001b[0m\u001b[0;34m{\u001b[0m\u001b[0maxis_name\u001b[0m\u001b[0;34m:\u001b[0m \u001b[0mnew_axis\u001b[0m\u001b[0;34m}\u001b[0m\u001b[0;34m)\u001b[0m\u001b[0;34m\u001b[0m\u001b[0m\n\u001b[1;32m   2564\u001b[0m             \u001b[0;32mtry\u001b[0m\u001b[0;34m:\u001b[0m\u001b[0;34m\u001b[0m\u001b[0m\n",
      "\u001b[0;32m~/anaconda3/lib/python3.6/site-packages/pandas/core/indexes/base.py\u001b[0m in \u001b[0;36mdrop\u001b[0;34m(self, labels, errors)\u001b[0m\n\u001b[1;32m   3742\u001b[0m             \u001b[0;32mif\u001b[0m \u001b[0merrors\u001b[0m \u001b[0;34m!=\u001b[0m \u001b[0;34m'ignore'\u001b[0m\u001b[0;34m:\u001b[0m\u001b[0;34m\u001b[0m\u001b[0m\n\u001b[1;32m   3743\u001b[0m                 raise ValueError('labels %s not contained in axis' %\n\u001b[0;32m-> 3744\u001b[0;31m                                  labels[mask])\n\u001b[0m\u001b[1;32m   3745\u001b[0m             \u001b[0mindexer\u001b[0m \u001b[0;34m=\u001b[0m \u001b[0mindexer\u001b[0m\u001b[0;34m[\u001b[0m\u001b[0;34m~\u001b[0m\u001b[0mmask\u001b[0m\u001b[0;34m]\u001b[0m\u001b[0;34m\u001b[0m\u001b[0m\n\u001b[1;32m   3746\u001b[0m         \u001b[0;32mreturn\u001b[0m \u001b[0mself\u001b[0m\u001b[0;34m.\u001b[0m\u001b[0mdelete\u001b[0m\u001b[0;34m(\u001b[0m\u001b[0mindexer\u001b[0m\u001b[0;34m)\u001b[0m\u001b[0;34m\u001b[0m\u001b[0m\n",
      "\u001b[0;31mValueError\u001b[0m: labels ['attack_category'] not contained in axis"
     ]
    }
   ],
   "source": [
    "# Split y from the data\n",
    "y = df3['attack_category']\n",
    "X = df3.copy()\n",
    "\n",
    "# if 'label' in list(X.columns):\n",
    "#     X.drop('label', inplace=True)\n",
    "#     X.drop('attack_category', inplace=True)\n",
    "\n",
    "# X = pd.get_dummies(X)\n",
    "\n",
    "# X['attack_category'].value_counts()\n",
    "df.drop(['attack_category'], axis=1, inplace=True)"
   ]
  },
  {
   "cell_type": "markdown",
   "metadata": {},
   "source": [
    "### Attempting logistic regression"
   ]
  },
  {
   "cell_type": "code",
   "execution_count": 424,
   "metadata": {},
   "outputs": [
    {
     "name": "stderr",
     "output_type": "stream",
     "text": [
      "/Users/tbot/anaconda3/lib/python3.6/site-packages/sklearn/linear_model/base.py:340: RuntimeWarning: overflow encountered in exp\n",
      "  np.exp(prob, prob)\n",
      "/Users/tbot/anaconda3/lib/python3.6/site-packages/sklearn/metrics/ranking.py:571: UndefinedMetricWarning: No positive samples in y_true, true positive value should be meaningless\n",
      "  UndefinedMetricWarning)\n"
     ]
    },
    {
     "data": {
      "image/png": "[encoded data removed]",
      "text/plain": [
       "<matplotlib.figure.Figure at 0x1a4db8be80>"
      ]
     },
     "metadata": {},
     "output_type": "display_data"
    }
   ],
   "source": [
    "from sklearn.datasets import make_classification\n",
    "from sklearn.linear_model import LogisticRegression\n",
    "import matplotlib.pyplot as plt\n",
    "from sklearn.model_selection import train_test_split\n",
    "\n",
    "X_train, X_test, y_train, y_test = train_test_split(X, y)\n",
    "\n",
    "\n",
    "# scaler = StandardScaler().fit(X_train)\n",
    "# X_train_1 = scaler.transform(X_train)\n",
    "# X_test_1 = scaler.transform(X_test)\n",
    "\n",
    "model = LogisticRegression(class_weight='balanced')\n",
    "model.fit(X_train, y_train)\n",
    "probabilities = model.predict_proba(X_test)[:, 1]\n",
    "\n",
    "# tpr, fpr, thresholds = roc.roc_curve(probabilities, y_test)\n",
    "tpr, fpr, thresholds = roc_curve(y_test, probabilities, pos_label=2)\n",
    "\n",
    "plt.plot(fpr, tpr)\n",
    "plt.xlabel(\"False Positive Rate (1 - Specificity)\")\n",
    "plt.ylabel(\"True Positive Rate (Sensitivity, Recall)\")\n",
    "plt.title(\"ROC plot of Logistic Regression Thresholds\")\n",
    "plt.show()"
   ]
  },
  {
   "cell_type": "code",
   "execution_count": 422,
   "metadata": {},
   "outputs": [
    {
     "name": "stdout",
     "output_type": "stream",
     "text": [
      "  (0, 0)\t-0.00011155687405737859\n",
      "  (0, 1)\t-7.26643745232587e-05\n",
      "  (0, 2)\t-1.1579428600741251e-05\n",
      "  (0, 9)\t0.0006871441097257111\n",
      "  (0, 12)\t0.0030907665671198537\n"
     ]
    },
    {
     "data": {
      "text/plain": [
       "Index(['srv_count', 'dst_host_count'], dtype='object')"
      ]
     },
     "execution_count": 422,
     "metadata": {},
     "output_type": "execute_result"
    }
   ],
   "source": [
    "# scaler = StandardScaler()\n",
    "\n",
    "alpha = 0.1\n",
    "lasso = Lasso(alpha=alpha)\n",
    "lasso.fit(X_train, y_train)\n",
    "\n",
    "print( lasso.sparse_coef_)\n",
    "\n",
    "# remove 0 coefficients \n",
    "new_X = X_train.loc[:, lasso.coef_ > 0]\n",
    "new_X.columns"
   ]
  },
  {
   "cell_type": "markdown",
   "metadata": {},
   "source": [
    "scorer  = make_scorer(sc.rmsle, greater_is_better=True)\n",
    "\n",
    "#How to manage many models\n",
    "pipelines = []\n",
    "pipelines.append(('ScaledLR', Pipeline([('Scaler', StandardScaler()),('LR',LinearRegression())])))\n",
    "pipelines.append(('ScaledLASSO', Pipeline([('Scaler', StandardScaler()),('LASSO', Lasso())])))\n",
    "pipelines.append(('ScaledRidge', Pipeline([('Scaler', StandardScaler()),('EN', Ridge())])))"
   ]
  },
  {
   "cell_type": "code",
   "execution_count": 407,
   "metadata": {},
   "outputs": [
    {
     "name": "stdout",
     "output_type": "stream",
     "text": [
      "ScaledLR: 498291499318.944519 (279384318374.669800)\n",
      "ScaledLASSO: 0.782459 (0.018614)\n",
      "ScaledRidge: 0.147064 (0.026918)\n"
     ]
    },
    {
     "data": {
      "image/png": "[encoded data removed]",
      "text/plain": [
       "<matplotlib.figure.Figure at 0x1a4de2a550>"
      ]
     },
     "metadata": {},
     "output_type": "display_data"
    }
   ],
   "source": [
    "results = []\n",
    "names = []\n",
    "for name, model in pipelines:\n",
    "    kfold = KFold(n_splits=3, random_state=21)\n",
    "    cv_results = cross_val_score(model, X_train, y_train, cv=kfold, scoring=scorer)\n",
    "    results.append(cv_results)\n",
    "    names.append(name)\n",
    "    msg = \"%s: %f (%f)\" % (name, cv_results.mean(), cv_results.std())\n",
    "    \n",
    "    plt.plot(cv_results)\n",
    "#     plt.xlabel('n')\n",
    "#     plt.ylabel('rmse')\n",
    "#     plt.title('average test rmse vs sample size n');\n",
    "    \n",
    "    print(msg)"
   ]
  },
  {
   "cell_type": "code",
   "execution_count": null,
   "metadata": {},
   "outputs": [],
   "source": []
  },
  {
   "cell_type": "code",
   "execution_count": null,
   "metadata": {},
   "outputs": [],
   "source": []
  },
  {
   "cell_type": "code",
   "execution_count": null,
   "metadata": {},
   "outputs": [],
   "source": []
  }
 ],
 "metadata": {
  "kernelspec": {
   "display_name": "Python 3",
   "language": "python",
   "name": "python3"
  },
  "language_info": {
   "codemirror_mode": {
    "name": "ipython",
    "version": 3
   },
   "file_extension": ".py",
   "mimetype": "text/x-python",
   "name": "python",
   "nbconvert_exporter": "python",
   "pygments_lexer": "ipython3",
   "version": "3.6.4"
  }
 },
 "nbformat": 4,
 "nbformat_minor": 2
}
